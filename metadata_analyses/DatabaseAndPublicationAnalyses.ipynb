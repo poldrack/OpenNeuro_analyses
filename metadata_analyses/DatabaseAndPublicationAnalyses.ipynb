{
 "cells": [
  {
   "cell_type": "markdown",
   "metadata": {},
   "source": [
    "## Analysis of publications related to OpenNeuro"
   ]
  },
  {
   "cell_type": "code",
   "execution_count": 1,
   "metadata": {
    "tags": []
   },
   "outputs": [],
   "source": [
    "import numpy as np\n",
    "import pandas as pd\n",
    "import os\n",
    "import json\n",
    "import seaborn as sns\n",
    "import matplotlib.pyplot as plt\n",
    "from collections import defaultdict\n",
    "import re\n",
    "import matplotlib.pyplot as plt\n",
    "from matplotlib.ticker import ScalarFormatter\n",
    "import matplotlib.ticker as tkr \n",
    "import requests \n",
    "from datetime import datetime\n",
    "import sys\n",
    "import matplotlib\n",
    "from collections import defaultdict"
   ]
  },
  {
   "cell_type": "code",
   "execution_count": 2,
   "metadata": {
    "tags": []
   },
   "outputs": [],
   "source": [
    "datadir = '../data/openneuro'\n",
    "figdir = '../figures'"
   ]
  },
  {
   "cell_type": "code",
   "execution_count": 7,
   "metadata": {
    "tags": []
   },
   "outputs": [],
   "source": [
    "# use metadata obtained from API - based on Joe's metadata_update.py\n",
    "\n",
    "headers = {\n",
    "    'Accept-Encoding': 'gzip, deflate, br',\n",
    "    'Content-Type': 'application/json',\n",
    "    'Accept': 'application/json',\n",
    "    'Connection': 'keep-alive',\n",
    "    'DNT': '1',\n",
    "    'Origin': 'https://openneuro.org',\n",
    "}\n",
    "\n",
    "query = '''\n",
    "{\n",
    "    edges {\n",
    "        cursor,\n",
    "        node {\n",
    "            id,\n",
    "            publishDate,\n",
    "            latestSnapshot {\n",
    "                tag, \n",
    "                dataset {\n",
    "                    name, \n",
    "                    publishDate,\n",
    "                    metadata {\n",
    "                      trialCount,\n",
    "                      studyDesign,\n",
    "                      studyDomain,\n",
    "                      studyLongitudinal,\n",
    "                      dataProcessed,\n",
    "                      species,\n",
    "                      associatedPaperDOI,\n",
    "                      openneuroPaperDOI\n",
    "                      dxStatus\n",
    "                    }\n",
    "                }, \n",
    "                description {\n",
    "                    SeniorAuthor\n",
    "                },\n",
    "                summary {\n",
    "                    subjects,\n",
    "                    modalities, \n",
    "                    secondaryModalities, \n",
    "                    subjectMetadata {\n",
    "                        age\n",
    "                    }, \n",
    "                    tasks,\n",
    "                    dataProcessed\n",
    "                }\n",
    "            }\n",
    "        }\n",
    "    }\n",
    "}\n",
    "'''.replace('\\n','')\n",
    "data = '{\"query\":\"query testq{datasets ' + query + '}\"}'\n",
    "\n",
    "\n",
    "response = requests.post('https://openneuro.org/crn/graphql', headers=headers, data=data)\n",
    "response = response.json()\n",
    "\n",
    "datasets = {}\n",
    "\n",
    "while True:\n",
    "    for y in response['data']['datasets']['edges']:\n",
    "        \n",
    "        datasets[y['node']['id']] = y\n",
    "                \n",
    "    if len(response['data']['datasets']['edges']) < 25:\n",
    "        break\n",
    "\n",
    "    next_cur = y['cursor']\n",
    "    data = f'{{\"query\": \"query testq{{datasets(after: \\\\\"{next_cur}\\\\\") ' + query + '}\"}'\n",
    "    response = requests.post('https://openneuro.org/crn/graphql', headers=headers, data=data)\n",
    "    response = response.json()"
   ]
  },
  {
   "cell_type": "code",
   "execution_count": null,
   "metadata": {
    "tags": []
   },
   "outputs": [
    {
     "data": {
      "text/plain": [
       "857"
      ]
     },
     "execution_count": 3,
     "metadata": {},
     "output_type": "execute_result"
    }
   ],
   "source": [
    "len(datasets)"
   ]
  },
  {
   "cell_type": "code",
   "execution_count": 9,
   "metadata": {
    "tags": []
   },
   "outputs": [],
   "source": [
    "# utility functions to clean things up - from metadata_update.py\n",
    "def format_modalities(all_modalities):\n",
    "        Modalities_available_list = []\n",
    "        if any(('MRI_' in e for e in all_modalities)):\n",
    "            all_modalities.remove('MRI')\n",
    "            for m in all_modalities:\n",
    "                if 'MRI' in m:\n",
    "                    scan_type = scan_dict[m.split('MRI_',1)[1].lower()]\n",
    "                    new_m = \"MRI - \" + scan_type\n",
    "                    Modalities_available_list.append(new_m)\n",
    "                else:\n",
    "                    Modalities_available_list.append(m)\n",
    "        else:\n",
    "            Modalities_available_list = all_modalities\n",
    "        return ', '.join(Modalities_available_list)\n",
    "\n",
    "def format_ages(raw_age_list):\n",
    "    formatted_list = []\n",
    "    if raw_age_list:\n",
    "        age_list = sorted([x['age'] for x in raw_age_list if x['age']])\n",
    "        for key,value in age_dict.items():\n",
    "            if any(x for x in age_list if x>=key[0] and x<=key[1]):\n",
    "                formatted_list.append(value)        \n",
    "        return ', '.join(formatted_list)\n",
    "    else:\n",
    "        return ''\n",
    "\n",
    "def format_name(name):\n",
    "    if not name:\n",
    "        return ''\n",
    "    elif ',' not in name:\n",
    "        last = name.split(' ')[-1]\n",
    "        first = ' '.join(name.split(' ')[0:-1])\n",
    "        new_name = last + ', ' + first\n",
    "        return new_name\n",
    "    else:\n",
    "        return name   \n"
   ]
  },
  {
   "cell_type": "code",
   "execution_count": 16,
   "metadata": {
    "tags": []
   },
   "outputs": [
    {
     "name": "stdout",
     "output_type": "stream",
     "text": [
      "skipping ds002385\n",
      "skipping ds003766\n",
      "skipping ds003816\n",
      "skipping ds005079\n",
      "skipping ds005270\n"
     ]
    }
   ],
   "source": [
    "# convert to named tuple for ultimate conversion into pd data frame\n",
    "# this is converted pretty much directly from metadata_update.py\n",
    "\n",
    "scan_dict = {'anatomical':'anat','structural':'anat','functional':'func','behavioral':'beh','diffusion':'dwi','perfusion':'perf'}\n",
    "age_dict = {(0,10):'0-10', (11,17):'11-17', (18,25):'18-25', (26,34):'26-34', (35,50):'35-50', (51,65):'51-65', (66,1000):'66+'}\n",
    "bool_dict = {True:'yes',False:'no',None:'no'}\n",
    "date_arg_format = '%m/%d/%Y'\n",
    "date_input_format = '%Y-%m-%d'\n",
    "date_output_format = '%-m/%-d/%Y'\n",
    "\n",
    "\n",
    "output = []\n",
    "\n",
    "for accession_Number, y in datasets.items():\n",
    "    Dataset_made_public_datetime = datetime.strptime(y['node']['publishDate'][:10],date_input_format)\n",
    "    Dataset_URL = os.path.join('https://openneuro.org/datasets/',accession_Number,'versions',y['node']['latestSnapshot']['tag'])\n",
    "    Dataset_name = y['node']['latestSnapshot']['dataset']['name']\n",
    "    Dataset_made_public = Dataset_made_public_datetime.strftime(date_output_format)\n",
    "    Most_recent_snapshot_date = datetime.strptime(y['node']['latestSnapshot']['dataset']['publishDate'][:10],date_input_format).strftime(date_output_format)\n",
    "    if y['node']['latestSnapshot']['summary'] is None:\n",
    "        print('skipping',accession_Number)\n",
    "        continue\n",
    "    if y['node']['latestSnapshot']['summary'] != None:\n",
    "        Number_of_subjects = len(y['node']['latestSnapshot']['summary']['subjects'])\n",
    "        Modalities_available = format_modalities(y['node']['latestSnapshot']['summary']['secondaryModalities'] + y['node']['latestSnapshot']['summary']['modalities']) \n",
    "        Ages = format_ages(y['node']['latestSnapshot']['summary']['subjectMetadata'])\n",
    "        Tasks_completed = ', '.join(y['node']['latestSnapshot']['summary']['tasks'])\n",
    "    else:\n",
    "        Number_of_subjects = len(y['node']['latestSnapshot']['summary']['subjects'])\n",
    "        Modalities_available = format_modalities(y['node']['latestSnapshot']['summary']['secondaryModalities'] + y['node']['latestSnapshot']['summary']['modalities']) \n",
    "        Ages = format_ages(y['node']['latestSnapshot']['summary']['subjectMetadata'])\n",
    "        Tasks_completed = ', '.join(y['node']['latestSnapshot']['summary']['tasks'])\n",
    "        \n",
    "    if y['node']['latestSnapshot']['dataset']['metadata'] is not None:\n",
    "        DX_status = y['node']['latestSnapshot']['dataset']['metadata']['dxStatus']\n",
    "        Number_of_trials = y['node']['latestSnapshot']['dataset']['metadata']['trialCount']\n",
    "        Study_design = y['node']['latestSnapshot']['dataset']['metadata']['studyDesign']\n",
    "        Domain_studied = y['node']['latestSnapshot']['dataset']['metadata']['studyDomain']\n",
    "        Longitudinal = 'Yes' if y['node']['latestSnapshot']['dataset']['metadata']['studyLongitudinal'] == 'Longitudinal' else 'No'\n",
    "        Processed_data = 'Yes' if y['node']['latestSnapshot']['dataset']['metadata']['dataProcessed'] == True else 'No'\n",
    "        Species = y['node']['latestSnapshot']['dataset']['metadata']['species']\n",
    "        DOI_of_paper_associated_with_DS = y['node']['latestSnapshot']['dataset']['metadata']['associatedPaperDOI']\n",
    "        DOI_of_paper_because_DS_on_OpenNeuro = y['node']['latestSnapshot']['dataset']['metadata']['openneuroPaperDOI']\n",
    "    else:\n",
    "        DX_status = ''\n",
    "        Number_of_trials = ''\n",
    "        Study_design = ''\n",
    "        Domain_studied = ''\n",
    "        Longitudinal = ''\n",
    "        Processed_data = ''\n",
    "        Species = ''\n",
    "        DOI_of_paper_associated_with_DS = ''\n",
    "        DOI_of_paper_because_DS_on_OpenNeuro = ''\n",
    "\n",
    "    Senior_Author = format_name(y['node']['latestSnapshot']['description']['SeniorAuthor'])\n",
    "    line_raw = [accession_Number,Dataset_URL,Dataset_name,Dataset_made_public,Most_recent_snapshot_date,Number_of_subjects, \\\n",
    "        Modalities_available,DX_status,Ages,Tasks_completed,Number_of_trials,Study_design,Domain_studied,Longitudinal,Processed_data, \\\n",
    "            Species,DOI_of_paper_associated_with_DS,DOI_of_paper_because_DS_on_OpenNeuro,Senior_Author]\n",
    "    line = ['' if x == None else str(x) for x in line_raw]\n",
    "    output.append(line)\n"
   ]
  },
  {
   "cell_type": "code",
   "execution_count": 17,
   "metadata": {
    "tags": []
   },
   "outputs": [],
   "source": [
    "colnames = ['AccessionNumber', 'Dataset URL', 'Dataset name', 'ReleaseDate',\n",
    "       'Most recent snapshot date (MM/DD/YYYY)', 'NSubjects', 'Modalities',\n",
    "       'DX status(es)', 'Ages (range)', 'Tasks completed?',\n",
    "       '# of trials (if applicable)', 'Study design', 'Domain studied',\n",
    "       'Longitudinal?', 'Processed data?', 'Species',\n",
    "       'DOI of paper associated with DS (from submitter lab)',\n",
    "       'DOI of paper because DS on OpenNeuro',\n",
    "       'Senior Author (lab that collected data) Last, First']\n",
    "\n",
    "metadata = pd.DataFrame(output, columns=colnames)\n",
    "metadata['NSubjects'] = [int(i) for i in metadata['NSubjects']]\n",
    "metadata.to_csv('../data/openneuro/metadata_sheet.csv')"
   ]
  },
  {
   "cell_type": "code",
   "execution_count": 18,
   "metadata": {
    "tags": []
   },
   "outputs": [],
   "source": [
    "metadata['ReleaseDate'] = pd.to_datetime(metadata['ReleaseDate'])\n",
    "\n",
    "# Collapse any dates prior to 07/17/2018 when OpenfMRI datasets were uploaded\n",
    "#metadata.loc[metadata[\"ReleaseDate\"] < \"2018-07-17\", \"ReleaseDate\"] = \"2018-07-17\""
   ]
  },
  {
   "cell_type": "markdown",
   "metadata": {},
   "source": [
    "## Statistics on the database"
   ]
  },
  {
   "cell_type": "code",
   "execution_count": 19,
   "metadata": {
    "tags": []
   },
   "outputs": [
    {
     "name": "stdout",
     "output_type": "stream",
     "text": [
      "Number of datasets: 1057\n",
      "Number of datasets: 1090\n"
     ]
    }
   ],
   "source": [
    "print('Number of datasets:', len(metadata['Dataset name'].unique()))\n",
    "print('Number of datasets:', len(metadata['AccessionNumber'].unique()))\n"
   ]
  },
  {
   "cell_type": "code",
   "execution_count": 20,
   "metadata": {
    "tags": []
   },
   "outputs": [
    {
     "name": "stdout",
     "output_type": "stream",
     "text": [
      "Number of subjets: 47535\n"
     ]
    }
   ],
   "source": [
    "print('Number of subjets:', metadata['NSubjects'].sum())\n"
   ]
  },
  {
   "cell_type": "code",
   "execution_count": 21,
   "metadata": {
    "tags": []
   },
   "outputs": [
    {
     "name": "stdout",
     "output_type": "stream",
     "text": [
      "Number of data paper DOIs: 236\n",
      "Proportion of data paper DOIs: 0.21651376146788992\n"
     ]
    }
   ],
   "source": [
    "data_paper_dois = metadata['DOI of paper associated with DS (from submitter lab)'].unique()\n",
    "print(f'Number of data paper DOIs: {data_paper_dois.shape[0]}')\n",
    "print(f'Proportion of data paper DOIs: {data_paper_dois.shape[0]/metadata.shape[0]}')"
   ]
  },
  {
   "cell_type": "code",
   "execution_count": 22,
   "metadata": {
    "tags": []
   },
   "outputs": [
    {
     "name": "stdout",
     "output_type": "stream",
     "text": [
      "Number of user paper DOIs: 153\n"
     ]
    }
   ],
   "source": [
    "user_paper_dois = metadata['DOI of paper because DS on OpenNeuro'].unique()\n",
    "print(f'Number of user paper DOIs: {user_paper_dois.shape[0]}')"
   ]
  },
  {
   "cell_type": "markdown",
   "metadata": {},
   "source": [
    "Clean up data to create plots"
   ]
  },
  {
   "cell_type": "code",
   "execution_count": 23,
   "metadata": {
    "tags": []
   },
   "outputs": [
    {
     "name": "stdout",
     "output_type": "stream",
     "text": [
      "Earliest dataset: 2016-10-12T00:00:00.000000000\n",
      "Latest dataset: 2024-06-24T00:00:00.000000000\n"
     ]
    },
    {
     "data": {
      "text/html": [
       "<div>\n",
       "<style scoped>\n",
       "    .dataframe tbody tr th:only-of-type {\n",
       "        vertical-align: middle;\n",
       "    }\n",
       "\n",
       "    .dataframe tbody tr th {\n",
       "        vertical-align: top;\n",
       "    }\n",
       "\n",
       "    .dataframe thead th {\n",
       "        text-align: right;\n",
       "    }\n",
       "</style>\n",
       "<table border=\"1\" class=\"dataframe\">\n",
       "  <thead>\n",
       "    <tr style=\"text-align: right;\">\n",
       "      <th></th>\n",
       "      <th>AccessionNumber</th>\n",
       "      <th>Dataset URL</th>\n",
       "      <th>Dataset name</th>\n",
       "      <th>ReleaseDate</th>\n",
       "      <th>Most recent snapshot date (MM/DD/YYYY)</th>\n",
       "      <th>NSubjects</th>\n",
       "      <th>Modalities</th>\n",
       "      <th>DX status(es)</th>\n",
       "      <th>Ages (range)</th>\n",
       "      <th>Tasks completed?</th>\n",
       "      <th>...</th>\n",
       "      <th>Domain studied</th>\n",
       "      <th>Longitudinal?</th>\n",
       "      <th>Processed data?</th>\n",
       "      <th>Species</th>\n",
       "      <th>DOI of paper associated with DS (from submitter lab)</th>\n",
       "      <th>DOI of paper because DS on OpenNeuro</th>\n",
       "      <th>Senior Author (lab that collected data) Last, First</th>\n",
       "      <th>ones</th>\n",
       "      <th>cumulative</th>\n",
       "      <th>cumulative_subjects</th>\n",
       "    </tr>\n",
       "  </thead>\n",
       "  <tbody>\n",
       "    <tr>\n",
       "      <th>0</th>\n",
       "      <td>ds000001</td>\n",
       "      <td>https://openneuro.org/datasets/ds000001/versio...</td>\n",
       "      <td>ds001</td>\n",
       "      <td>2016-10-12</td>\n",
       "      <td>10/12/2016</td>\n",
       "      <td>16</td>\n",
       "      <td>MRI - func, MRI - anat</td>\n",
       "      <td></td>\n",
       "      <td>18-25, 26-34</td>\n",
       "      <td>balloon analog risk task</td>\n",
       "      <td>...</td>\n",
       "      <td></td>\n",
       "      <td>No</td>\n",
       "      <td>No</td>\n",
       "      <td></td>\n",
       "      <td></td>\n",
       "      <td></td>\n",
       "      <td>Poldrack, Russell A.</td>\n",
       "      <td>1</td>\n",
       "      <td>1</td>\n",
       "      <td>16</td>\n",
       "    </tr>\n",
       "    <tr>\n",
       "      <th>1</th>\n",
       "      <td>ds000002</td>\n",
       "      <td>https://openneuro.org/datasets/ds000002/versio...</td>\n",
       "      <td>Classification learning</td>\n",
       "      <td>2016-10-12</td>\n",
       "      <td>10/12/2016</td>\n",
       "      <td>17</td>\n",
       "      <td>MRI - func, MRI - anat</td>\n",
       "      <td></td>\n",
       "      <td>18-25, 26-34</td>\n",
       "      <td>deterministic classification, mixed event-rela...</td>\n",
       "      <td>...</td>\n",
       "      <td></td>\n",
       "      <td>No</td>\n",
       "      <td>No</td>\n",
       "      <td></td>\n",
       "      <td></td>\n",
       "      <td></td>\n",
       "      <td>Poldrack, R.A.</td>\n",
       "      <td>1</td>\n",
       "      <td>2</td>\n",
       "      <td>33</td>\n",
       "    </tr>\n",
       "    <tr>\n",
       "      <th>2</th>\n",
       "      <td>ds000003</td>\n",
       "      <td>https://openneuro.org/datasets/ds000003/versio...</td>\n",
       "      <td>Rhyme judgment</td>\n",
       "      <td>2016-10-13</td>\n",
       "      <td>10/13/2016</td>\n",
       "      <td>13</td>\n",
       "      <td>MRI - anat, MRI - func</td>\n",
       "      <td></td>\n",
       "      <td>18-25, 26-34, 35-50</td>\n",
       "      <td>rhyme judgment</td>\n",
       "      <td>...</td>\n",
       "      <td></td>\n",
       "      <td>No</td>\n",
       "      <td>No</td>\n",
       "      <td></td>\n",
       "      <td></td>\n",
       "      <td></td>\n",
       "      <td>Poldrack, Russell A.</td>\n",
       "      <td>1</td>\n",
       "      <td>3</td>\n",
       "      <td>46</td>\n",
       "    </tr>\n",
       "    <tr>\n",
       "      <th>3</th>\n",
       "      <td>ds000005</td>\n",
       "      <td>https://openneuro.org/datasets/ds000005/versio...</td>\n",
       "      <td>ds000005</td>\n",
       "      <td>2016-10-13</td>\n",
       "      <td>10/13/2016</td>\n",
       "      <td>16</td>\n",
       "      <td>MRI - func, MRI - anat</td>\n",
       "      <td></td>\n",
       "      <td>18-25, 26-34</td>\n",
       "      <td>mixed-gambles task</td>\n",
       "      <td>...</td>\n",
       "      <td></td>\n",
       "      <td>No</td>\n",
       "      <td>No</td>\n",
       "      <td></td>\n",
       "      <td></td>\n",
       "      <td></td>\n",
       "      <td>R.A., Poldrack</td>\n",
       "      <td>1</td>\n",
       "      <td>4</td>\n",
       "      <td>62</td>\n",
       "    </tr>\n",
       "    <tr>\n",
       "      <th>4</th>\n",
       "      <td>ds000006</td>\n",
       "      <td>https://openneuro.org/datasets/ds000006/versio...</td>\n",
       "      <td>ds000006</td>\n",
       "      <td>2016-10-13</td>\n",
       "      <td>10/13/2016</td>\n",
       "      <td>14</td>\n",
       "      <td>MRI - func, MRI - anat</td>\n",
       "      <td></td>\n",
       "      <td>18-25, 26-34, 35-50</td>\n",
       "      <td>living-nonliving decision with plain or mirror...</td>\n",
       "      <td>...</td>\n",
       "      <td></td>\n",
       "      <td>No</td>\n",
       "      <td>No</td>\n",
       "      <td></td>\n",
       "      <td></td>\n",
       "      <td></td>\n",
       "      <td>Poldrack, RA</td>\n",
       "      <td>1</td>\n",
       "      <td>5</td>\n",
       "      <td>76</td>\n",
       "    </tr>\n",
       "    <tr>\n",
       "      <th>...</th>\n",
       "      <td>...</td>\n",
       "      <td>...</td>\n",
       "      <td>...</td>\n",
       "      <td>...</td>\n",
       "      <td>...</td>\n",
       "      <td>...</td>\n",
       "      <td>...</td>\n",
       "      <td>...</td>\n",
       "      <td>...</td>\n",
       "      <td>...</td>\n",
       "      <td>...</td>\n",
       "      <td>...</td>\n",
       "      <td>...</td>\n",
       "      <td>...</td>\n",
       "      <td>...</td>\n",
       "      <td>...</td>\n",
       "      <td>...</td>\n",
       "      <td>...</td>\n",
       "      <td>...</td>\n",
       "      <td>...</td>\n",
       "      <td>...</td>\n",
       "    </tr>\n",
       "    <tr>\n",
       "      <th>1081</th>\n",
       "      <td>ds005250</td>\n",
       "      <td>https://openneuro.org/datasets/ds005250/versio...</td>\n",
       "      <td>Single-echo/multi-echo comparison pilot</td>\n",
       "      <td>2024-06-20</td>\n",
       "      <td>6/20/2024</td>\n",
       "      <td>8</td>\n",
       "      <td>MRI - func, MRI - anat</td>\n",
       "      <td>Healthy / Control</td>\n",
       "      <td>18-25, 26-34</td>\n",
       "      <td>rest eyes open, Penn fractal n-back</td>\n",
       "      <td>...</td>\n",
       "      <td></td>\n",
       "      <td>Yes</td>\n",
       "      <td>No</td>\n",
       "      <td>Human</td>\n",
       "      <td></td>\n",
       "      <td></td>\n",
       "      <td>Satterthwaite, Theodore D.</td>\n",
       "      <td>1</td>\n",
       "      <td>1086</td>\n",
       "      <td>47388</td>\n",
       "    </tr>\n",
       "    <tr>\n",
       "      <th>1084</th>\n",
       "      <td>ds005263</td>\n",
       "      <td>https://openneuro.org/datasets/ds005263/versio...</td>\n",
       "      <td>SoCal Kinesia and Incentivization for Parkinso...</td>\n",
       "      <td>2024-06-20</td>\n",
       "      <td>6/20/2024</td>\n",
       "      <td>68</td>\n",
       "      <td>MRI - func, MRI - anat</td>\n",
       "      <td>Healthy / Control</td>\n",
       "      <td></td>\n",
       "      <td>incenreach</td>\n",
       "      <td>...</td>\n",
       "      <td>Parkinson's Disease</td>\n",
       "      <td>No</td>\n",
       "      <td>No</td>\n",
       "      <td>Human</td>\n",
       "      <td></td>\n",
       "      <td>Dundon, N. M., Rizor, E., Stasiak, J., Wang, J...</td>\n",
       "      <td>Grafton, Scott T.</td>\n",
       "      <td>1</td>\n",
       "      <td>1087</td>\n",
       "      <td>47456</td>\n",
       "    </tr>\n",
       "    <tr>\n",
       "      <th>1076</th>\n",
       "      <td>ds005230</td>\n",
       "      <td>https://openneuro.org/datasets/ds005230/versio...</td>\n",
       "      <td>Reinforcement-Learning Generalization</td>\n",
       "      <td>2024-06-21</td>\n",
       "      <td>6/21/2024</td>\n",
       "      <td>44</td>\n",
       "      <td>MRI - func, MRI - anat</td>\n",
       "      <td>Healthy / Control</td>\n",
       "      <td></td>\n",
       "      <td>Reinforcement Learning - Baseline, Reinforceme...</td>\n",
       "      <td>...</td>\n",
       "      <td>Motor learning</td>\n",
       "      <td>No</td>\n",
       "      <td>No</td>\n",
       "      <td>Human</td>\n",
       "      <td></td>\n",
       "      <td></td>\n",
       "      <td>Gale, Dan</td>\n",
       "      <td>1</td>\n",
       "      <td>1088</td>\n",
       "      <td>47500</td>\n",
       "    </tr>\n",
       "    <tr>\n",
       "      <th>1089</th>\n",
       "      <td>ds005273</td>\n",
       "      <td>https://openneuro.org/datasets/ds005273/versio...</td>\n",
       "      <td>Neural representation of consciously seen and ...</td>\n",
       "      <td>2024-06-22</td>\n",
       "      <td>6/22/2024</td>\n",
       "      <td>33</td>\n",
       "      <td>EEG</td>\n",
       "      <td>Healthy / Control</td>\n",
       "      <td></td>\n",
       "      <td>1</td>\n",
       "      <td>...</td>\n",
       "      <td>Perceptual awareness</td>\n",
       "      <td>No</td>\n",
       "      <td>No</td>\n",
       "      <td>Human</td>\n",
       "      <td></td>\n",
       "      <td></td>\n",
       "      <td>González-López, José A.</td>\n",
       "      <td>1</td>\n",
       "      <td>1089</td>\n",
       "      <td>47533</td>\n",
       "    </tr>\n",
       "    <tr>\n",
       "      <th>1082</th>\n",
       "      <td>ds005258</td>\n",
       "      <td>https://openneuro.org/datasets/ds005258/versio...</td>\n",
       "      <td>Full-Body Mobility Data to Validate Inertial M...</td>\n",
       "      <td>2024-06-24</td>\n",
       "      <td>6/24/2024</td>\n",
       "      <td>2</td>\n",
       "      <td></td>\n",
       "      <td></td>\n",
       "      <td></td>\n",
       "      <td></td>\n",
       "      <td>...</td>\n",
       "      <td>Neurological cohort</td>\n",
       "      <td>No</td>\n",
       "      <td>No</td>\n",
       "      <td>Human</td>\n",
       "      <td>https://doi.org/10.3390/data7100136</td>\n",
       "      <td></td>\n",
       "      <td>Maetzler, Walter</td>\n",
       "      <td>1</td>\n",
       "      <td>1090</td>\n",
       "      <td>47535</td>\n",
       "    </tr>\n",
       "  </tbody>\n",
       "</table>\n",
       "<p>1090 rows × 22 columns</p>\n",
       "</div>"
      ],
      "text/plain": [
       "     AccessionNumber                                        Dataset URL  \\\n",
       "0           ds000001  https://openneuro.org/datasets/ds000001/versio...   \n",
       "1           ds000002  https://openneuro.org/datasets/ds000002/versio...   \n",
       "2           ds000003  https://openneuro.org/datasets/ds000003/versio...   \n",
       "3           ds000005  https://openneuro.org/datasets/ds000005/versio...   \n",
       "4           ds000006  https://openneuro.org/datasets/ds000006/versio...   \n",
       "...              ...                                                ...   \n",
       "1081        ds005250  https://openneuro.org/datasets/ds005250/versio...   \n",
       "1084        ds005263  https://openneuro.org/datasets/ds005263/versio...   \n",
       "1076        ds005230  https://openneuro.org/datasets/ds005230/versio...   \n",
       "1089        ds005273  https://openneuro.org/datasets/ds005273/versio...   \n",
       "1082        ds005258  https://openneuro.org/datasets/ds005258/versio...   \n",
       "\n",
       "                                           Dataset name ReleaseDate  \\\n",
       "0                                                 ds001  2016-10-12   \n",
       "1                               Classification learning  2016-10-12   \n",
       "2                                        Rhyme judgment  2016-10-13   \n",
       "3                                              ds000005  2016-10-13   \n",
       "4                                              ds000006  2016-10-13   \n",
       "...                                                 ...         ...   \n",
       "1081            Single-echo/multi-echo comparison pilot  2024-06-20   \n",
       "1084  SoCal Kinesia and Incentivization for Parkinso...  2024-06-20   \n",
       "1076              Reinforcement-Learning Generalization  2024-06-21   \n",
       "1089  Neural representation of consciously seen and ...  2024-06-22   \n",
       "1082  Full-Body Mobility Data to Validate Inertial M...  2024-06-24   \n",
       "\n",
       "     Most recent snapshot date (MM/DD/YYYY)  NSubjects  \\\n",
       "0                                10/12/2016         16   \n",
       "1                                10/12/2016         17   \n",
       "2                                10/13/2016         13   \n",
       "3                                10/13/2016         16   \n",
       "4                                10/13/2016         14   \n",
       "...                                     ...        ...   \n",
       "1081                              6/20/2024          8   \n",
       "1084                              6/20/2024         68   \n",
       "1076                              6/21/2024         44   \n",
       "1089                              6/22/2024         33   \n",
       "1082                              6/24/2024          2   \n",
       "\n",
       "                  Modalities      DX status(es)         Ages (range)  \\\n",
       "0     MRI - func, MRI - anat                            18-25, 26-34   \n",
       "1     MRI - func, MRI - anat                            18-25, 26-34   \n",
       "2     MRI - anat, MRI - func                     18-25, 26-34, 35-50   \n",
       "3     MRI - func, MRI - anat                            18-25, 26-34   \n",
       "4     MRI - func, MRI - anat                     18-25, 26-34, 35-50   \n",
       "...                      ...                ...                  ...   \n",
       "1081  MRI - func, MRI - anat  Healthy / Control         18-25, 26-34   \n",
       "1084  MRI - func, MRI - anat  Healthy / Control                        \n",
       "1076  MRI - func, MRI - anat  Healthy / Control                        \n",
       "1089                     EEG  Healthy / Control                        \n",
       "1082                                                                   \n",
       "\n",
       "                                       Tasks completed?  ...  \\\n",
       "0                              balloon analog risk task  ...   \n",
       "1     deterministic classification, mixed event-rela...  ...   \n",
       "2                                        rhyme judgment  ...   \n",
       "3                                    mixed-gambles task  ...   \n",
       "4     living-nonliving decision with plain or mirror...  ...   \n",
       "...                                                 ...  ...   \n",
       "1081                rest eyes open, Penn fractal n-back  ...   \n",
       "1084                                         incenreach  ...   \n",
       "1076  Reinforcement Learning - Baseline, Reinforceme...  ...   \n",
       "1089                                                  1  ...   \n",
       "1082                                                     ...   \n",
       "\n",
       "            Domain studied Longitudinal? Processed data? Species  \\\n",
       "0                                     No              No           \n",
       "1                                     No              No           \n",
       "2                                     No              No           \n",
       "3                                     No              No           \n",
       "4                                     No              No           \n",
       "...                    ...           ...             ...     ...   \n",
       "1081                                 Yes              No   Human   \n",
       "1084   Parkinson's Disease            No              No   Human   \n",
       "1076        Motor learning            No              No   Human   \n",
       "1089  Perceptual awareness            No              No   Human   \n",
       "1082   Neurological cohort            No              No   Human   \n",
       "\n",
       "     DOI of paper associated with DS (from submitter lab)  \\\n",
       "0                                                           \n",
       "1                                                           \n",
       "2                                                           \n",
       "3                                                           \n",
       "4                                                           \n",
       "...                                                 ...     \n",
       "1081                                                        \n",
       "1084                                                        \n",
       "1076                                                        \n",
       "1089                                                        \n",
       "1082                https://doi.org/10.3390/data7100136     \n",
       "\n",
       "                   DOI of paper because DS on OpenNeuro  \\\n",
       "0                                                         \n",
       "1                                                         \n",
       "2                                                         \n",
       "3                                                         \n",
       "4                                                         \n",
       "...                                                 ...   \n",
       "1081                                                      \n",
       "1084  Dundon, N. M., Rizor, E., Stasiak, J., Wang, J...   \n",
       "1076                                                      \n",
       "1089                                                      \n",
       "1082                                                      \n",
       "\n",
       "     Senior Author (lab that collected data) Last, First ones cumulative  \\\n",
       "0                                  Poldrack, Russell A.     1          1   \n",
       "1                                        Poldrack, R.A.     1          2   \n",
       "2                                  Poldrack, Russell A.     1          3   \n",
       "3                                        R.A., Poldrack     1          4   \n",
       "4                                          Poldrack, RA     1          5   \n",
       "...                                                 ...   ...        ...   \n",
       "1081                         Satterthwaite, Theodore D.     1       1086   \n",
       "1084                                  Grafton, Scott T.     1       1087   \n",
       "1076                                          Gale, Dan     1       1088   \n",
       "1089                            González-López, José A.     1       1089   \n",
       "1082                                   Maetzler, Walter     1       1090   \n",
       "\n",
       "      cumulative_subjects  \n",
       "0                      16  \n",
       "1                      33  \n",
       "2                      46  \n",
       "3                      62  \n",
       "4                      76  \n",
       "...                   ...  \n",
       "1081                47388  \n",
       "1084                47456  \n",
       "1076                47500  \n",
       "1089                47533  \n",
       "1082                47535  \n",
       "\n",
       "[1090 rows x 22 columns]"
      ]
     },
     "execution_count": 23,
     "metadata": {},
     "output_type": "execute_result"
    }
   ],
   "source": [
    "df_sorted = metadata.sort_values('ReleaseDate')\n",
    "df_sorted['ones'] = 1\n",
    "df_sorted['cumulative'] = df_sorted['ones'].cumsum()\n",
    "df_sorted['cumulative_subjects'] = df_sorted['NSubjects'].cumsum()\n",
    "dates = df_sorted['ReleaseDate'].unique()\n",
    "print('Earliest dataset:', dates.min())\n",
    "print('Latest dataset:', dates.max())\n",
    "\n",
    "# fix dates to reflect fact that early datasets were all from openneuro\n",
    "#df_sorted.loc[df_sorted['ReleaseDate'] < pd.Timestamp(2018,8,1), 'ReleaseDate'] = '2018-08-01'\n",
    "df_sorted"
   ]
  },
  {
   "cell_type": "code",
   "execution_count": 24,
   "metadata": {
    "tags": []
   },
   "outputs": [
    {
     "data": {
      "text/html": [
       "<div>\n",
       "<style scoped>\n",
       "    .dataframe tbody tr th:only-of-type {\n",
       "        vertical-align: middle;\n",
       "    }\n",
       "\n",
       "    .dataframe tbody tr th {\n",
       "        vertical-align: top;\n",
       "    }\n",
       "\n",
       "    .dataframe thead th {\n",
       "        text-align: right;\n",
       "    }\n",
       "</style>\n",
       "<table border=\"1\" class=\"dataframe\">\n",
       "  <thead>\n",
       "    <tr style=\"text-align: right;\">\n",
       "      <th></th>\n",
       "      <th>n_datasets</th>\n",
       "      <th>n_subjects</th>\n",
       "      <th>cumsum_datasets</th>\n",
       "      <th>cumsum_subjects</th>\n",
       "    </tr>\n",
       "    <tr>\n",
       "      <th>ReleaseDate</th>\n",
       "      <th></th>\n",
       "      <th></th>\n",
       "      <th></th>\n",
       "      <th></th>\n",
       "    </tr>\n",
       "  </thead>\n",
       "  <tbody>\n",
       "    <tr>\n",
       "      <th>2016-10-12</th>\n",
       "      <td>2</td>\n",
       "      <td>33</td>\n",
       "      <td>2</td>\n",
       "      <td>33</td>\n",
       "    </tr>\n",
       "    <tr>\n",
       "      <th>2016-10-13</th>\n",
       "      <td>6</td>\n",
       "      <td>91</td>\n",
       "      <td>8</td>\n",
       "      <td>124</td>\n",
       "    </tr>\n",
       "    <tr>\n",
       "      <th>2016-10-14</th>\n",
       "      <td>6</td>\n",
       "      <td>128</td>\n",
       "      <td>14</td>\n",
       "      <td>252</td>\n",
       "    </tr>\n",
       "    <tr>\n",
       "      <th>2016-10-17</th>\n",
       "      <td>2</td>\n",
       "      <td>54</td>\n",
       "      <td>16</td>\n",
       "      <td>306</td>\n",
       "    </tr>\n",
       "    <tr>\n",
       "      <th>2016-10-25</th>\n",
       "      <td>1</td>\n",
       "      <td>99</td>\n",
       "      <td>17</td>\n",
       "      <td>405</td>\n",
       "    </tr>\n",
       "    <tr>\n",
       "      <th>...</th>\n",
       "      <td>...</td>\n",
       "      <td>...</td>\n",
       "      <td>...</td>\n",
       "      <td>...</td>\n",
       "    </tr>\n",
       "    <tr>\n",
       "      <th>2024-06-18</th>\n",
       "      <td>1</td>\n",
       "      <td>241</td>\n",
       "      <td>1081</td>\n",
       "      <td>47192</td>\n",
       "    </tr>\n",
       "    <tr>\n",
       "      <th>2024-06-20</th>\n",
       "      <td>6</td>\n",
       "      <td>264</td>\n",
       "      <td>1087</td>\n",
       "      <td>47456</td>\n",
       "    </tr>\n",
       "    <tr>\n",
       "      <th>2024-06-21</th>\n",
       "      <td>1</td>\n",
       "      <td>44</td>\n",
       "      <td>1088</td>\n",
       "      <td>47500</td>\n",
       "    </tr>\n",
       "    <tr>\n",
       "      <th>2024-06-22</th>\n",
       "      <td>1</td>\n",
       "      <td>33</td>\n",
       "      <td>1089</td>\n",
       "      <td>47533</td>\n",
       "    </tr>\n",
       "    <tr>\n",
       "      <th>2024-06-24</th>\n",
       "      <td>1</td>\n",
       "      <td>2</td>\n",
       "      <td>1090</td>\n",
       "      <td>47535</td>\n",
       "    </tr>\n",
       "  </tbody>\n",
       "</table>\n",
       "<p>767 rows × 4 columns</p>\n",
       "</div>"
      ],
      "text/plain": [
       "             n_datasets  n_subjects  cumsum_datasets  cumsum_subjects\n",
       "ReleaseDate                                                          \n",
       "2016-10-12            2          33                2               33\n",
       "2016-10-13            6          91                8              124\n",
       "2016-10-14            6         128               14              252\n",
       "2016-10-17            2          54               16              306\n",
       "2016-10-25            1          99               17              405\n",
       "...                 ...         ...              ...              ...\n",
       "2024-06-18            1         241             1081            47192\n",
       "2024-06-20            6         264             1087            47456\n",
       "2024-06-21            1          44             1088            47500\n",
       "2024-06-22            1          33             1089            47533\n",
       "2024-06-24            1           2             1090            47535\n",
       "\n",
       "[767 rows x 4 columns]"
      ]
     },
     "execution_count": 24,
     "metadata": {},
     "output_type": "execute_result"
    }
   ],
   "source": [
    "\n",
    "datasets = defaultdict(lambda: 0)\n",
    "subjects = defaultdict(lambda: 0)\n",
    "\n",
    "for date, nsub in metadata[[\"ReleaseDate\", \"NSubjects\"]].values:\n",
    "    datasets[date.strftime('%Y-%m-%d')] += 1\n",
    "    subjects[date.strftime('%Y-%m-%d')] += nsub\n",
    "\n",
    "datadict = defaultdict(list)\n",
    "for k in datasets.keys():\n",
    "    datadict[\"ReleaseDate\"].append(k)\n",
    "    datadict[\"n_datasets\"].append(datasets[k])\n",
    "    datadict[\"n_subjects\"].append(subjects[k])\n",
    "    \n",
    "df_plotting = pd.DataFrame(datadict)\n",
    "df_plotting['ReleaseDate'] = pd.to_datetime(df_plotting['ReleaseDate'])\n",
    "df_plotting = df_plotting.set_index(\"ReleaseDate\").sort_values(by=\"ReleaseDate\")\n",
    "\n",
    "df_plotting[\"cumsum_datasets\"] = df_plotting['n_datasets'].cumsum()\n",
    "df_plotting['cumsum_subjects'] = df_plotting['n_subjects'].cumsum()\n",
    "\n",
    "release_dates = df_plotting.index.astype(int)\n",
    "\n",
    "df_plotting"
   ]
  },
  {
   "cell_type": "code",
   "execution_count": 25,
   "metadata": {
    "tags": []
   },
   "outputs": [
    {
     "name": "stdout",
     "output_type": "stream",
     "text": [
      "OpenNeuro surpassed the 10k datasets on April 30, 2020\n",
      "The latest report from June 24, 2024 yields 1090 datasets, and 47535 subjects\n"
     ]
    }
   ],
   "source": [
    "print(f\"OpenNeuro surpassed the 10k datasets on {df_plotting[df_plotting['cumsum_subjects'] > 10000].index[0].strftime('%B %d, %Y')}\")\n",
    "print(f\"The latest report from {df_plotting.index[-1].strftime('%B %d, %Y')} yields {df_plotting['cumsum_datasets'].iloc[-1]} datasets, and {df_plotting['cumsum_subjects'].iloc[-1]} subjects\")"
   ]
  },
  {
   "cell_type": "code",
   "execution_count": 26,
   "metadata": {
    "tags": []
   },
   "outputs": [
    {
     "data": {
      "text/plain": [
       "Int64Index([1530489600000000000, 1562025600000000000, 1593648000000000000,\n",
       "            1625184000000000000, 1656720000000000000, 1688256000000000000],\n",
       "           dtype='int64')"
      ]
     },
     "execution_count": 26,
     "metadata": {},
     "output_type": "execute_result"
    }
   ],
   "source": [
    "end_year = 24 # set to current year + 1\n",
    "midyears = pd.to_datetime([f\"20{yr}-07-02\" for yr in range(18, end_year)]).astype(int)  # July 2 is the midpoint of year\n",
    "midyears"
   ]
  },
  {
   "cell_type": "markdown",
   "metadata": {},
   "source": [
    "Plot # of datasets over time"
   ]
  },
  {
   "cell_type": "code",
   "execution_count": 27,
   "metadata": {
    "tags": []
   },
   "outputs": [
    {
     "data": {
      "image/png": "[encoded data removed]",
      "text/plain": [
       "<Figure size 800x600 with 1 Axes>"
      ]
     },
     "metadata": {},
     "output_type": "display_data"
    }
   ],
   "source": [
    "plt.figure(figsize=(8,6))\n",
    "sns.set(font_scale=2)  # crazy big\n",
    "sns.lineplot(x='ReleaseDate', y='cumsum_datasets', data=df_plotting)\n",
    "plt.xticks(rotation=90)\n",
    "plt.xlabel('Date')\n",
    "plt.ylabel('Total # of datasets')\n",
    "plt.tight_layout()\n",
    "# plt.savefig(os.path.join(figdir, 'n_datasets.pdf'))"
   ]
  },
  {
   "cell_type": "markdown",
   "metadata": {},
   "source": [
    "Plot # of subjects over time"
   ]
  },
  {
   "cell_type": "code",
   "execution_count": 28,
   "metadata": {
    "tags": []
   },
   "outputs": [
    {
     "data": {
      "image/png": "[encoded data removed]",
      "text/plain": [
       "<Figure size 800x600 with 1 Axes>"
      ]
     },
     "metadata": {},
     "output_type": "display_data"
    }
   ],
   "source": [
    "plt.figure(figsize=(8,6))\n",
    "sns.set(font_scale=2)  # crazy big\n",
    "sns.lineplot(x='ReleaseDate', y='cumsum_subjects', data=df_plotting)\n",
    "plt.xticks(rotation=90)\n",
    "plt.xlabel('Date')\n",
    "plt.ylabel('Total # of subjects')\n",
    "plt.tight_layout()\n",
    "# plt.savefig(os.path.join(figdir, 'n_subjects.pdf'))"
   ]
  },
  {
   "cell_type": "markdown",
   "metadata": {},
   "source": [
    "Plot both together"
   ]
  },
  {
   "cell_type": "code",
   "execution_count": 29,
   "metadata": {
    "tags": []
   },
   "outputs": [
    {
     "data": {
      "image/png": "[encoded data removed]",
      "text/plain": [
       "<Figure size 1000x600 with 2 Axes>"
      ]
     },
     "metadata": {},
     "output_type": "display_data"
    }
   ],
   "source": [
    "# plotting code from Oscar Esteban\n",
    "# requires a bit of tweaking when years change\n",
    "\n",
    "font_to_use = 'Arial'\n",
    "\n",
    "# Edit general skin\n",
    "sns.set_style('whitegrid')\n",
    "fig, ax1 = plt.subplots(figsize=(10,6))\n",
    "\n",
    "# Plot Datasets\n",
    "color = 'tab:green'\n",
    "ax1.set_xlabel('Date', fontsize=20)\n",
    "ax1 = sns.lineplot(x=release_dates, y=df_plotting['cumsum_datasets'], \n",
    "                   color=color, label='Datasets', linewidth=3.2)\n",
    "# Plot Subjects\n",
    "ax2 = ax1.twinx()\n",
    "color = 'tab:red'\n",
    "ax2 = sns.lineplot(x=release_dates, y=df_plotting['cumsum_subjects'],\n",
    "                   color=color, label='Subjects', linewidth=3.2)\n",
    "# Grid & spines\n",
    "ax1.grid(False)\n",
    "ax2.grid(False)\n",
    "ax1.spines.left.set_visible(False)\n",
    "ax2.spines.left.set_visible(False)\n",
    "ax1.spines.right.set_visible(False)\n",
    "ax2.spines.right.set_visible(False)\n",
    "ax1.spines.top.set_visible(False)\n",
    "ax2.spines.top.set_visible(False)\n",
    "ax1.spines.bottom.set_visible(False)\n",
    "ax2.spines.bottom.set_visible(False)\n",
    "# ax1.spines.bottom.set_position(('outward', 10))\n",
    "\n",
    "# Manipulate axes\n",
    "ax1.set_ylabel(None)\n",
    "ax2.set_ylabel(None)\n",
    "ax1.set_xlabel(None)\n",
    "ax2.set_xlabel(None)\n",
    "ax1.get_legend().remove()\n",
    "ax2.get_legend().remove()\n",
    "\n",
    "# Place year label at the middle of each year\n",
    "ax1.set_xticks(midyears)\n",
    "ax1.set_xticklabels([f\"20{yr}\" for yr in range(18, end_year)], fontsize=20, color=\"darkgray\")\n",
    "\n",
    "# Annotate total datasets\n",
    "x_lim = ax1.get_xlim()\n",
    "y1_lim = ax1.get_ylim()\n",
    "normalized_dates = (release_dates - x_lim[0]) / (x_lim[1] - x_lim[0])\n",
    "num_ds = [200, 300, 400, 500, 600, 700, 800, 900, 1000]\n",
    "x_dates_norm = np.interp(num_ds, df_plotting['cumsum_datasets'], normalized_dates)\n",
    "x_dates = np.interp(num_ds, df_plotting[\"cumsum_datasets\"], release_dates)\n",
    "y1_norm = (np.array(num_ds) - y1_lim[0]) / (y1_lim[1] - y1_lim[0])\n",
    "\n",
    "for y, x, y_norm in zip(num_ds, x_dates_norm, y1_norm):\n",
    "    xorig = max(x - 0.2, 0)\n",
    "    ax1.axhline(y=y, xmax=x, xmin=xorig, color='tab:green', alpha=0.4, linewidth=0.5)\n",
    "    ax1.text(xorig, y_norm + 0.01, f\"{y} datasets\",\n",
    "             transform=ax1.transAxes,\n",
    "             verticalalignment='bottom', horizontalalignment='left',\n",
    "             color='tab:green', fontsize=14)\n",
    "\n",
    "ax1.plot(\n",
    "    x_dates,\n",
    "    num_ds,\n",
    "    marker=\"o\",\n",
    "    markeredgecolor=\"tab:green\",\n",
    "    markerfacecolor=\"white\",\n",
    "    color=\"white\",\n",
    "    ms=6,\n",
    "    markeredgewidth=2.2,\n",
    "    fillstyle=\"full\",\n",
    "    linestyle=\"None\",\n",
    ")\n",
    "    \n",
    "# Annotate total subjects\n",
    "num_subj = np.arange(5000, metadata['NSubjects'].sum(), 5000)\n",
    "\n",
    "x_subj_dates = np.interp(num_subj, df_plotting['cumsum_subjects'], normalized_dates)\n",
    "x2_dates = np.interp(num_subj, df_plotting[\"cumsum_subjects\"], release_dates)\n",
    "y2_lim = ax2.get_ylim()\n",
    "y2_norm = (np.array(num_subj) - y2_lim[0]) / (y2_lim[1] - y2_lim[0])\n",
    "for y, x, y_norm in zip(num_subj, x_subj_dates, y2_norm):\n",
    "    xend = min(x + 0.2, 1.0)\n",
    "    ax2.axhline(y=y, xmin=x, xmax=xend, color='tab:red', alpha=0.4, linewidth=0.5)\n",
    "    ax2.text(xend, y_norm - 0.01, f\"{y // 1000}k\",\n",
    "             transform=ax2.transAxes,\n",
    "             verticalalignment='top', horizontalalignment='right',\n",
    "             color='tab:red', fontsize=14)\n",
    "    \n",
    "ax2.plot(\n",
    "    np.interp(num_subj, df_plotting[\"cumsum_subjects\"], release_dates),\n",
    "    num_subj,\n",
    "    marker=\"o\",\n",
    "    markeredgecolor=\"tab:red\",\n",
    "    markerfacecolor=\"white\",\n",
    "    color=\"white\",\n",
    "    ms=6,\n",
    "    markeredgewidth=2.2,\n",
    "    fillstyle=\"full\",\n",
    "    linestyle=\"None\",\n",
    ")\n",
    "\n",
    "# Add Y-axis labels in the middle of the plot, linked by color\n",
    "ax2.text(0.05, 0.9, 'Total number of datasets',\n",
    "         verticalalignment='top', horizontalalignment='left',\n",
    "         transform=ax2.transAxes,\n",
    "         color='tab:green',  fontsize=20)\n",
    "\n",
    "ax2.text(0.95, 0.05, 'Total number of subjects',\n",
    "         verticalalignment='bottom', horizontalalignment='right',\n",
    "         transform=ax2.transAxes,\n",
    "         color='tab:red',  fontsize=20)\n",
    "\n",
    "# Replace X-axis with a fancier timeline plot\n",
    "years = pd.to_datetime([\"2018-01-05\", \"2018-12-26\",\n",
    "                    \"2019-01-05\", \"2019-12-26\",\n",
    "                    \"2020-01-05\", \"2020-12-26\",\n",
    "                    \"2021-01-05\", \"2021-12-26\",\n",
    "                    '2022-01-05', '2022-12-26', \n",
    "                    '2023-01-05', '2023-12-26']).astype(int).values\n",
    "years_norm = (years - x_lim[0]) / (x_lim[1] - x_lim[0])\n",
    "years_norm[0] = 0.0\n",
    "years_norm[-1] = 1.0\n",
    "\n",
    "for yr_start, yr_end in years_norm.reshape(-1, 2):\n",
    "    ax1.axhline(\n",
    "        y1_lim[0],\n",
    "        xmin=yr_start,\n",
    "        xmax=yr_end,\n",
    "        clip_on=False,\n",
    "        color=\"darkgray\",\n",
    "        linewidth=1,\n",
    "    )\n",
    "\n",
    "for yr in years[1:-1]:\n",
    "    ax1.axvline(\n",
    "        yr,\n",
    "        ymin=0,\n",
    "        ymax=0.02,\n",
    "        clip_on=False,\n",
    "        color=\"darkgray\",\n",
    "        linewidth=2,\n",
    "    )        \n",
    "        \n",
    "ax1.set_yticks([])\n",
    "ax2.set_yticks([])\n",
    "        \n",
    "plt.tight_layout()\n",
    "plt.savefig(os.path.join(figdir, 'combined_growth.png'))\n",
    "plt.savefig(os.path.join(figdir, 'combined_growth.pdf'))"
   ]
  },
  {
   "cell_type": "markdown",
   "metadata": {},
   "source": [
    "## analysis of data types: species"
   ]
  },
  {
   "cell_type": "code",
   "execution_count": null,
   "metadata": {
    "tags": []
   },
   "outputs": [
    {
     "name": "stdout",
     "output_type": "stream",
     "text": [
      "Total # of datasets: 796\n",
      "|                 |   Species |\n",
      "|:----------------|----------:|\n",
      "|                 |       392 |\n",
      "| Human           |       379 |\n",
      "| Rat             |        11 |\n",
      "| Mouse           |         8 |\n",
      "| synthetic fibre |         1 |\n",
      "| MEG DBS Phantom |         1 |\n",
      "| canine          |         1 |\n",
      "| Monkey          |         1 |\n",
      "| Sheep           |         1 |\n",
      "| NHP             |         1 |\n"
     ]
    }
   ],
   "source": [
    "# clean up labels\n",
    "cleanup_dict = {'Mice': 'Mouse',\n",
    "               'Rats': 'Rat',\n",
    "                'rat': 'Rat',\n",
    "                'Adult Wistar rats': 'Rat',\n",
    "               'C57bl/6 mixed gender mice': 'Mouse',\n",
    "                'Mice B6/129P': 'Mouse',\n",
    "               'mouse': 'Mouse',\n",
    "               'Macaque': 'NHP',\n",
    "               'mouse lemur': 'NHP'}\n",
    "\n",
    "species_counts_clean = {'Mouse': 0,\n",
    "                        'Rat': 0,\n",
    "                       'Human': 0,\n",
    "                       'Phantom': 0,\n",
    "                       'NHP': 0}\n",
    "\n",
    "for idx in df_sorted.index:\n",
    "    if df_sorted.loc[idx,'Species'] in cleanup_dict:\n",
    "        df_sorted.loc[idx, 'Species'] = cleanup_dict[df_sorted.loc[idx,'Species']]\n",
    "\n",
    "species_counts = df_sorted['Species'].value_counts()\n",
    "#for i in range(species_counts.loc['Mice and Rats']):\n",
    "#    species_counts.loc['Mouse'] = species_counts.loc['Mouse'] + 1\n",
    "#    species_counts.loc['Rat'] = species_counts.loc['Rat'] + 1\n",
    "#species_counts.drop('Mice and Rats', inplace=True)\n",
    "print('Total # of datasets:', species_counts.sum())\n",
    "for i in species_counts.to_markdown().split('\\n'):\n",
    "    print(i)"
   ]
  },
  {
   "cell_type": "code",
   "execution_count": null,
   "metadata": {
    "tags": []
   },
   "outputs": [
    {
     "data": {
      "text/plain": [
       "                   0.492462\n",
       "Human              0.476131\n",
       "Rat                0.013819\n",
       "Mouse              0.008794\n",
       "Mice B6/129P       0.001256\n",
       "synthetic fibre    0.001256\n",
       "MEG DBS Phantom    0.001256\n",
       "canine             0.001256\n",
       "Monkey             0.001256\n",
       "Sheep              0.001256\n",
       "NHP                0.001256\n",
       "Name: Species, dtype: float64"
      ]
     },
     "execution_count": 23,
     "metadata": {},
     "output_type": "execute_result"
    }
   ],
   "source": [
    "species_counts/species_counts.sum()"
   ]
  },
  {
   "cell_type": "markdown",
   "metadata": {},
   "source": [
    "## analysis of data types: modality"
   ]
  },
  {
   "cell_type": "code",
   "execution_count": null,
   "metadata": {
    "tags": []
   },
   "outputs": [],
   "source": [
    "\n",
    "modalities = df_sorted['Modalities'].dropna()\n",
    "\n",
    "mod_list = defaultdict(lambda: 0)\n",
    "\n",
    "for i in modalities:\n",
    "    for k in i.split(','):\n",
    "        k = k.lstrip().lower()\n",
    "        mod_list[k] = mod_list[k] + 1"
   ]
  },
  {
   "cell_type": "code",
   "execution_count": null,
   "metadata": {
    "tags": []
   },
   "outputs": [
    {
     "name": "stdout",
     "output_type": "stream",
     "text": [
      "|             |   0 |\n",
      "|:------------|----:|\n",
      "| mri - anat  | 608 |\n",
      "| mri - func  | 525 |\n",
      "| eeg         | 137 |\n",
      "| mri - dwi   |  66 |\n",
      "| meg         |  33 |\n",
      "| events      |  25 |\n",
      "| t1w         |  20 |\n",
      "| bold        |  19 |\n",
      "| ieeg        |  15 |\n",
      "| channels    |  13 |\n",
      "| pet         |   7 |\n",
      "| fieldmap    |   5 |\n",
      "| mri - perf  |   3 |\n",
      "| pet_dynamic |   3 |\n",
      "| electrodes  |   2 |\n",
      "| sbref       |   2 |\n",
      "| beh         |   1 |\n",
      "| mri         |   1 |\n",
      "| t2w         |   1 |\n",
      "| dwi         |   1 |\n",
      "|             |   1 |\n",
      "| coordsystem |   1 |\n",
      "| 14          |   1 |\n",
      "| 13          |   1 |\n",
      "| 02          |   1 |\n",
      "| 01          |   1 |\n",
      "| pet_static  |   1 |\n",
      "| t1map       |   1 |\n"
     ]
    }
   ],
   "source": [
    "mod_df = pd.Series(mod_list)\n",
    "md = mod_df.sort_values(ascending=False).to_markdown()\n",
    "for i in md.split('\\n'):\n",
    "    print(i)"
   ]
  },
  {
   "cell_type": "markdown",
   "metadata": {},
   "source": [
    "## Analysis of dataset size"
   ]
  },
  {
   "cell_type": "code",
   "execution_count": null,
   "metadata": {
    "tags": []
   },
   "outputs": [
    {
     "data": {
      "text/plain": [
       "<seaborn.axisgrid.FacetGrid at 0x7fe65f711370>"
      ]
     },
     "execution_count": 29,
     "metadata": {},
     "output_type": "execute_result"
    },
    {
     "data": {
      "image/png": "[encoded data removed]",
      "text/plain": [
       "<Figure size 500x500 with 1 Axes>"
      ]
     },
     "metadata": {},
     "output_type": "display_data"
    }
   ],
   "source": [
    "# number of subjects\n",
    "import numpy as np\n",
    "df_sorted['nsubs'] = df_sorted['NSubjects']\n",
    "nsubs = df_sorted.query('nsubs > 0')['NSubjects']\n",
    "sns.displot(nsubs) #, log_scale=True)"
   ]
  },
  {
   "cell_type": "code",
   "execution_count": null,
   "metadata": {
    "tags": []
   },
   "outputs": [
    {
     "name": "stdout",
     "output_type": "stream",
     "text": [
      "median # of subjects: 24.0\n"
     ]
    }
   ],
   "source": [
    "print('median # of subjects:', nsubs.median())\n"
   ]
  },
  {
   "cell_type": "code",
   "execution_count": null,
   "metadata": {
    "tags": []
   },
   "outputs": [
    {
     "name": "stdout",
     "output_type": "stream",
     "text": [
      "# of datasets with more than 100 subjects 49\n"
     ]
    }
   ],
   "source": [
    "print('# of datasets with more than 100 subjects', (nsubs > 100).sum())"
   ]
  },
  {
   "cell_type": "code",
   "execution_count": null,
   "metadata": {
    "tags": []
   },
   "outputs": [
    {
     "name": "stdout",
     "output_type": "stream",
     "text": [
      "maximum dataset size: 2951\n"
     ]
    }
   ],
   "source": [
    "print('maximum dataset size:', nsubs.max())"
   ]
  },
  {
   "cell_type": "markdown",
   "metadata": {},
   "source": [
    "## Analysis of sessions\n",
    "\n",
    "Using data obtained from datalad datasets"
   ]
  },
  {
   "cell_type": "code",
   "execution_count": null,
   "metadata": {
    "tags": []
   },
   "outputs": [
    {
     "data": {
      "text/html": [
       "<div>\n",
       "<style scoped>\n",
       "    .dataframe tbody tr th:only-of-type {\n",
       "        vertical-align: middle;\n",
       "    }\n",
       "\n",
       "    .dataframe tbody tr th {\n",
       "        vertical-align: top;\n",
       "    }\n",
       "\n",
       "    .dataframe thead th {\n",
       "        text-align: right;\n",
       "    }\n",
       "</style>\n",
       "<table border=\"1\" class=\"dataframe\">\n",
       "  <thead>\n",
       "    <tr style=\"text-align: right;\">\n",
       "      <th></th>\n",
       "      <th>Unnamed: 0</th>\n",
       "    </tr>\n",
       "  </thead>\n",
       "  <tbody>\n",
       "  </tbody>\n",
       "</table>\n",
       "</div>"
      ],
      "text/plain": [
       "Empty DataFrame\n",
       "Columns: [Unnamed: 0]\n",
       "Index: []"
      ]
     },
     "execution_count": 37,
     "metadata": {},
     "output_type": "execute_result"
    }
   ],
   "source": [
    "datalad_metadata = pd.read_csv('../data/openneuro/ds_info.csv')\n",
    "datalad_metadata.head()"
   ]
  },
  {
   "cell_type": "code",
   "execution_count": null,
   "metadata": {},
   "outputs": [
    {
     "data": {
      "text/plain": [
       "<seaborn.axisgrid.FacetGrid at 0x15fbb3a00>"
      ]
     },
     "execution_count": 96,
     "metadata": {},
     "output_type": "execute_result"
    },
    {
     "data": {
      "image/png": "[encoded data removed]",
      "text/plain": [
       "<Figure size 360x360 with 1 Axes>"
      ]
     },
     "metadata": {},
     "output_type": "display_data"
    }
   ],
   "source": [
    "sns.displot(datalad_metadata.nsessions, bins=50)"
   ]
  },
  {
   "cell_type": "code",
   "execution_count": null,
   "metadata": {},
   "outputs": [
    {
     "name": "stdout",
     "output_type": "stream",
     "text": [
      "max # of sessions: 107\n",
      "# of datasets with more than 1 session: 128\n"
     ]
    }
   ],
   "source": [
    "print('max # of sessions:', datalad_metadata.nsessions.max())\n",
    "print('# of datasets with more than 1 session:', (datalad_metadata.nsessions > 1).sum())\n"
   ]
  },
  {
   "cell_type": "code",
   "execution_count": null,
   "metadata": {},
   "outputs": [
    {
     "name": "stdout",
     "output_type": "stream",
     "text": [
      "max # of tasks: 48\n",
      "# of datasets with more than 1 task: 202\n"
     ]
    }
   ],
   "source": [
    "# further analysis of tasks is done in task_analysis.ipynb\n",
    "print('max # of tasks:', datalad_metadata.ntasks.max())\n",
    "print('# of datasets with more than 1 task:', (datalad_metadata.ntasks > 1).sum())\n"
   ]
  },
  {
   "cell_type": "markdown",
   "metadata": {},
   "source": [
    "## Analysis of publications"
   ]
  },
  {
   "cell_type": "code",
   "execution_count": null,
   "metadata": {},
   "outputs": [
    {
     "name": "stdout",
     "output_type": "stream",
     "text": [
      "Proportion of papers with a DOI: 0.623841059602649\n"
     ]
    }
   ],
   "source": [
    "print('Proportion of papers with a DOI:',\n",
    "      df_sorted['DOI of paper associated with DS (from submitter lab)'].dropna().shape[0]/df_sorted.shape[0])"
   ]
  },
  {
   "cell_type": "code",
   "execution_count": null,
   "metadata": {},
   "outputs": [
    {
     "name": "stdout",
     "output_type": "stream",
     "text": [
      "# of papers associated with more than one DOI: 69\n",
      "# of unique DOIs: 643\n"
     ]
    }
   ],
   "source": [
    "dois = []\n",
    "multi_doi = 0\n",
    "for i in df_sorted['DOI of paper associated with DS (from submitter lab)'].dropna():\n",
    "    i_s = i.split(',')\n",
    "    if len(i_s) > 1:\n",
    "        multi_doi += 1\n",
    "    dois = dois + i_s\n",
    "    \n",
    "print('# of papers associated with more than one DOI:', multi_doi)\n",
    "print('# of unique DOIs:', len(set(dois)))"
   ]
  },
  {
   "cell_type": "markdown",
   "metadata": {},
   "source": [
    "## figure showing width/breadth/depth"
   ]
  },
  {
   "cell_type": "code",
   "execution_count": null,
   "metadata": {
    "tags": []
   },
   "outputs": [
    {
     "data": {
      "text/plain": [
       "(0, 1)"
      ]
     },
     "execution_count": 36,
     "metadata": {},
     "output_type": "execute_result"
    }
   ],
   "source": [
    "datalad_metadata.shape"
   ]
  },
  {
   "cell_type": "code",
   "execution_count": null,
   "metadata": {},
   "outputs": [
    {
     "data": {
      "image/png": "[encoded data removed]",
      "text/plain": [
       "<Figure size 864x864 with 1 Axes>"
      ]
     },
     "metadata": {},
     "output_type": "display_data"
    }
   ],
   "source": [
    "sns.set_style('whitegrid')\n",
    "plt.figure(figsize=(12, 12))\n",
    "splot = sns.scatterplot(x='nsubs', y='nsessions', size='ntasks', hue='ntasks',\n",
    "                         data=datalad_metadata,\n",
    "                        sizes=(50, 300), palette=\"dark\",\n",
    "                        legend = 'brief')\n",
    "\n",
    "splot.set(xscale=\"log\")\n",
    "splot.set(yscale=\"log\")\n",
    "plt.xlim([.5, 1000])\n",
    "plt.xlabel('Number of participants', fontsize=32)\n",
    "plt.ylabel('Number of sessions', fontsize=32)\n",
    "\n",
    "leg = splot.axes.get_legend()\n",
    "new_title = '# of tasks'\n",
    "leg.set_title(new_title)\n",
    "\n",
    "for axis in [splot.xaxis, splot.yaxis]:\n",
    "    formatter = ScalarFormatter()\n",
    "    formatter.set_scientific(False)\n",
    "    axis.set_major_formatter(formatter)\n",
    "\n",
    "handles, labels = splot.get_legend_handles_labels()\n",
    "for i, h in enumerate(handles[1:15]):\n",
    "    h.set_sizes([24 + int(labels[i+1])*4])\n",
    "splot.legend(handles=handles[1:15], labels=labels[1:15], loc=1, \n",
    "            ncol=2, bbox_to_anchor=(1,1), title='Number of tasks')\n",
    "plt.tight_layout()\n",
    "plt.savefig('../figures/dataset_size.pdf')\n"
   ]
  },
  {
   "cell_type": "code",
   "execution_count": null,
   "metadata": {},
   "outputs": [
    {
     "data": {
      "text/plain": [
       "['_A',\n",
       " '_PROPERTIES_EXCLUDED_FROM_SET',\n",
       " '__class__',\n",
       " '__delattr__',\n",
       " '__dict__',\n",
       " '__dir__',\n",
       " '__doc__',\n",
       " '__eq__',\n",
       " '__format__',\n",
       " '__ge__',\n",
       " '__getattribute__',\n",
       " '__getstate__',\n",
       " '__gt__',\n",
       " '__hash__',\n",
       " '__init__',\n",
       " '__init_subclass__',\n",
       " '__le__',\n",
       " '__lt__',\n",
       " '__module__',\n",
       " '__ne__',\n",
       " '__new__',\n",
       " '__reduce__',\n",
       " '__reduce_ex__',\n",
       " '__repr__',\n",
       " '__setattr__',\n",
       " '__sizeof__',\n",
       " '__str__',\n",
       " '__subclasshook__',\n",
       " '__weakref__',\n",
       " '_agg_filter',\n",
       " '_alias_map',\n",
       " '_alpha',\n",
       " '_animated',\n",
       " '_antialiaseds',\n",
       " '_axes',\n",
       " '_bcast_lwls',\n",
       " '_callbacks',\n",
       " '_capstyle',\n",
       " '_clipon',\n",
       " '_clippath',\n",
       " '_cm_set',\n",
       " '_default_contains',\n",
       " '_edge_default',\n",
       " '_edge_is_mapped',\n",
       " '_edgecolors',\n",
       " '_face_is_mapped',\n",
       " '_facecolors',\n",
       " '_factor',\n",
       " '_get_clipping_extent_bbox',\n",
       " '_get_default_antialiased',\n",
       " '_get_default_edgecolor',\n",
       " '_get_default_facecolor',\n",
       " '_get_default_linewidth',\n",
       " '_gid',\n",
       " '_hatch',\n",
       " '_hatch_color',\n",
       " '_id_norm',\n",
       " '_in_layout',\n",
       " '_joinstyle',\n",
       " '_label',\n",
       " '_linestyles',\n",
       " '_linewidths',\n",
       " '_mapped_colors',\n",
       " '_mouseover',\n",
       " '_norm',\n",
       " '_offset_position',\n",
       " '_offsets',\n",
       " '_original_edgecolor',\n",
       " '_original_facecolor',\n",
       " '_path_effects',\n",
       " '_paths',\n",
       " '_picker',\n",
       " '_pickradius',\n",
       " '_prepare_points',\n",
       " '_rasterized',\n",
       " '_remove_method',\n",
       " '_scale_norm',\n",
       " '_set_alpha_for_array',\n",
       " '_set_edgecolor',\n",
       " '_set_facecolor',\n",
       " '_set_gc_clip',\n",
       " '_set_mappable_flags',\n",
       " '_sizes',\n",
       " '_sketch',\n",
       " '_snap',\n",
       " '_stale',\n",
       " '_sticky_edges',\n",
       " '_transOffset',\n",
       " '_transform',\n",
       " '_transformSet',\n",
       " '_transforms',\n",
       " '_update_set_signature_and_docstring',\n",
       " '_url',\n",
       " '_urls',\n",
       " '_us_linestyles',\n",
       " '_us_lw',\n",
       " '_visible',\n",
       " 'add_callback',\n",
       " 'autoscale',\n",
       " 'autoscale_None',\n",
       " 'axes',\n",
       " 'callbacks',\n",
       " 'callbacksSM',\n",
       " 'changed',\n",
       " 'clipbox',\n",
       " 'cmap',\n",
       " 'colorbar',\n",
       " 'contains',\n",
       " 'convert_xunits',\n",
       " 'convert_yunits',\n",
       " 'draw',\n",
       " 'figure',\n",
       " 'findobj',\n",
       " 'format_cursor_data',\n",
       " 'get_agg_filter',\n",
       " 'get_alpha',\n",
       " 'get_animated',\n",
       " 'get_array',\n",
       " 'get_capstyle',\n",
       " 'get_children',\n",
       " 'get_clim',\n",
       " 'get_clip_box',\n",
       " 'get_clip_on',\n",
       " 'get_clip_path',\n",
       " 'get_cmap',\n",
       " 'get_cursor_data',\n",
       " 'get_dashes',\n",
       " 'get_datalim',\n",
       " 'get_ec',\n",
       " 'get_edgecolor',\n",
       " 'get_edgecolors',\n",
       " 'get_facecolor',\n",
       " 'get_facecolors',\n",
       " 'get_fc',\n",
       " 'get_figure',\n",
       " 'get_fill',\n",
       " 'get_gid',\n",
       " 'get_hatch',\n",
       " 'get_in_layout',\n",
       " 'get_joinstyle',\n",
       " 'get_label',\n",
       " 'get_linestyle',\n",
       " 'get_linestyles',\n",
       " 'get_linewidth',\n",
       " 'get_linewidths',\n",
       " 'get_ls',\n",
       " 'get_lw',\n",
       " 'get_offset_transform',\n",
       " 'get_offsets',\n",
       " 'get_path_effects',\n",
       " 'get_paths',\n",
       " 'get_picker',\n",
       " 'get_pickradius',\n",
       " 'get_rasterized',\n",
       " 'get_sizes',\n",
       " 'get_sketch_params',\n",
       " 'get_snap',\n",
       " 'get_tightbbox',\n",
       " 'get_transform',\n",
       " 'get_transformed_clip_path_and_affine',\n",
       " 'get_transforms',\n",
       " 'get_url',\n",
       " 'get_urls',\n",
       " 'get_visible',\n",
       " 'get_window_extent',\n",
       " 'get_zorder',\n",
       " 'have_units',\n",
       " 'is_transform_set',\n",
       " 'legend_elements',\n",
       " 'mouseover',\n",
       " 'norm',\n",
       " 'pchanged',\n",
       " 'pick',\n",
       " 'pickable',\n",
       " 'properties',\n",
       " 'remove',\n",
       " 'remove_callback',\n",
       " 'set',\n",
       " 'set_aa',\n",
       " 'set_agg_filter',\n",
       " 'set_alpha',\n",
       " 'set_animated',\n",
       " 'set_antialiased',\n",
       " 'set_antialiaseds',\n",
       " 'set_array',\n",
       " 'set_capstyle',\n",
       " 'set_clim',\n",
       " 'set_clip_box',\n",
       " 'set_clip_on',\n",
       " 'set_clip_path',\n",
       " 'set_cmap',\n",
       " 'set_color',\n",
       " 'set_dashes',\n",
       " 'set_ec',\n",
       " 'set_edgecolor',\n",
       " 'set_edgecolors',\n",
       " 'set_facecolor',\n",
       " 'set_facecolors',\n",
       " 'set_fc',\n",
       " 'set_figure',\n",
       " 'set_gid',\n",
       " 'set_hatch',\n",
       " 'set_in_layout',\n",
       " 'set_joinstyle',\n",
       " 'set_label',\n",
       " 'set_linestyle',\n",
       " 'set_linestyles',\n",
       " 'set_linewidth',\n",
       " 'set_linewidths',\n",
       " 'set_ls',\n",
       " 'set_lw',\n",
       " 'set_norm',\n",
       " 'set_offset_transform',\n",
       " 'set_offsets',\n",
       " 'set_path_effects',\n",
       " 'set_paths',\n",
       " 'set_picker',\n",
       " 'set_pickradius',\n",
       " 'set_rasterized',\n",
       " 'set_sizes',\n",
       " 'set_sketch_params',\n",
       " 'set_snap',\n",
       " 'set_transform',\n",
       " 'set_url',\n",
       " 'set_urls',\n",
       " 'set_visible',\n",
       " 'set_zorder',\n",
       " 'stale',\n",
       " 'stale_callback',\n",
       " 'sticky_edges',\n",
       " 'to_rgba',\n",
       " 'update',\n",
       " 'update_from',\n",
       " 'update_scalarmappable',\n",
       " 'zorder']"
      ]
     },
     "execution_count": 103,
     "metadata": {},
     "output_type": "execute_result"
    }
   ],
   "source": [
    "dir(handles[0])"
   ]
  },
  {
   "cell_type": "code",
   "execution_count": null,
   "metadata": {},
   "outputs": [
    {
     "data": {
      "text/plain": [
       "['0',\n",
       " '1',\n",
       " '2',\n",
       " '3',\n",
       " '4',\n",
       " '5',\n",
       " '6',\n",
       " '7',\n",
       " '8',\n",
       " '9',\n",
       " '10',\n",
       " '11',\n",
       " '12',\n",
       " '42',\n",
       " '48',\n",
       " '0',\n",
       " '8',\n",
       " '16',\n",
       " '24',\n",
       " '32',\n",
       " '40',\n",
       " '48']"
      ]
     },
     "execution_count": 104,
     "metadata": {},
     "output_type": "execute_result"
    }
   ],
   "source": [
    "labels"
   ]
  },
  {
   "cell_type": "code",
   "execution_count": null,
   "metadata": {},
   "outputs": [],
   "source": []
  }
 ],
 "metadata": {
  "kernelspec": {
   "display_name": "Python 3 (ipykernel)",
   "language": "python",
   "name": "python3"
  },
  "language_info": {
   "codemirror_mode": {
    "name": "ipython",
    "version": 3
   },
   "file_extension": ".py",
   "mimetype": "text/x-python",
   "name": "python",
   "nbconvert_exporter": "python",
   "pygments_lexer": "ipython3",
   "version": "3.12.2"
  }
 },
 "nbformat": 4,
 "nbformat_minor": 4
}
