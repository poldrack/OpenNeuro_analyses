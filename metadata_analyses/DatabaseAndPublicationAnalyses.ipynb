{
 "cells": [
  {
   "cell_type": "markdown",
   "metadata": {},
   "source": [
    "## Analysis of publications related to OpenNeuro"
   ]
  },
  {
   "cell_type": "code",
   "execution_count": 1,
   "metadata": {},
   "outputs": [],
   "source": [
    "import numpy as np\n",
    "import pandas as pd\n",
    "import os\n",
    "import seaborn as sns\n",
    "import matplotlib.pyplot as plt\n",
    "from collections import defaultdict\n",
    "import re\n",
    "import matplotlib.pyplot as plt\n",
    "from matplotlib.ticker import ScalarFormatter\n",
    "import matplotlib.ticker as tkr\n",
    "datadir = '../data/openneuro'\n",
    "figdir = '../figures'\n",
    "\n",
    "plt.rc('font', family='Helvetica')"
   ]
  },
  {
   "cell_type": "code",
   "execution_count": 2,
   "metadata": {},
   "outputs": [],
   "source": [
    "metadata = pd.read_csv(os.path.join(datadir, 'metadata_sheet.csv'), skiprows=1)\n",
    "rename_dict = {'Assession Number': 'AccessionNumber',\n",
    "              'Dataset made public (MM/DD/YYYY)': 'ReleaseDate',\n",
    "              '# of subjects': 'NSubjects',\n",
    "              'Species?': 'Species',\n",
    "              'Modalities available?': 'Modalities'}\n",
    "metadata = metadata.rename(rename_dict, axis=1)"
   ]
  },
  {
   "cell_type": "code",
   "execution_count": 3,
   "metadata": {},
   "outputs": [
    {
     "data": {
      "text/plain": [
       "Index(['AccessionNumber', 'Dataset URL', 'Dataset name', 'ReleaseDate',\n",
       "       'Most recent snapshot date (MM/DD/YYYY)', 'NSubjects', 'Modalities',\n",
       "       'DX status(es)', 'Ages (range)', 'Tasks completed?',\n",
       "       '# of trials (if applicable)', 'Study design', 'Domain studied',\n",
       "       'Longitudinal?', 'Processed data?', 'Species',\n",
       "       'DOI of paper associated with DS (from submitter lab)',\n",
       "       'DOI of paper because DS on OpenNeuro',\n",
       "       'Senior Author (lab that collected data) Last, First'],\n",
       "      dtype='object')"
      ]
     },
     "execution_count": 3,
     "metadata": {},
     "output_type": "execute_result"
    }
   ],
   "source": [
    "metadata.columns"
   ]
  },
  {
   "cell_type": "code",
   "execution_count": 4,
   "metadata": {},
   "outputs": [],
   "source": [
    "metadata['ReleaseDate'] = pd.to_datetime(metadata['ReleaseDate'])\n",
    "\n",
    "# Collapse any dates prior to 07/17/2018 when OpenfMRI datasets were uploaded\n",
    "metadata.loc[metadata[\"ReleaseDate\"] < \"2018-07-17\", \"ReleaseDate\"] = \"2018-07-17\""
   ]
  },
  {
   "cell_type": "markdown",
   "metadata": {},
   "source": [
    "## Statistics on the database"
   ]
  },
  {
   "cell_type": "code",
   "execution_count": 5,
   "metadata": {},
   "outputs": [
    {
     "name": "stdout",
     "output_type": "stream",
     "text": [
      "Number of datasets: 604\n",
      "Number of datasets: 607\n"
     ]
    }
   ],
   "source": [
    "print('Number of datasets:', len(metadata['Dataset name'].unique()))\n",
    "print('Number of datasets:', len(metadata['AccessionNumber'].unique()))\n"
   ]
  },
  {
   "cell_type": "code",
   "execution_count": 6,
   "metadata": {},
   "outputs": [
    {
     "name": "stdout",
     "output_type": "stream",
     "text": [
      "Number of subjets: 20989\n"
     ]
    }
   ],
   "source": [
    "print('Number of subjets:', metadata['NSubjects'].sum())\n"
   ]
  },
  {
   "cell_type": "code",
   "execution_count": 7,
   "metadata": {},
   "outputs": [
    {
     "name": "stdout",
     "output_type": "stream",
     "text": [
      "Number of data paper DOIs: 407\n",
      "Proportion of data paper DOIs: 0.6694078947368421\n"
     ]
    }
   ],
   "source": [
    "data_paper_dois = metadata['DOI of paper associated with DS (from submitter lab)'].unique()\n",
    "print(f'Number of data paper DOIs: {data_paper_dois.shape[0]}')\n",
    "print(f'Proportion of data paper DOIs: {data_paper_dois.shape[0]/metadata.shape[0]}')"
   ]
  },
  {
   "cell_type": "code",
   "execution_count": 8,
   "metadata": {},
   "outputs": [
    {
     "name": "stdout",
     "output_type": "stream",
     "text": [
      "Number of user paper DOIs: 29\n"
     ]
    }
   ],
   "source": [
    "user_paper_dois = metadata['DOI of paper because DS on OpenNeuro'].unique()\n",
    "print(f'Number of user paper DOIs: {user_paper_dois.shape[0]}')"
   ]
  },
  {
   "cell_type": "markdown",
   "metadata": {},
   "source": [
    "Clean up data to create plots"
   ]
  },
  {
   "cell_type": "code",
   "execution_count": 9,
   "metadata": {},
   "outputs": [
    {
     "name": "stdout",
     "output_type": "stream",
     "text": [
      "Earliest dataset: 2018-07-17T00:00:00.000000000\n",
      "Latest dataset: 2021-10-03T00:00:00.000000000\n"
     ]
    },
    {
     "data": {
      "text/html": [
       "<div>\n",
       "<style scoped>\n",
       "    .dataframe tbody tr th:only-of-type {\n",
       "        vertical-align: middle;\n",
       "    }\n",
       "\n",
       "    .dataframe tbody tr th {\n",
       "        vertical-align: top;\n",
       "    }\n",
       "\n",
       "    .dataframe thead th {\n",
       "        text-align: right;\n",
       "    }\n",
       "</style>\n",
       "<table border=\"1\" class=\"dataframe\">\n",
       "  <thead>\n",
       "    <tr style=\"text-align: right;\">\n",
       "      <th></th>\n",
       "      <th>AccessionNumber</th>\n",
       "      <th>Dataset URL</th>\n",
       "      <th>Dataset name</th>\n",
       "      <th>ReleaseDate</th>\n",
       "      <th>Most recent snapshot date (MM/DD/YYYY)</th>\n",
       "      <th>NSubjects</th>\n",
       "      <th>Modalities</th>\n",
       "      <th>DX status(es)</th>\n",
       "      <th>Ages (range)</th>\n",
       "      <th>Tasks completed?</th>\n",
       "      <th>...</th>\n",
       "      <th>Domain studied</th>\n",
       "      <th>Longitudinal?</th>\n",
       "      <th>Processed data?</th>\n",
       "      <th>Species</th>\n",
       "      <th>DOI of paper associated with DS (from submitter lab)</th>\n",
       "      <th>DOI of paper because DS on OpenNeuro</th>\n",
       "      <th>Senior Author (lab that collected data) Last, First</th>\n",
       "      <th>ones</th>\n",
       "      <th>cumulative</th>\n",
       "      <th>cumulative_subjects</th>\n",
       "    </tr>\n",
       "  </thead>\n",
       "  <tbody>\n",
       "    <tr>\n",
       "      <th>0</th>\n",
       "      <td>ds000001</td>\n",
       "      <td>https://openneuro.org/datasets/ds000001/versio...</td>\n",
       "      <td>Balloon Analog Risk-taking Task</td>\n",
       "      <td>2018-07-17</td>\n",
       "      <td>7/13/2018</td>\n",
       "      <td>16</td>\n",
       "      <td>MRI - anat, MRI - func</td>\n",
       "      <td>Healthy/Control</td>\n",
       "      <td>18-25, 26-34</td>\n",
       "      <td>Ballon Analog Risk Task</td>\n",
       "      <td>...</td>\n",
       "      <td>Risk-taking, Decision-making</td>\n",
       "      <td>No</td>\n",
       "      <td>No</td>\n",
       "      <td>Human</td>\n",
       "      <td>10.3389/fnins.2012.00080</td>\n",
       "      <td>NaN</td>\n",
       "      <td>Poldrack, Russ</td>\n",
       "      <td>1</td>\n",
       "      <td>1</td>\n",
       "      <td>16</td>\n",
       "    </tr>\n",
       "    <tr>\n",
       "      <th>85</th>\n",
       "      <td>ds000144</td>\n",
       "      <td>https://openneuro.org/datasets/ds000144/versio...</td>\n",
       "      <td>Preschool Anxiety Disorders</td>\n",
       "      <td>2018-07-17</td>\n",
       "      <td>7/17/2018</td>\n",
       "      <td>45</td>\n",
       "      <td>MRI - anat, MRI - func</td>\n",
       "      <td>Healthy/Control</td>\n",
       "      <td>0-10</td>\n",
       "      <td>emotional faces</td>\n",
       "      <td>...</td>\n",
       "      <td>Anxiety disorders, Amygdala-prefrontal connect...</td>\n",
       "      <td>Yes</td>\n",
       "      <td>No</td>\n",
       "      <td>Human</td>\n",
       "      <td>https://doi.org/10.1371/journal.pone.0116854\\n</td>\n",
       "      <td>NaN</td>\n",
       "      <td>Egger, Helen L.</td>\n",
       "      <td>1</td>\n",
       "      <td>2</td>\n",
       "      <td>61</td>\n",
       "    </tr>\n",
       "    <tr>\n",
       "      <th>84</th>\n",
       "      <td>ds000120</td>\n",
       "      <td>https://openneuro.org/datasets/ds000120/versio...</td>\n",
       "      <td>Developmental changes in brain function underl...</td>\n",
       "      <td>2018-07-17</td>\n",
       "      <td>7/17/2018</td>\n",
       "      <td>26</td>\n",
       "      <td>MRI - anat, MRI - func</td>\n",
       "      <td>Healthy/Control</td>\n",
       "      <td>0-10, 11-17, 18-25</td>\n",
       "      <td>antisaccade task with fixed order</td>\n",
       "      <td>...</td>\n",
       "      <td>reward and cognitive control processes, respon...</td>\n",
       "      <td>No</td>\n",
       "      <td>Yes</td>\n",
       "      <td>Human</td>\n",
       "      <td>10.1016/j.dcn.2011.06.004</td>\n",
       "      <td>NaN</td>\n",
       "      <td>Luna, Beatriz</td>\n",
       "      <td>1</td>\n",
       "      <td>3</td>\n",
       "      <td>87</td>\n",
       "    </tr>\n",
       "    <tr>\n",
       "      <th>83</th>\n",
       "      <td>ds000114</td>\n",
       "      <td>https://openneuro.org/datasets/ds000114/versio...</td>\n",
       "      <td>A test-retest fMRI dataset for motor, language...</td>\n",
       "      <td>2018-07-17</td>\n",
       "      <td>9/7/2018</td>\n",
       "      <td>10</td>\n",
       "      <td>MRI - anat, MRI - func, MRI - dwi</td>\n",
       "      <td>Healthy/Control</td>\n",
       "      <td>51-65</td>\n",
       "      <td>covert verb generation, finger foot lips, line...</td>\n",
       "      <td>...</td>\n",
       "      <td>motor, language, and spatial attention</td>\n",
       "      <td>Yes</td>\n",
       "      <td>No</td>\n",
       "      <td>Human</td>\n",
       "      <td>10.1186/2047-217X-2-6</td>\n",
       "      <td>NaN</td>\n",
       "      <td>Pernet, Cyril</td>\n",
       "      <td>1</td>\n",
       "      <td>4</td>\n",
       "      <td>97</td>\n",
       "    </tr>\n",
       "    <tr>\n",
       "      <th>82</th>\n",
       "      <td>ds000108</td>\n",
       "      <td>https://openneuro.org/datasets/ds000108/versio...</td>\n",
       "      <td>Prefrontal-Subcortical Pathways Mediating Succ...</td>\n",
       "      <td>2018-07-17</td>\n",
       "      <td>7/17/2018</td>\n",
       "      <td>34</td>\n",
       "      <td>MRI - anat, MRI - func</td>\n",
       "      <td>Healthy/Control</td>\n",
       "      <td>18-25, 26-34</td>\n",
       "      <td>emotion regulation</td>\n",
       "      <td>...</td>\n",
       "      <td>Emotion regulation</td>\n",
       "      <td>No</td>\n",
       "      <td>No</td>\n",
       "      <td>Human</td>\n",
       "      <td>10.1016/j.neuron.2008.09.006</td>\n",
       "      <td>NaN</td>\n",
       "      <td>Ochsner, Kevin</td>\n",
       "      <td>1</td>\n",
       "      <td>5</td>\n",
       "      <td>131</td>\n",
       "    </tr>\n",
       "    <tr>\n",
       "      <th>...</th>\n",
       "      <td>...</td>\n",
       "      <td>...</td>\n",
       "      <td>...</td>\n",
       "      <td>...</td>\n",
       "      <td>...</td>\n",
       "      <td>...</td>\n",
       "      <td>...</td>\n",
       "      <td>...</td>\n",
       "      <td>...</td>\n",
       "      <td>...</td>\n",
       "      <td>...</td>\n",
       "      <td>...</td>\n",
       "      <td>...</td>\n",
       "      <td>...</td>\n",
       "      <td>...</td>\n",
       "      <td>...</td>\n",
       "      <td>...</td>\n",
       "      <td>...</td>\n",
       "      <td>...</td>\n",
       "      <td>...</td>\n",
       "      <td>...</td>\n",
       "    </tr>\n",
       "    <tr>\n",
       "      <th>601</th>\n",
       "      <td>ds003753</td>\n",
       "      <td>https://openneuro.org/datasets/ds003753/versio...</td>\n",
       "      <td>Probabilistic Learning with Affective Feedback...</td>\n",
       "      <td>2021-09-29</td>\n",
       "      <td>9/29/2021</td>\n",
       "      <td>25</td>\n",
       "      <td>EEG</td>\n",
       "      <td>Healthy/Control</td>\n",
       "      <td>18-25, 26-34</td>\n",
       "      <td>ProbabilisticSelection</td>\n",
       "      <td>...</td>\n",
       "      <td>NaN</td>\n",
       "      <td>No</td>\n",
       "      <td>No</td>\n",
       "      <td>Human</td>\n",
       "      <td>10.3758/s13415-021-00950-5</td>\n",
       "      <td>NaN</td>\n",
       "      <td>Cavanagh, James F</td>\n",
       "      <td>1</td>\n",
       "      <td>604</td>\n",
       "      <td>20505</td>\n",
       "    </tr>\n",
       "    <tr>\n",
       "      <th>604</th>\n",
       "      <td>ds003821</td>\n",
       "      <td>https://openneuro.org/datasets/ds003821/versio...</td>\n",
       "      <td>Lausanne_TOF-MRA_Aneurysm_Cohort</td>\n",
       "      <td>2021-09-30</td>\n",
       "      <td>9/30/2021</td>\n",
       "      <td>284</td>\n",
       "      <td>MRI - anat</td>\n",
       "      <td>Brain Aneurysm, Healthy/Control</td>\n",
       "      <td>NaN</td>\n",
       "      <td>NaN</td>\n",
       "      <td>...</td>\n",
       "      <td>NaN</td>\n",
       "      <td>No</td>\n",
       "      <td>Yes</td>\n",
       "      <td>Human</td>\n",
       "      <td>arXiv:2103.06168</td>\n",
       "      <td>NaN</td>\n",
       "      <td>Richiardi, Jonas</td>\n",
       "      <td>1</td>\n",
       "      <td>605</td>\n",
       "      <td>20789</td>\n",
       "    </tr>\n",
       "    <tr>\n",
       "      <th>606</th>\n",
       "      <td>ds003826</td>\n",
       "      <td>https://openneuro.org/datasets/ds003826/versio...</td>\n",
       "      <td>Structural (t1) images of 113 young healthy ad...</td>\n",
       "      <td>2021-10-01</td>\n",
       "      <td>10/1/2021</td>\n",
       "      <td>113</td>\n",
       "      <td>MRI - anat</td>\n",
       "      <td>Healthy/Control</td>\n",
       "      <td>18-25, 26-34, 35-50</td>\n",
       "      <td>NaN</td>\n",
       "      <td>...</td>\n",
       "      <td>NaN</td>\n",
       "      <td>No</td>\n",
       "      <td>No</td>\n",
       "      <td>Human</td>\n",
       "      <td>10.21203/rs.3.rs-588446/v1</td>\n",
       "      <td>NaN</td>\n",
       "      <td>Domagalik, Aleksandra</td>\n",
       "      <td>1</td>\n",
       "      <td>606</td>\n",
       "      <td>20902</td>\n",
       "    </tr>\n",
       "    <tr>\n",
       "      <th>605</th>\n",
       "      <td>ds003825</td>\n",
       "      <td>https://openneuro.org/datasets/ds003825/versio...</td>\n",
       "      <td>Human electroencephalography recordings from 5...</td>\n",
       "      <td>2021-10-01</td>\n",
       "      <td>10/1/2021</td>\n",
       "      <td>50</td>\n",
       "      <td>EEG</td>\n",
       "      <td>Healthy/Control</td>\n",
       "      <td>11-17, 18-25, 26-34</td>\n",
       "      <td>rsvp</td>\n",
       "      <td>...</td>\n",
       "      <td>NaN</td>\n",
       "      <td>No</td>\n",
       "      <td>Yes</td>\n",
       "      <td>Human</td>\n",
       "      <td>10.17605/OSF.IO/HD6ZK</td>\n",
       "      <td>NaN</td>\n",
       "      <td>Carlson, Thomas</td>\n",
       "      <td>1</td>\n",
       "      <td>607</td>\n",
       "      <td>20952</td>\n",
       "    </tr>\n",
       "    <tr>\n",
       "      <th>607</th>\n",
       "      <td>ds003830</td>\n",
       "      <td>https://openneuro.org/datasets/ds003830/versio...</td>\n",
       "      <td>resting state fMRI of 17 idiopathic epileptic ...</td>\n",
       "      <td>2021-10-03</td>\n",
       "      <td>10/3/2021</td>\n",
       "      <td>37</td>\n",
       "      <td>MRI - func, MRI - anat</td>\n",
       "      <td>Epilepsy, Healthy/Control</td>\n",
       "      <td>NaN</td>\n",
       "      <td>resting</td>\n",
       "      <td>...</td>\n",
       "      <td>NaN</td>\n",
       "      <td>No</td>\n",
       "      <td>No</td>\n",
       "      <td>Dog</td>\n",
       "      <td>NaN</td>\n",
       "      <td>NaN</td>\n",
       "      <td>Haller, Sven</td>\n",
       "      <td>1</td>\n",
       "      <td>608</td>\n",
       "      <td>20989</td>\n",
       "    </tr>\n",
       "  </tbody>\n",
       "</table>\n",
       "<p>608 rows × 22 columns</p>\n",
       "</div>"
      ],
      "text/plain": [
       "    AccessionNumber                                        Dataset URL  \\\n",
       "0          ds000001  https://openneuro.org/datasets/ds000001/versio...   \n",
       "85         ds000144  https://openneuro.org/datasets/ds000144/versio...   \n",
       "84         ds000120  https://openneuro.org/datasets/ds000120/versio...   \n",
       "83         ds000114  https://openneuro.org/datasets/ds000114/versio...   \n",
       "82         ds000108  https://openneuro.org/datasets/ds000108/versio...   \n",
       "..              ...                                                ...   \n",
       "601        ds003753  https://openneuro.org/datasets/ds003753/versio...   \n",
       "604        ds003821  https://openneuro.org/datasets/ds003821/versio...   \n",
       "606        ds003826  https://openneuro.org/datasets/ds003826/versio...   \n",
       "605        ds003825  https://openneuro.org/datasets/ds003825/versio...   \n",
       "607        ds003830  https://openneuro.org/datasets/ds003830/versio...   \n",
       "\n",
       "                                          Dataset name ReleaseDate  \\\n",
       "0                      Balloon Analog Risk-taking Task  2018-07-17   \n",
       "85                         Preschool Anxiety Disorders  2018-07-17   \n",
       "84   Developmental changes in brain function underl...  2018-07-17   \n",
       "83   A test-retest fMRI dataset for motor, language...  2018-07-17   \n",
       "82   Prefrontal-Subcortical Pathways Mediating Succ...  2018-07-17   \n",
       "..                                                 ...         ...   \n",
       "601  Probabilistic Learning with Affective Feedback...  2021-09-29   \n",
       "604                   Lausanne_TOF-MRA_Aneurysm_Cohort  2021-09-30   \n",
       "606  Structural (t1) images of 113 young healthy ad...  2021-10-01   \n",
       "605  Human electroencephalography recordings from 5...  2021-10-01   \n",
       "607  resting state fMRI of 17 idiopathic epileptic ...  2021-10-03   \n",
       "\n",
       "    Most recent snapshot date (MM/DD/YYYY)  NSubjects  \\\n",
       "0                                7/13/2018         16   \n",
       "85                               7/17/2018         45   \n",
       "84                               7/17/2018         26   \n",
       "83                                9/7/2018         10   \n",
       "82                               7/17/2018         34   \n",
       "..                                     ...        ...   \n",
       "601                              9/29/2021         25   \n",
       "604                              9/30/2021        284   \n",
       "606                              10/1/2021        113   \n",
       "605                              10/1/2021         50   \n",
       "607                              10/3/2021         37   \n",
       "\n",
       "                            Modalities                    DX status(es)  \\\n",
       "0               MRI - anat, MRI - func                  Healthy/Control   \n",
       "85              MRI - anat, MRI - func                  Healthy/Control   \n",
       "84              MRI - anat, MRI - func                  Healthy/Control   \n",
       "83   MRI - anat, MRI - func, MRI - dwi                  Healthy/Control   \n",
       "82              MRI - anat, MRI - func                  Healthy/Control   \n",
       "..                                 ...                              ...   \n",
       "601                                EEG                  Healthy/Control   \n",
       "604                         MRI - anat  Brain Aneurysm, Healthy/Control   \n",
       "606                         MRI - anat                  Healthy/Control   \n",
       "605                                EEG                  Healthy/Control   \n",
       "607             MRI - func, MRI - anat        Epilepsy, Healthy/Control   \n",
       "\n",
       "            Ages (range)                                   Tasks completed?  \\\n",
       "0           18-25, 26-34                            Ballon Analog Risk Task   \n",
       "85                  0-10                                    emotional faces   \n",
       "84    0-10, 11-17, 18-25                  antisaccade task with fixed order   \n",
       "83                 51-65  covert verb generation, finger foot lips, line...   \n",
       "82          18-25, 26-34                                 emotion regulation   \n",
       "..                   ...                                                ...   \n",
       "601         18-25, 26-34                             ProbabilisticSelection   \n",
       "604                  NaN                                                NaN   \n",
       "606  18-25, 26-34, 35-50                                                NaN   \n",
       "605  11-17, 18-25, 26-34                                               rsvp   \n",
       "607                  NaN                                            resting   \n",
       "\n",
       "     ...                                     Domain studied Longitudinal?  \\\n",
       "0    ...                       Risk-taking, Decision-making            No   \n",
       "85   ...  Anxiety disorders, Amygdala-prefrontal connect...           Yes   \n",
       "84   ...  reward and cognitive control processes, respon...            No   \n",
       "83   ...             motor, language, and spatial attention           Yes   \n",
       "82   ...                                 Emotion regulation            No   \n",
       "..   ...                                                ...           ...   \n",
       "601  ...                                                NaN            No   \n",
       "604  ...                                                NaN            No   \n",
       "606  ...                                                NaN            No   \n",
       "605  ...                                                NaN            No   \n",
       "607  ...                                                NaN            No   \n",
       "\n",
       "    Processed data? Species  \\\n",
       "0                No   Human   \n",
       "85               No   Human   \n",
       "84              Yes   Human   \n",
       "83               No   Human   \n",
       "82               No   Human   \n",
       "..              ...     ...   \n",
       "601              No   Human   \n",
       "604             Yes   Human   \n",
       "606              No   Human   \n",
       "605             Yes   Human   \n",
       "607              No     Dog   \n",
       "\n",
       "    DOI of paper associated with DS (from submitter lab)  \\\n",
       "0                             10.3389/fnins.2012.00080     \n",
       "85      https://doi.org/10.1371/journal.pone.0116854\\n     \n",
       "84                           10.1016/j.dcn.2011.06.004     \n",
       "83                               10.1186/2047-217X-2-6     \n",
       "82                        10.1016/j.neuron.2008.09.006     \n",
       "..                                                 ...     \n",
       "601                         10.3758/s13415-021-00950-5     \n",
       "604                                   arXiv:2103.06168     \n",
       "606                         10.21203/rs.3.rs-588446/v1     \n",
       "605                              10.17605/OSF.IO/HD6ZK     \n",
       "607                                                NaN     \n",
       "\n",
       "    DOI of paper because DS on OpenNeuro  \\\n",
       "0                                    NaN   \n",
       "85                                   NaN   \n",
       "84                                   NaN   \n",
       "83                                   NaN   \n",
       "82                                   NaN   \n",
       "..                                   ...   \n",
       "601                                  NaN   \n",
       "604                                  NaN   \n",
       "606                                  NaN   \n",
       "605                                  NaN   \n",
       "607                                  NaN   \n",
       "\n",
       "    Senior Author (lab that collected data) Last, First ones cumulative  \\\n",
       "0                                       Poldrack, Russ     1          1   \n",
       "85                                    Egger, Helen L.      1          2   \n",
       "84                                       Luna, Beatriz     1          3   \n",
       "83                                       Pernet, Cyril     1          4   \n",
       "82                                      Ochsner, Kevin     1          5   \n",
       "..                                                 ...   ...        ...   \n",
       "601                                  Cavanagh, James F     1        604   \n",
       "604                                   Richiardi, Jonas     1        605   \n",
       "606                              Domagalik, Aleksandra     1        606   \n",
       "605                                    Carlson, Thomas     1        607   \n",
       "607                                       Haller, Sven     1        608   \n",
       "\n",
       "     cumulative_subjects  \n",
       "0                     16  \n",
       "85                    61  \n",
       "84                    87  \n",
       "83                    97  \n",
       "82                   131  \n",
       "..                   ...  \n",
       "601                20505  \n",
       "604                20789  \n",
       "606                20902  \n",
       "605                20952  \n",
       "607                20989  \n",
       "\n",
       "[608 rows x 22 columns]"
      ]
     },
     "execution_count": 9,
     "metadata": {},
     "output_type": "execute_result"
    }
   ],
   "source": [
    "df_sorted = metadata.sort_values('ReleaseDate')\n",
    "df_sorted['ones'] = 1\n",
    "df_sorted['cumulative'] = df_sorted['ones'].cumsum()\n",
    "df_sorted['cumulative_subjects'] = df_sorted['NSubjects'].cumsum()\n",
    "dates = df_sorted['ReleaseDate'].unique()\n",
    "print('Earliest dataset:', dates.min())\n",
    "print('Latest dataset:', dates.max())\n",
    "\n",
    "# fix dates to reflect fact that early datasets were all from openneuro\n",
    "#df_sorted.loc[df_sorted['ReleaseDate'] < pd.Timestamp(2018,8,1), 'ReleaseDate'] = '2018-08-01'\n",
    "df_sorted"
   ]
  },
  {
   "cell_type": "code",
   "execution_count": 10,
   "metadata": {},
   "outputs": [
    {
     "name": "stderr",
     "output_type": "stream",
     "text": [
      "/var/folders/c4/hpq2bp2913j7jb77b6v5b7qh0000gn/T/ipykernel_72227/4091817837.py:23: FutureWarning: casting datetime64[ns] values to int64 with .astype(...) is deprecated and will raise in a future version. Use .view(...) instead.\n",
      "  release_dates = df_plotting.index.astype(int)\n"
     ]
    },
    {
     "data": {
      "text/html": [
       "<div>\n",
       "<style scoped>\n",
       "    .dataframe tbody tr th:only-of-type {\n",
       "        vertical-align: middle;\n",
       "    }\n",
       "\n",
       "    .dataframe tbody tr th {\n",
       "        vertical-align: top;\n",
       "    }\n",
       "\n",
       "    .dataframe thead th {\n",
       "        text-align: right;\n",
       "    }\n",
       "</style>\n",
       "<table border=\"1\" class=\"dataframe\">\n",
       "  <thead>\n",
       "    <tr style=\"text-align: right;\">\n",
       "      <th></th>\n",
       "      <th>n_datasets</th>\n",
       "      <th>n_subjects</th>\n",
       "      <th>cumsum_datasets</th>\n",
       "      <th>cumsum_subjects</th>\n",
       "    </tr>\n",
       "    <tr>\n",
       "      <th>ReleaseDate</th>\n",
       "      <th></th>\n",
       "      <th></th>\n",
       "      <th></th>\n",
       "      <th></th>\n",
       "    </tr>\n",
       "  </thead>\n",
       "  <tbody>\n",
       "    <tr>\n",
       "      <th>2018-07-17</th>\n",
       "      <td>116</td>\n",
       "      <td>3916</td>\n",
       "      <td>116</td>\n",
       "      <td>3916</td>\n",
       "    </tr>\n",
       "    <tr>\n",
       "      <th>2018-07-18</th>\n",
       "      <td>12</td>\n",
       "      <td>278</td>\n",
       "      <td>128</td>\n",
       "      <td>4194</td>\n",
       "    </tr>\n",
       "    <tr>\n",
       "      <th>2018-07-19</th>\n",
       "      <td>1</td>\n",
       "      <td>1</td>\n",
       "      <td>129</td>\n",
       "      <td>4195</td>\n",
       "    </tr>\n",
       "    <tr>\n",
       "      <th>2018-07-24</th>\n",
       "      <td>1</td>\n",
       "      <td>1</td>\n",
       "      <td>130</td>\n",
       "      <td>4196</td>\n",
       "    </tr>\n",
       "    <tr>\n",
       "      <th>2018-07-26</th>\n",
       "      <td>1</td>\n",
       "      <td>18</td>\n",
       "      <td>131</td>\n",
       "      <td>4214</td>\n",
       "    </tr>\n",
       "    <tr>\n",
       "      <th>...</th>\n",
       "      <td>...</td>\n",
       "      <td>...</td>\n",
       "      <td>...</td>\n",
       "      <td>...</td>\n",
       "    </tr>\n",
       "    <tr>\n",
       "      <th>2021-09-28</th>\n",
       "      <td>3</td>\n",
       "      <td>58</td>\n",
       "      <td>601</td>\n",
       "      <td>20430</td>\n",
       "    </tr>\n",
       "    <tr>\n",
       "      <th>2021-09-29</th>\n",
       "      <td>3</td>\n",
       "      <td>75</td>\n",
       "      <td>604</td>\n",
       "      <td>20505</td>\n",
       "    </tr>\n",
       "    <tr>\n",
       "      <th>2021-09-30</th>\n",
       "      <td>1</td>\n",
       "      <td>284</td>\n",
       "      <td>605</td>\n",
       "      <td>20789</td>\n",
       "    </tr>\n",
       "    <tr>\n",
       "      <th>2021-10-01</th>\n",
       "      <td>2</td>\n",
       "      <td>163</td>\n",
       "      <td>607</td>\n",
       "      <td>20952</td>\n",
       "    </tr>\n",
       "    <tr>\n",
       "      <th>2021-10-03</th>\n",
       "      <td>1</td>\n",
       "      <td>37</td>\n",
       "      <td>608</td>\n",
       "      <td>20989</td>\n",
       "    </tr>\n",
       "  </tbody>\n",
       "</table>\n",
       "<p>366 rows × 4 columns</p>\n",
       "</div>"
      ],
      "text/plain": [
       "             n_datasets  n_subjects  cumsum_datasets  cumsum_subjects\n",
       "ReleaseDate                                                          \n",
       "2018-07-17          116        3916              116             3916\n",
       "2018-07-18           12         278              128             4194\n",
       "2018-07-19            1           1              129             4195\n",
       "2018-07-24            1           1              130             4196\n",
       "2018-07-26            1          18              131             4214\n",
       "...                 ...         ...              ...              ...\n",
       "2021-09-28            3          58              601            20430\n",
       "2021-09-29            3          75              604            20505\n",
       "2021-09-30            1         284              605            20789\n",
       "2021-10-01            2         163              607            20952\n",
       "2021-10-03            1          37              608            20989\n",
       "\n",
       "[366 rows x 4 columns]"
      ]
     },
     "execution_count": 10,
     "metadata": {},
     "output_type": "execute_result"
    }
   ],
   "source": [
    "from collections import defaultdict\n",
    "\n",
    "datasets = defaultdict(lambda: 0)\n",
    "subjects = defaultdict(lambda: 0)\n",
    "\n",
    "for date, nsub in metadata[[\"ReleaseDate\", \"NSubjects\"]].values:\n",
    "    datasets[date.strftime('%Y-%m-%d')] += 1\n",
    "    subjects[date.strftime('%Y-%m-%d')] += nsub\n",
    "\n",
    "datadict = defaultdict(list)\n",
    "for k in datasets.keys():\n",
    "    datadict[\"ReleaseDate\"].append(k)\n",
    "    datadict[\"n_datasets\"].append(datasets[k])\n",
    "    datadict[\"n_subjects\"].append(subjects[k])\n",
    "    \n",
    "df_plotting = pd.DataFrame(datadict)\n",
    "df_plotting['ReleaseDate'] = pd.to_datetime(df_plotting['ReleaseDate'])\n",
    "df_plotting = df_plotting.set_index(\"ReleaseDate\").sort_values(by=\"ReleaseDate\")\n",
    "\n",
    "df_plotting[\"cumsum_datasets\"] = df_plotting['n_datasets'].cumsum()\n",
    "df_plotting['cumsum_subjects'] = df_plotting['n_subjects'].cumsum()\n",
    "\n",
    "release_dates = df_plotting.index.astype(int)\n",
    "\n",
    "df_plotting"
   ]
  },
  {
   "cell_type": "code",
   "execution_count": 11,
   "metadata": {},
   "outputs": [
    {
     "name": "stdout",
     "output_type": "stream",
     "text": [
      "OpenNeuro surpassed the 10k datasets on March 19, 2020\n",
      "The latest report from October 03, 2021 yields 608 datasets, and 20989 subjects\n"
     ]
    }
   ],
   "source": [
    "print(f\"OpenNeuro surpassed the 10k datasets on {df_plotting[df_plotting['cumsum_subjects'] > 10000].index[0].strftime('%B %d, %Y')}\")\n",
    "print(f\"The latest report from {df_plotting.index[-1].strftime('%B %d, %Y')} yields {df_plotting['cumsum_datasets'].iloc[-1]} datasets, and {df_plotting['cumsum_subjects'].iloc[-1]} subjects\")"
   ]
  },
  {
   "cell_type": "code",
   "execution_count": 12,
   "metadata": {},
   "outputs": [
    {
     "name": "stderr",
     "output_type": "stream",
     "text": [
      "/var/folders/c4/hpq2bp2913j7jb77b6v5b7qh0000gn/T/ipykernel_72227/336077133.py:1: FutureWarning: casting datetime64[ns] values to int64 with .astype(...) is deprecated and will raise in a future version. Use .view(...) instead.\n",
      "  midyears = pd.to_datetime([f\"20{yr}-07-02\" for yr in range(18, 22)]).astype(int)  # July 2 is the midpoint of year\n"
     ]
    }
   ],
   "source": [
    "midyears = pd.to_datetime([f\"20{yr}-07-02\" for yr in range(18, 22)]).astype(int)  # July 2 is the midpoint of year"
   ]
  },
  {
   "cell_type": "markdown",
   "metadata": {},
   "source": [
    "Plot # of datasets over time"
   ]
  },
  {
   "cell_type": "code",
   "execution_count": 13,
   "metadata": {},
   "outputs": [
    {
     "data": {
      "image/png": "[encoded data removed]",
      "text/plain": [
       "<Figure size 576x432 with 1 Axes>"
      ]
     },
     "metadata": {
      "needs_background": "light"
     },
     "output_type": "display_data"
    }
   ],
   "source": [
    "plt.figure(figsize=(8,6))\n",
    "sns.set(font_scale=2)  # crazy big\n",
    "sns.lineplot(x='ReleaseDate', y='cumsum_datasets', data=df_plotting)\n",
    "plt.xticks(rotation=90)\n",
    "plt.xlabel('Date')\n",
    "plt.ylabel('Total # of datasets')\n",
    "plt.tight_layout()\n",
    "# plt.savefig(os.path.join(figdir, 'n_datasets.pdf'))"
   ]
  },
  {
   "cell_type": "markdown",
   "metadata": {},
   "source": [
    "Plot # of subjects over time"
   ]
  },
  {
   "cell_type": "code",
   "execution_count": 14,
   "metadata": {},
   "outputs": [
    {
     "data": {
      "image/png": "[encoded data removed]",
      "text/plain": [
       "<Figure size 576x432 with 1 Axes>"
      ]
     },
     "metadata": {},
     "output_type": "display_data"
    }
   ],
   "source": [
    "plt.figure(figsize=(8,6))\n",
    "sns.set(font_scale=2)  # crazy big\n",
    "sns.lineplot(x='ReleaseDate', y='cumsum_subjects', data=df_plotting)\n",
    "plt.xticks(rotation=90)\n",
    "plt.xlabel('Date')\n",
    "plt.ylabel('Total # of subjects')\n",
    "plt.tight_layout()\n",
    "# plt.savefig(os.path.join(figdir, 'n_subjects.pdf'))"
   ]
  },
  {
   "cell_type": "markdown",
   "metadata": {},
   "source": [
    "Plot both together"
   ]
  },
  {
   "cell_type": "code",
   "execution_count": 35,
   "metadata": {},
   "outputs": [
    {
     "name": "stderr",
     "output_type": "stream",
     "text": [
      "/var/folders/c4/hpq2bp2913j7jb77b6v5b7qh0000gn/T/ipykernel_72227/1258535880.py:109: FutureWarning: casting datetime64[ns] values to int64 with .astype(...) is deprecated and will raise in a future version. Use .view(...) instead.\n",
      "  years = pd.to_datetime([\"2018-01-05\", \"2018-12-26\",\n"
     ]
    },
    {
     "data": {
      "image/png": "[encoded data removed]",
      "text/plain": [
       "<Figure size 720x432 with 2 Axes>"
      ]
     },
     "metadata": {},
     "output_type": "display_data"
    }
   ],
   "source": [
    "# Edit general skin\n",
    "sns.set_style('whitegrid')\n",
    "fig, ax1 = plt.subplots(figsize=(10,6))\n",
    "\n",
    "# Plot Datasets\n",
    "color = 'tab:green'\n",
    "ax1.set_xlabel('Date', fontsize=20, fontname=\"Helvetica\")\n",
    "ax1 = sns.lineplot(x=release_dates, y=df_plotting['cumsum_datasets'], \n",
    "                   color=color, label='Datasets', linewidth=3.2)\n",
    "# Plot Subjects\n",
    "ax2 = ax1.twinx()\n",
    "color = 'tab:red'\n",
    "ax2 = sns.lineplot(x=release_dates, y=df_plotting['cumsum_subjects'],\n",
    "                   color=color, label='Subjects', linewidth=3.2)\n",
    "# Grid & spines\n",
    "ax1.grid(False)\n",
    "ax2.grid(False)\n",
    "ax1.spines.left.set_visible(False)\n",
    "ax2.spines.left.set_visible(False)\n",
    "ax1.spines.right.set_visible(False)\n",
    "ax2.spines.right.set_visible(False)\n",
    "ax1.spines.top.set_visible(False)\n",
    "ax2.spines.top.set_visible(False)\n",
    "ax1.spines.bottom.set_visible(False)\n",
    "ax2.spines.bottom.set_visible(False)\n",
    "# ax1.spines.bottom.set_position(('outward', 10))\n",
    "\n",
    "# Manipulate axes\n",
    "ax1.set_ylabel(None)\n",
    "ax2.set_ylabel(None)\n",
    "ax1.set_xlabel(None)\n",
    "ax2.set_xlabel(None)\n",
    "ax1.get_legend().remove()\n",
    "ax2.get_legend().remove()\n",
    "\n",
    "# Place year label at the middle of each year\n",
    "ax1.set_xticks(midyears)\n",
    "ax1.set_xticklabels([f\"20{yr}\" for yr in range(18, 22)], fontname=\"Helvetica\", fontsize=20, color=\"darkgray\")\n",
    "\n",
    "# Annotate total datasets\n",
    "x_lim = ax1.get_xlim()\n",
    "y1_lim = ax1.get_ylim()\n",
    "normalized_dates = (release_dates - x_lim[0]) / (x_lim[1] - x_lim[0])\n",
    "num_ds = [200, 300, 400, 500, 600]\n",
    "x_dates_norm = np.interp(num_ds, df_plotting['cumsum_datasets'], normalized_dates)\n",
    "x_dates = np.interp(num_ds, df_plotting[\"cumsum_datasets\"], release_dates)\n",
    "y1_norm = (np.array(num_ds) - y1_lim[0]) / (y1_lim[1] - y1_lim[0])\n",
    "\n",
    "for y, x, y_norm in zip(num_ds, x_dates_norm, y1_norm):\n",
    "    xorig = max(x - 0.2, 0)\n",
    "    ax1.axhline(y=y, xmax=x, xmin=xorig, color='tab:green', alpha=0.4, linewidth=0.5)\n",
    "    ax1.text(xorig, y_norm + 0.01, f\"{y} datasets\",\n",
    "             transform=ax1.transAxes,\n",
    "             verticalalignment='bottom', horizontalalignment='left',\n",
    "             color='tab:green', fontname=\"Helvetica\", fontsize=14)\n",
    "\n",
    "ax1.plot(\n",
    "    x_dates,\n",
    "    num_ds,\n",
    "    marker=\"o\",\n",
    "    markeredgecolor=\"tab:green\",\n",
    "    markerfacecolor=\"white\",\n",
    "    color=\"white\",\n",
    "    ms=6,\n",
    "    markeredgewidth=2.2,\n",
    "    fillstyle=\"full\",\n",
    "    linestyle=\"None\",\n",
    ")\n",
    "    \n",
    "# Annotate total subjects\n",
    "num_subj = [6000, 10000, 14000, 18000, 20000]\n",
    "x_subj_dates = np.interp(num_subj, df_plotting['cumsum_subjects'], normalized_dates)\n",
    "x2_dates = np.interp(num_subj, df_plotting[\"cumsum_subjects\"], release_dates)\n",
    "y2_lim = ax2.get_ylim()\n",
    "y2_norm = (np.array(num_subj) - y2_lim[0]) / (y2_lim[1] - y2_lim[0])\n",
    "for y, x, y_norm in zip(num_subj, x_subj_dates, y2_norm):\n",
    "    xend = min(x + 0.2, 1.0)\n",
    "    ax2.axhline(y=y, xmin=x, xmax=xend, color='tab:red', alpha=0.4, linewidth=0.5)\n",
    "    ax2.text(xend, y_norm - 0.01, f\"{y // 1000}k\",\n",
    "             transform=ax2.transAxes,\n",
    "             verticalalignment='top', horizontalalignment='right',\n",
    "             color='tab:red', fontname=\"Helvetica\", fontsize=14)\n",
    "    \n",
    "ax2.plot(\n",
    "    np.interp(num_subj, df_plotting[\"cumsum_subjects\"], release_dates),\n",
    "    num_subj,\n",
    "    marker=\"o\",\n",
    "    markeredgecolor=\"tab:red\",\n",
    "    markerfacecolor=\"white\",\n",
    "    color=\"white\",\n",
    "    ms=6,\n",
    "    markeredgewidth=2.2,\n",
    "    fillstyle=\"full\",\n",
    "    linestyle=\"None\",\n",
    ")\n",
    "\n",
    "# Add Y-axis labels in the middle of the plot, linked by color\n",
    "ax2.text(0.05, 0.9, 'Total number of datasets',\n",
    "         verticalalignment='top', horizontalalignment='left',\n",
    "         transform=ax2.transAxes,\n",
    "         color='tab:green', fontname=\"Helvetica\", fontsize=20)\n",
    "\n",
    "ax2.text(0.95, 0.05, 'Total number of subjects',\n",
    "         verticalalignment='bottom', horizontalalignment='right',\n",
    "         transform=ax2.transAxes,\n",
    "         color='tab:red', fontname=\"Helvetica\", fontsize=20)\n",
    "\n",
    "# Replace X-axis with a fancier timeline plot\n",
    "years = pd.to_datetime([\"2018-01-05\", \"2018-12-26\",\n",
    "                    \"2019-01-05\", \"2019-12-26\",\n",
    "                    \"2020-01-05\", \"2020-12-26\",\n",
    "                    \"2021-01-05\", \"2021-12-26\",]).astype(int).values\n",
    "years_norm = (years - x_lim[0]) / (x_lim[1] - x_lim[0])\n",
    "years_norm[0] = 0.0\n",
    "years_norm[-1] = 1.0\n",
    "\n",
    "for yr_start, yr_end in years_norm.reshape(-1, 2):\n",
    "    ax1.axhline(\n",
    "        y1_lim[0],\n",
    "        xmin=yr_start,\n",
    "        xmax=yr_end,\n",
    "        clip_on=False,\n",
    "        color=\"darkgray\",\n",
    "        linewidth=1,\n",
    "    )\n",
    "\n",
    "for yr in years[1:-1]:\n",
    "    ax1.axvline(\n",
    "        yr,\n",
    "        ymin=0,\n",
    "        ymax=0.02,\n",
    "        clip_on=False,\n",
    "        color=\"darkgray\",\n",
    "        linewidth=2,\n",
    "    )        \n",
    "        \n",
    "ax1.set_yticks([])\n",
    "ax2.set_yticks([])\n",
    "        \n",
    "plt.tight_layout()\n",
    "plt.savefig(os.path.join(figdir, 'combined_growth.png'))\n",
    "plt.savefig(os.path.join(figdir, 'combined_growth.pdf'))"
   ]
  },
  {
   "cell_type": "markdown",
   "metadata": {},
   "source": [
    "## analysis of data types: species"
   ]
  },
  {
   "cell_type": "code",
   "execution_count": 16,
   "metadata": {},
   "outputs": [
    {
     "name": "stdout",
     "output_type": "stream",
     "text": [
      "Total # of datasets: 603\n"
     ]
    },
    {
     "data": {
      "text/plain": [
       "Human            574\n",
       "Mouse             17\n",
       "Rat                6\n",
       "NHP                2\n",
       "phantoms           1\n",
       "Juvenile pigs      1\n",
       "Human, Mouse       1\n",
       "Dog                1\n",
       "Name: Species, dtype: int64"
      ]
     },
     "execution_count": 16,
     "metadata": {},
     "output_type": "execute_result"
    }
   ],
   "source": [
    "# clean up labels\n",
    "cleanup_dict = {'Mice': 'Mouse',\n",
    "               'Rats': 'Rat',\n",
    "                'rat': 'Rat',\n",
    "                'Adult Wistar rats': 'Rat',\n",
    "               'C57bl/6 mixed gender mice': 'Mouse',\n",
    "               'mouse': 'Mouse',\n",
    "               'Macaque': 'NHP',\n",
    "               'mouse lemur': 'NHP'}\n",
    "\n",
    "species_counts_clean = {'Mouse': 0,\n",
    "                        'Rat': 0,\n",
    "                       'Human': 0,\n",
    "                       'Phantom': 0,\n",
    "                       'NHP': 0}\n",
    "\n",
    "for idx in df_sorted.index:\n",
    "    if df_sorted.loc[idx,'Species'] in cleanup_dict:\n",
    "        df_sorted.loc[idx, 'Species'] = cleanup_dict[df_sorted.loc[idx,'Species']]\n",
    "\n",
    "species_counts = df_sorted['Species'].value_counts()\n",
    "for i in range(species_counts.loc['Mice and Rats']):\n",
    "    species_counts.loc['Mouse'] = species_counts.loc['Mouse'] + 1\n",
    "    species_counts.loc['Rat'] = species_counts.loc['Rat'] + 1\n",
    "species_counts.drop('Mice and Rats', inplace=True)\n",
    "print('Total # of datasets:', species_counts.sum())\n",
    "species_counts"
   ]
  },
  {
   "cell_type": "code",
   "execution_count": 17,
   "metadata": {},
   "outputs": [
    {
     "data": {
      "text/plain": [
       "Human            0.951907\n",
       "Mouse            0.028192\n",
       "Rat              0.009950\n",
       "NHP              0.003317\n",
       "phantoms         0.001658\n",
       "Juvenile pigs    0.001658\n",
       "Human, Mouse     0.001658\n",
       "Dog              0.001658\n",
       "Name: Species, dtype: float64"
      ]
     },
     "execution_count": 17,
     "metadata": {},
     "output_type": "execute_result"
    }
   ],
   "source": [
    "species_counts/species_counts.sum()"
   ]
  },
  {
   "cell_type": "markdown",
   "metadata": {},
   "source": [
    "## analysis of data types: modality"
   ]
  },
  {
   "cell_type": "code",
   "execution_count": 18,
   "metadata": {},
   "outputs": [],
   "source": [
    "\n",
    "modalities = df_sorted['Modalities'].dropna()\n",
    "\n",
    "mod_list = defaultdict(lambda: 0)\n",
    "\n",
    "for i in modalities:\n",
    "    for k in i.split(','):\n",
    "        k = k.lstrip().lower()\n",
    "        mod_list[k] = mod_list[k] + 1"
   ]
  },
  {
   "cell_type": "code",
   "execution_count": 19,
   "metadata": {},
   "outputs": [
    {
     "data": {
      "text/plain": [
       "mri - anat     501\n",
       "mri - func     445\n",
       "field map       81\n",
       "eeg             81\n",
       "mri - dwi       53\n",
       "fieldmap        39\n",
       "meg             23\n",
       "beh             13\n",
       "pet             10\n",
       "ieeg            10\n",
       "asl              3\n",
       "fmap             2\n",
       "bold             1\n",
       "t1w              1\n",
       "field map        1\n",
       "motion           1\n",
       "ute              1\n",
       "dixon            1\n",
       "stat             1\n",
       "calibration      1\n",
       "swi              1\n",
       "eyetrack         1\n",
       "fieldmaps        1\n",
       "angiography      1\n",
       "venograms        1\n",
       "angiograms       1\n",
       "events           1\n",
       "dtype: int64"
      ]
     },
     "execution_count": 19,
     "metadata": {},
     "output_type": "execute_result"
    }
   ],
   "source": [
    "mod_df = pd.Series(mod_list)\n",
    "mod_df.sort_values(ascending=False)"
   ]
  },
  {
   "cell_type": "markdown",
   "metadata": {},
   "source": [
    "## Analysis of dataset size"
   ]
  },
  {
   "cell_type": "code",
   "execution_count": 20,
   "metadata": {},
   "outputs": [
    {
     "data": {
      "text/plain": [
       "<seaborn.axisgrid.FacetGrid at 0x7fe4e8a29af0>"
      ]
     },
     "execution_count": 20,
     "metadata": {},
     "output_type": "execute_result"
    },
    {
     "data": {
      "image/png": "[encoded data removed]",
      "text/plain": [
       "<Figure size 360x360 with 1 Axes>"
      ]
     },
     "metadata": {},
     "output_type": "display_data"
    }
   ],
   "source": [
    "# number of subjects\n",
    "import numpy as np\n",
    "df_sorted['nsubs'] = df_sorted['NSubjects']\n",
    "nsubs = df_sorted.query('nsubs > 0')['NSubjects']\n",
    "sns.displot(nsubs) #, log_scale=True)"
   ]
  },
  {
   "cell_type": "code",
   "execution_count": 21,
   "metadata": {},
   "outputs": [
    {
     "name": "stdout",
     "output_type": "stream",
     "text": [
      "median # of subjects: 23.0\n"
     ]
    }
   ],
   "source": [
    "print('median # of subjects:', nsubs.median())\n"
   ]
  },
  {
   "cell_type": "code",
   "execution_count": 22,
   "metadata": {},
   "outputs": [
    {
     "name": "stdout",
     "output_type": "stream",
     "text": [
      "# of datasets with more than 100 subjects 31\n"
     ]
    }
   ],
   "source": [
    "print('# of datasets with more than 100 subjects', (nsubs > 100).sum())"
   ]
  },
  {
   "cell_type": "code",
   "execution_count": 23,
   "metadata": {},
   "outputs": [
    {
     "name": "stdout",
     "output_type": "stream",
     "text": [
      "maximum dataset size: 928\n"
     ]
    }
   ],
   "source": [
    "print('maximum dataset size:', nsubs.max())"
   ]
  },
  {
   "cell_type": "markdown",
   "metadata": {},
   "source": [
    "## Analysis of sessions\n",
    "\n",
    "Using data obtained from datalad datasets"
   ]
  },
  {
   "cell_type": "code",
   "execution_count": 24,
   "metadata": {},
   "outputs": [
    {
     "data": {
      "text/html": [
       "<div>\n",
       "<style scoped>\n",
       "    .dataframe tbody tr th:only-of-type {\n",
       "        vertical-align: middle;\n",
       "    }\n",
       "\n",
       "    .dataframe tbody tr th {\n",
       "        vertical-align: top;\n",
       "    }\n",
       "\n",
       "    .dataframe thead th {\n",
       "        text-align: right;\n",
       "    }\n",
       "</style>\n",
       "<table border=\"1\" class=\"dataframe\">\n",
       "  <thead>\n",
       "    <tr style=\"text-align: right;\">\n",
       "      <th></th>\n",
       "      <th>Unnamed: 0</th>\n",
       "      <th>dsnum</th>\n",
       "      <th>ntasks</th>\n",
       "      <th>nsessions</th>\n",
       "      <th>nsubs</th>\n",
       "      <th>tasknames</th>\n",
       "    </tr>\n",
       "  </thead>\n",
       "  <tbody>\n",
       "    <tr>\n",
       "      <th>0</th>\n",
       "      <td>0</td>\n",
       "      <td>ds000001</td>\n",
       "      <td>1</td>\n",
       "      <td>1</td>\n",
       "      <td>16</td>\n",
       "      <td>{'balloon analog risk task'}</td>\n",
       "    </tr>\n",
       "    <tr>\n",
       "      <th>1</th>\n",
       "      <td>1</td>\n",
       "      <td>ds000002</td>\n",
       "      <td>3</td>\n",
       "      <td>1</td>\n",
       "      <td>17</td>\n",
       "      <td>{'probabilistic classification', 'mixed event-...</td>\n",
       "    </tr>\n",
       "    <tr>\n",
       "      <th>2</th>\n",
       "      <td>2</td>\n",
       "      <td>ds000003</td>\n",
       "      <td>1</td>\n",
       "      <td>1</td>\n",
       "      <td>13</td>\n",
       "      <td>{'rhyme judgment'}</td>\n",
       "    </tr>\n",
       "    <tr>\n",
       "      <th>3</th>\n",
       "      <td>3</td>\n",
       "      <td>ds000005</td>\n",
       "      <td>1</td>\n",
       "      <td>1</td>\n",
       "      <td>16</td>\n",
       "      <td>{'mixed-gambles task'}</td>\n",
       "    </tr>\n",
       "    <tr>\n",
       "      <th>4</th>\n",
       "      <td>4</td>\n",
       "      <td>ds000006</td>\n",
       "      <td>1</td>\n",
       "      <td>2</td>\n",
       "      <td>14</td>\n",
       "      <td>{'living-nonliving decision with plain or mirr...</td>\n",
       "    </tr>\n",
       "  </tbody>\n",
       "</table>\n",
       "</div>"
      ],
      "text/plain": [
       "   Unnamed: 0     dsnum  ntasks  nsessions  nsubs  \\\n",
       "0           0  ds000001       1          1     16   \n",
       "1           1  ds000002       3          1     17   \n",
       "2           2  ds000003       1          1     13   \n",
       "3           3  ds000005       1          1     16   \n",
       "4           4  ds000006       1          2     14   \n",
       "\n",
       "                                           tasknames  \n",
       "0                       {'balloon analog risk task'}  \n",
       "1  {'probabilistic classification', 'mixed event-...  \n",
       "2                                 {'rhyme judgment'}  \n",
       "3                             {'mixed-gambles task'}  \n",
       "4  {'living-nonliving decision with plain or mirr...  "
      ]
     },
     "execution_count": 24,
     "metadata": {},
     "output_type": "execute_result"
    }
   ],
   "source": [
    "datalad_metadata = pd.read_csv('../data/openneuro/ds_info.csv')\n",
    "datalad_metadata.head()"
   ]
  },
  {
   "cell_type": "code",
   "execution_count": 25,
   "metadata": {},
   "outputs": [
    {
     "data": {
      "text/plain": [
       "<seaborn.axisgrid.FacetGrid at 0x7fe5097b86a0>"
      ]
     },
     "execution_count": 25,
     "metadata": {},
     "output_type": "execute_result"
    },
    {
     "data": {
      "image/png": "[encoded data removed]",
      "text/plain": [
       "<Figure size 360x360 with 1 Axes>"
      ]
     },
     "metadata": {},
     "output_type": "display_data"
    }
   ],
   "source": [
    "sns.displot(datalad_metadata.nsessions, bins=50)"
   ]
  },
  {
   "cell_type": "code",
   "execution_count": 26,
   "metadata": {},
   "outputs": [
    {
     "name": "stdout",
     "output_type": "stream",
     "text": [
      "max # of sessions: 107\n",
      "# of datasets with more than 1 session: 128\n"
     ]
    }
   ],
   "source": [
    "print('max # of sessions:', datalad_metadata.nsessions.max())\n",
    "print('# of datasets with more than 1 session:', (datalad_metadata.nsessions > 1).sum())\n"
   ]
  },
  {
   "cell_type": "code",
   "execution_count": 27,
   "metadata": {},
   "outputs": [
    {
     "name": "stdout",
     "output_type": "stream",
     "text": [
      "max # of tasks: 48\n",
      "# of datasets with more than 1 task: 202\n"
     ]
    }
   ],
   "source": [
    "# further analysis of tasks is done in task_analysis.ipynb\n",
    "print('max # of tasks:', datalad_metadata.ntasks.max())\n",
    "print('# of datasets with more than 1 task:', (datalad_metadata.ntasks > 1).sum())\n"
   ]
  },
  {
   "cell_type": "markdown",
   "metadata": {},
   "source": [
    "## Analysis of publications"
   ]
  },
  {
   "cell_type": "code",
   "execution_count": 28,
   "metadata": {},
   "outputs": [
    {
     "name": "stdout",
     "output_type": "stream",
     "text": [
      "Proportion of papers with a DOI: 0.7072368421052632\n"
     ]
    }
   ],
   "source": [
    "print('Proportion of papers with a DOI:',\n",
    "      df_sorted['DOI of paper associated with DS (from submitter lab)'].dropna().shape[0]/df_sorted.shape[0])"
   ]
  },
  {
   "cell_type": "code",
   "execution_count": 29,
   "metadata": {},
   "outputs": [
    {
     "name": "stdout",
     "output_type": "stream",
     "text": [
      "# of papers associated with more than one DOI: 67\n",
      "# of unique DOIs: 604\n"
     ]
    }
   ],
   "source": [
    "dois = []\n",
    "multi_doi = 0\n",
    "for i in df_sorted['DOI of paper associated with DS (from submitter lab)'].dropna():\n",
    "    i_s = i.split(',')\n",
    "    if len(i_s) > 1:\n",
    "        multi_doi += 1\n",
    "    dois = dois + i_s\n",
    "    \n",
    "print('# of papers associated with more than one DOI:', multi_doi)\n",
    "print('# of unique DOIs:', len(set(dois)))"
   ]
  },
  {
   "cell_type": "markdown",
   "metadata": {},
   "source": [
    "## figure showing width/breadth/depth"
   ]
  },
  {
   "cell_type": "code",
   "execution_count": 30,
   "metadata": {},
   "outputs": [
    {
     "data": {
      "text/plain": [
       "(502, 6)"
      ]
     },
     "execution_count": 30,
     "metadata": {},
     "output_type": "execute_result"
    }
   ],
   "source": [
    "datalad_metadata.shape"
   ]
  },
  {
   "cell_type": "code",
   "execution_count": 31,
   "metadata": {},
   "outputs": [
    {
     "data": {
      "image/png": "[encoded data removed]",
      "text/plain": [
       "<Figure size 864x864 with 1 Axes>"
      ]
     },
     "metadata": {},
     "output_type": "display_data"
    }
   ],
   "source": [
    "sns.set_style('whitegrid')\n",
    "plt.figure(figsize=(12, 12))\n",
    "splot = sns.scatterplot(x='nsubs', y='nsessions', size='ntasks', hue='ntasks',\n",
    "                         data=datalad_metadata,\n",
    "                        sizes=(50, 300), palette=\"dark\",\n",
    "                        legend = 'brief')\n",
    "\n",
    "splot.set(xscale=\"log\")\n",
    "splot.set(yscale=\"log\")\n",
    "plt.xlim([.5, 1000])\n",
    "plt.xlabel('Number of participants', fontsize=32)\n",
    "plt.ylabel('Number of sessions', fontsize=32)\n",
    "\n",
    "leg = splot.axes.get_legend()\n",
    "new_title = '# of tasks'\n",
    "leg.set_title(new_title)\n",
    "\n",
    "for axis in [splot.xaxis, splot.yaxis]:\n",
    "    formatter = ScalarFormatter()\n",
    "    formatter.set_scientific(False)\n",
    "    axis.set_major_formatter(formatter)\n",
    "\n",
    "handles, labels = splot.get_legend_handles_labels()\n",
    "for i, h in enumerate(handles[1:15]):\n",
    "    h.set_sizes([24 + int(labels[i+1])*4])\n",
    "splot.legend(handles=handles[1:15], labels=labels[1:15], loc=1, \n",
    "            ncol=2, bbox_to_anchor=(1,1), title='Number of tasks')\n",
    "plt.tight_layout()\n",
    "# plt.savefig('../figures/dataset_size.png')\n"
   ]
  },
  {
   "cell_type": "code",
   "execution_count": 32,
   "metadata": {},
   "outputs": [
    {
     "data": {
      "text/plain": [
       "['_A',\n",
       " '__class__',\n",
       " '__delattr__',\n",
       " '__dict__',\n",
       " '__dir__',\n",
       " '__doc__',\n",
       " '__eq__',\n",
       " '__format__',\n",
       " '__ge__',\n",
       " '__getattribute__',\n",
       " '__getstate__',\n",
       " '__gt__',\n",
       " '__hash__',\n",
       " '__init__',\n",
       " '__init_subclass__',\n",
       " '__le__',\n",
       " '__lt__',\n",
       " '__module__',\n",
       " '__ne__',\n",
       " '__new__',\n",
       " '__reduce__',\n",
       " '__reduce_ex__',\n",
       " '__repr__',\n",
       " '__setattr__',\n",
       " '__sizeof__',\n",
       " '__str__',\n",
       " '__subclasshook__',\n",
       " '__weakref__',\n",
       " '_add_checker',\n",
       " '_agg_filter',\n",
       " '_alias_map',\n",
       " '_alpha',\n",
       " '_animated',\n",
       " '_antialiaseds',\n",
       " '_axes',\n",
       " '_bcast_lwls',\n",
       " '_callbacks',\n",
       " '_capstyle',\n",
       " '_check_update',\n",
       " '_clipon',\n",
       " '_clippath',\n",
       " '_contains',\n",
       " '_default_contains',\n",
       " '_edge_default',\n",
       " '_edge_is_mapped',\n",
       " '_edgecolors',\n",
       " '_face_is_mapped',\n",
       " '_facecolors',\n",
       " '_factor',\n",
       " '_get_clipping_extent_bbox',\n",
       " '_get_default_antialiased',\n",
       " '_get_default_edgecolor',\n",
       " '_get_default_facecolor',\n",
       " '_get_default_linewidth',\n",
       " '_gid',\n",
       " '_hatch',\n",
       " '_hatch_color',\n",
       " '_in_layout',\n",
       " '_joinstyle',\n",
       " '_label',\n",
       " '_linestyles',\n",
       " '_linewidths',\n",
       " '_mapped_colors',\n",
       " '_mouseover',\n",
       " '_offset_position',\n",
       " '_offsets',\n",
       " '_offsetsNone',\n",
       " '_original_edgecolor',\n",
       " '_original_facecolor',\n",
       " '_path_effects',\n",
       " '_paths',\n",
       " '_picker',\n",
       " '_pickradius',\n",
       " '_prepare_points',\n",
       " '_rasterized',\n",
       " '_remove_method',\n",
       " '_scale_norm',\n",
       " '_set_alpha_for_array',\n",
       " '_set_edgecolor',\n",
       " '_set_facecolor',\n",
       " '_set_gc_clip',\n",
       " '_set_mappable_flags',\n",
       " '_sizes',\n",
       " '_sketch',\n",
       " '_snap',\n",
       " '_stale',\n",
       " '_sticky_edges',\n",
       " '_transOffset',\n",
       " '_transform',\n",
       " '_transformSet',\n",
       " '_transforms',\n",
       " '_uniform_offsets',\n",
       " '_update_dict',\n",
       " '_url',\n",
       " '_urls',\n",
       " '_us_linestyles',\n",
       " '_us_lw',\n",
       " '_visible',\n",
       " 'add_callback',\n",
       " 'add_checker',\n",
       " 'autoscale',\n",
       " 'autoscale_None',\n",
       " 'axes',\n",
       " 'callbacksSM',\n",
       " 'changed',\n",
       " 'check_update',\n",
       " 'clipbox',\n",
       " 'cmap',\n",
       " 'colorbar',\n",
       " 'contains',\n",
       " 'convert_xunits',\n",
       " 'convert_yunits',\n",
       " 'draw',\n",
       " 'figure',\n",
       " 'findobj',\n",
       " 'format_cursor_data',\n",
       " 'get_agg_filter',\n",
       " 'get_alpha',\n",
       " 'get_animated',\n",
       " 'get_array',\n",
       " 'get_capstyle',\n",
       " 'get_children',\n",
       " 'get_clim',\n",
       " 'get_clip_box',\n",
       " 'get_clip_on',\n",
       " 'get_clip_path',\n",
       " 'get_cmap',\n",
       " 'get_contains',\n",
       " 'get_cursor_data',\n",
       " 'get_dashes',\n",
       " 'get_datalim',\n",
       " 'get_ec',\n",
       " 'get_edgecolor',\n",
       " 'get_edgecolors',\n",
       " 'get_facecolor',\n",
       " 'get_facecolors',\n",
       " 'get_fc',\n",
       " 'get_figure',\n",
       " 'get_fill',\n",
       " 'get_gid',\n",
       " 'get_hatch',\n",
       " 'get_in_layout',\n",
       " 'get_joinstyle',\n",
       " 'get_label',\n",
       " 'get_linestyle',\n",
       " 'get_linestyles',\n",
       " 'get_linewidth',\n",
       " 'get_linewidths',\n",
       " 'get_ls',\n",
       " 'get_lw',\n",
       " 'get_offset_position',\n",
       " 'get_offset_transform',\n",
       " 'get_offsets',\n",
       " 'get_path_effects',\n",
       " 'get_paths',\n",
       " 'get_picker',\n",
       " 'get_pickradius',\n",
       " 'get_rasterized',\n",
       " 'get_sizes',\n",
       " 'get_sketch_params',\n",
       " 'get_snap',\n",
       " 'get_tightbbox',\n",
       " 'get_transform',\n",
       " 'get_transformed_clip_path_and_affine',\n",
       " 'get_transforms',\n",
       " 'get_url',\n",
       " 'get_urls',\n",
       " 'get_visible',\n",
       " 'get_window_extent',\n",
       " 'get_zorder',\n",
       " 'have_units',\n",
       " 'is_transform_set',\n",
       " 'legend_elements',\n",
       " 'mouseover',\n",
       " 'norm',\n",
       " 'pchanged',\n",
       " 'pick',\n",
       " 'pickable',\n",
       " 'properties',\n",
       " 'remove',\n",
       " 'remove_callback',\n",
       " 'set',\n",
       " 'set_aa',\n",
       " 'set_agg_filter',\n",
       " 'set_alpha',\n",
       " 'set_animated',\n",
       " 'set_antialiased',\n",
       " 'set_antialiaseds',\n",
       " 'set_array',\n",
       " 'set_capstyle',\n",
       " 'set_clim',\n",
       " 'set_clip_box',\n",
       " 'set_clip_on',\n",
       " 'set_clip_path',\n",
       " 'set_cmap',\n",
       " 'set_color',\n",
       " 'set_contains',\n",
       " 'set_dashes',\n",
       " 'set_ec',\n",
       " 'set_edgecolor',\n",
       " 'set_edgecolors',\n",
       " 'set_facecolor',\n",
       " 'set_facecolors',\n",
       " 'set_fc',\n",
       " 'set_figure',\n",
       " 'set_gid',\n",
       " 'set_hatch',\n",
       " 'set_in_layout',\n",
       " 'set_joinstyle',\n",
       " 'set_label',\n",
       " 'set_linestyle',\n",
       " 'set_linestyles',\n",
       " 'set_linewidth',\n",
       " 'set_linewidths',\n",
       " 'set_ls',\n",
       " 'set_lw',\n",
       " 'set_norm',\n",
       " 'set_offset_position',\n",
       " 'set_offsets',\n",
       " 'set_path_effects',\n",
       " 'set_paths',\n",
       " 'set_picker',\n",
       " 'set_pickradius',\n",
       " 'set_rasterized',\n",
       " 'set_sizes',\n",
       " 'set_sketch_params',\n",
       " 'set_snap',\n",
       " 'set_transform',\n",
       " 'set_url',\n",
       " 'set_urls',\n",
       " 'set_visible',\n",
       " 'set_zorder',\n",
       " 'stale',\n",
       " 'stale_callback',\n",
       " 'sticky_edges',\n",
       " 'to_rgba',\n",
       " 'update',\n",
       " 'update_dict',\n",
       " 'update_from',\n",
       " 'update_scalarmappable',\n",
       " 'zorder']"
      ]
     },
     "execution_count": 32,
     "metadata": {},
     "output_type": "execute_result"
    }
   ],
   "source": [
    "dir(handles[0])"
   ]
  },
  {
   "cell_type": "code",
   "execution_count": 33,
   "metadata": {},
   "outputs": [
    {
     "data": {
      "text/plain": [
       "['0',\n",
       " '1',\n",
       " '2',\n",
       " '3',\n",
       " '4',\n",
       " '5',\n",
       " '6',\n",
       " '7',\n",
       " '8',\n",
       " '9',\n",
       " '10',\n",
       " '11',\n",
       " '12',\n",
       " '42',\n",
       " '48',\n",
       " '0',\n",
       " '8',\n",
       " '16',\n",
       " '24',\n",
       " '32',\n",
       " '40',\n",
       " '48']"
      ]
     },
     "execution_count": 33,
     "metadata": {},
     "output_type": "execute_result"
    }
   ],
   "source": [
    "labels"
   ]
  },
  {
   "cell_type": "code",
   "execution_count": null,
   "metadata": {},
   "outputs": [],
   "source": []
  }
 ],
 "metadata": {
  "kernelspec": {
   "display_name": "Python 3 (ipykernel)",
   "language": "python",
   "name": "python3"
  },
  "language_info": {
   "codemirror_mode": {
    "name": "ipython",
    "version": 3
   },
   "file_extension": ".py",
   "mimetype": "text/x-python",
   "name": "python",
   "nbconvert_exporter": "python",
   "pygments_lexer": "ipython3",
   "version": "3.9.6"
  }
 },
 "nbformat": 4,
 "nbformat_minor": 4
}
