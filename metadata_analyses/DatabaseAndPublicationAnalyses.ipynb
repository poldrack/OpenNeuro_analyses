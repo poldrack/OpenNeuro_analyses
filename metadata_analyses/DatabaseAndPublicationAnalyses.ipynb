{
 "cells": [
  {
   "cell_type": "markdown",
   "metadata": {},
   "source": [
    "## Analysis of publications related to OpenNeuro"
   ]
  },
  {
   "cell_type": "code",
   "execution_count": 2,
   "metadata": {},
   "outputs": [],
   "source": [
    "import numpy as np\n",
    "import pandas as pd\n",
    "import os\n",
    "import seaborn as sns\n",
    "import matplotlib.pyplot as plt\n",
    "from collections import defaultdict\n",
    "import re\n",
    "import matplotlib.pyplot as plt\n",
    "from matplotlib.ticker import ScalarFormatter\n",
    "import matplotlib.ticker as tkr\n",
    "datadir = '../data/openneuro'\n",
    "figdir = '../figures'\n",
    "\n",
    "plt.rc('font', family='Helvetica')"
   ]
  },
  {
   "cell_type": "code",
   "execution_count": 3,
   "metadata": {},
   "outputs": [],
   "source": [
    "metadata = pd.read_csv(os.path.join(datadir, 'metadata_06182021.csv'), skiprows=1)\n",
    "rename_dict = {'Assession Number': 'AccessionNumber',\n",
    "              'Dataset made public (MM/DD/YYYY)': 'ReleaseDate',\n",
    "              '# of subjects': 'NSubjects',\n",
    "              'Species?': 'Species',\n",
    "              'Modalities available?': 'Modalities'}\n",
    "metadata = metadata.rename(rename_dict, axis=1)"
   ]
  },
  {
   "cell_type": "code",
   "execution_count": 4,
   "metadata": {},
   "outputs": [
    {
     "data": {
      "text/plain": [
       "Index(['AccessionNumber', 'Dataset URL', 'Dataset name', 'ReleaseDate',\n",
       "       'Most recent snapshot date (MM/DD/YYYY)', 'NSubjects', 'Modalities',\n",
       "       'DX status(es)', 'Ages (range)', 'Tasks completed?',\n",
       "       '# of trials (if applicable)', 'Study design', 'Domain studied',\n",
       "       'Longitudinal?', 'Processed data?', 'Species',\n",
       "       'DOI of paper associated with DS (from submitter lab)',\n",
       "       'DOI of paper because DS on OpenNeuro',\n",
       "       'Senior Author (lab that collected data) Last, First'],\n",
       "      dtype='object')"
      ]
     },
     "execution_count": 4,
     "metadata": {},
     "output_type": "execute_result"
    }
   ],
   "source": [
    "metadata.columns"
   ]
  },
  {
   "cell_type": "code",
   "execution_count": 5,
   "metadata": {},
   "outputs": [],
   "source": [
    "metadata['ReleaseDate'] = pd.to_datetime(metadata['ReleaseDate'])\n",
    "\n",
    "# Collapse any dates prior to 07/17/2018 when OpenfMRI datasets were uploaded\n",
    "metadata.loc[metadata[\"ReleaseDate\"] < \"2018-07-17\", \"ReleaseDate\"] = \"2018-07-17\""
   ]
  },
  {
   "cell_type": "markdown",
   "metadata": {},
   "source": [
    "## Statistics on the database"
   ]
  },
  {
   "cell_type": "code",
   "execution_count": 6,
   "metadata": {},
   "outputs": [
    {
     "name": "stdout",
     "output_type": "stream",
     "text": [
      "Number of datasets: 546\n",
      "Number of datasets: 548\n"
     ]
    }
   ],
   "source": [
    "print('Number of datasets:', len(metadata['Dataset name'].unique()))\n",
    "print('Number of datasets:', len(metadata['AccessionNumber'].unique()))\n"
   ]
  },
  {
   "cell_type": "code",
   "execution_count": 7,
   "metadata": {},
   "outputs": [
    {
     "name": "stdout",
     "output_type": "stream",
     "text": [
      "Number of subjets: 18758\n"
     ]
    }
   ],
   "source": [
    "print('Number of subjets:', metadata['NSubjects'].sum())\n"
   ]
  },
  {
   "cell_type": "code",
   "execution_count": 8,
   "metadata": {},
   "outputs": [
    {
     "name": "stdout",
     "output_type": "stream",
     "text": [
      "Number of data paper DOIs: 376\n",
      "Proportion of data paper DOIs: 0.6861313868613139\n"
     ]
    }
   ],
   "source": [
    "data_paper_dois = metadata['DOI of paper associated with DS (from submitter lab)'].unique()\n",
    "print(f'Number of data paper DOIs: {data_paper_dois.shape[0]}')\n",
    "print(f'Proportion of data paper DOIs: {data_paper_dois.shape[0]/metadata.shape[0]}')"
   ]
  },
  {
   "cell_type": "code",
   "execution_count": 9,
   "metadata": {},
   "outputs": [
    {
     "name": "stdout",
     "output_type": "stream",
     "text": [
      "Number of user paper DOIs: 29\n"
     ]
    }
   ],
   "source": [
    "user_paper_dois = metadata['DOI of paper because DS on OpenNeuro'].unique()\n",
    "print(f'Number of user paper DOIs: {user_paper_dois.shape[0]}')"
   ]
  },
  {
   "cell_type": "markdown",
   "metadata": {},
   "source": [
    "Clean up data to create plots"
   ]
  },
  {
   "cell_type": "code",
   "execution_count": 10,
   "metadata": {},
   "outputs": [
    {
     "name": "stdout",
     "output_type": "stream",
     "text": [
      "Earliest dataset: 2018-07-17T00:00:00.000000000\n",
      "Latest dataset: 2021-06-15T00:00:00.000000000\n"
     ]
    },
    {
     "data": {
      "text/html": [
       "<div>\n",
       "<style scoped>\n",
       "    .dataframe tbody tr th:only-of-type {\n",
       "        vertical-align: middle;\n",
       "    }\n",
       "\n",
       "    .dataframe tbody tr th {\n",
       "        vertical-align: top;\n",
       "    }\n",
       "\n",
       "    .dataframe thead th {\n",
       "        text-align: right;\n",
       "    }\n",
       "</style>\n",
       "<table border=\"1\" class=\"dataframe\">\n",
       "  <thead>\n",
       "    <tr style=\"text-align: right;\">\n",
       "      <th></th>\n",
       "      <th>AccessionNumber</th>\n",
       "      <th>Dataset URL</th>\n",
       "      <th>Dataset name</th>\n",
       "      <th>ReleaseDate</th>\n",
       "      <th>Most recent snapshot date (MM/DD/YYYY)</th>\n",
       "      <th>NSubjects</th>\n",
       "      <th>Modalities</th>\n",
       "      <th>DX status(es)</th>\n",
       "      <th>Ages (range)</th>\n",
       "      <th>Tasks completed?</th>\n",
       "      <th>...</th>\n",
       "      <th>Domain studied</th>\n",
       "      <th>Longitudinal?</th>\n",
       "      <th>Processed data?</th>\n",
       "      <th>Species</th>\n",
       "      <th>DOI of paper associated with DS (from submitter lab)</th>\n",
       "      <th>DOI of paper because DS on OpenNeuro</th>\n",
       "      <th>Senior Author (lab that collected data) Last, First</th>\n",
       "      <th>ones</th>\n",
       "      <th>cumulative</th>\n",
       "      <th>cumulative_subjects</th>\n",
       "    </tr>\n",
       "  </thead>\n",
       "  <tbody>\n",
       "    <tr>\n",
       "      <th>0</th>\n",
       "      <td>ds000001</td>\n",
       "      <td>https://openneuro.org/datasets/ds000001/versio...</td>\n",
       "      <td>Balloon Analog Risk-taking Task</td>\n",
       "      <td>2018-07-17</td>\n",
       "      <td>7/13/2018</td>\n",
       "      <td>16</td>\n",
       "      <td>MRI - anat, MRI - func</td>\n",
       "      <td>Healthy/Control</td>\n",
       "      <td>18-25, 26-34</td>\n",
       "      <td>Ballon Analog Risk Task</td>\n",
       "      <td>...</td>\n",
       "      <td>Risk-taking, Decision-making</td>\n",
       "      <td>No</td>\n",
       "      <td>No</td>\n",
       "      <td>Human</td>\n",
       "      <td>10.3389/fnins.2012.00080</td>\n",
       "      <td>NaN</td>\n",
       "      <td>Poldrack, Russ</td>\n",
       "      <td>1</td>\n",
       "      <td>1</td>\n",
       "      <td>16</td>\n",
       "    </tr>\n",
       "    <tr>\n",
       "      <th>89</th>\n",
       "      <td>ds000256</td>\n",
       "      <td>https://openneuro.org/datasets/ds000256/versio...</td>\n",
       "      <td>Behavioral interventions for reducing head mot...</td>\n",
       "      <td>2018-07-17</td>\n",
       "      <td>7/16/2018</td>\n",
       "      <td>24</td>\n",
       "      <td>MRI - anat, MRI - func, FieldMap</td>\n",
       "      <td>Healthy/Control</td>\n",
       "      <td>0-10, 11-17</td>\n",
       "      <td>restbaseline, restfixationadaptive, restfixati...</td>\n",
       "      <td>...</td>\n",
       "      <td>reducing head motion in children</td>\n",
       "      <td>No</td>\n",
       "      <td>Yes</td>\n",
       "      <td>Human</td>\n",
       "      <td>10.1016/j.neuroimage.2018.01.023</td>\n",
       "      <td>NaN</td>\n",
       "      <td>Dosenbach, Nico</td>\n",
       "      <td>1</td>\n",
       "      <td>2</td>\n",
       "      <td>40</td>\n",
       "    </tr>\n",
       "    <tr>\n",
       "      <th>88</th>\n",
       "      <td>ds000255</td>\n",
       "      <td>https://openneuro.org/datasets/ds000255/versio...</td>\n",
       "      <td>Visual image reconstruction</td>\n",
       "      <td>2018-07-17</td>\n",
       "      <td>7/16/2018</td>\n",
       "      <td>2</td>\n",
       "      <td>MRI - anat, MRI - func</td>\n",
       "      <td>Healthy/Control</td>\n",
       "      <td>NaN</td>\n",
       "      <td>viewFigure, viewRandom</td>\n",
       "      <td>...</td>\n",
       "      <td>visual image reconstruction</td>\n",
       "      <td>Yes</td>\n",
       "      <td>No</td>\n",
       "      <td>Human</td>\n",
       "      <td>10.1016/j.neuron.2008.11.004</td>\n",
       "      <td>NaN</td>\n",
       "      <td>Kamitani, Yukiyasu</td>\n",
       "      <td>1</td>\n",
       "      <td>3</td>\n",
       "      <td>42</td>\n",
       "    </tr>\n",
       "    <tr>\n",
       "      <th>87</th>\n",
       "      <td>ds000254</td>\n",
       "      <td>https://openneuro.org/datasets/ds000254/versio...</td>\n",
       "      <td>ds000254_R1.0.0</td>\n",
       "      <td>2018-07-17</td>\n",
       "      <td>7/17/2018</td>\n",
       "      <td>13</td>\n",
       "      <td>MRI - anat, MRI - func</td>\n",
       "      <td>Healthy/Control</td>\n",
       "      <td>18-25, 26-34, 35-50</td>\n",
       "      <td>bilateral finger tapping</td>\n",
       "      <td>...</td>\n",
       "      <td>novel sequence</td>\n",
       "      <td>No</td>\n",
       "      <td>No</td>\n",
       "      <td>Human</td>\n",
       "      <td>10.1371/journal.pone.0169253</td>\n",
       "      <td>NaN</td>\n",
       "      <td>Cohen, Alexander</td>\n",
       "      <td>1</td>\n",
       "      <td>4</td>\n",
       "      <td>55</td>\n",
       "    </tr>\n",
       "    <tr>\n",
       "      <th>86</th>\n",
       "      <td>ds000253</td>\n",
       "      <td>https://openneuro.org/datasets/ds000253/versio...</td>\n",
       "      <td>Female action video game players.</td>\n",
       "      <td>2018-07-17</td>\n",
       "      <td>7/17/2018</td>\n",
       "      <td>20</td>\n",
       "      <td>MRI - anat, MRI - func</td>\n",
       "      <td>Healthy/Control</td>\n",
       "      <td>18-25, 26-34, 35-50</td>\n",
       "      <td>visuomotor task</td>\n",
       "      <td>...</td>\n",
       "      <td>visuospatial, attention-related skills</td>\n",
       "      <td>No</td>\n",
       "      <td>Yes</td>\n",
       "      <td>Human</td>\n",
       "      <td>10.1371/journal.pone.0189110</td>\n",
       "      <td>NaN</td>\n",
       "      <td>Sergio, Lauren</td>\n",
       "      <td>1</td>\n",
       "      <td>5</td>\n",
       "      <td>75</td>\n",
       "    </tr>\n",
       "    <tr>\n",
       "      <th>...</th>\n",
       "      <td>...</td>\n",
       "      <td>...</td>\n",
       "      <td>...</td>\n",
       "      <td>...</td>\n",
       "      <td>...</td>\n",
       "      <td>...</td>\n",
       "      <td>...</td>\n",
       "      <td>...</td>\n",
       "      <td>...</td>\n",
       "      <td>...</td>\n",
       "      <td>...</td>\n",
       "      <td>...</td>\n",
       "      <td>...</td>\n",
       "      <td>...</td>\n",
       "      <td>...</td>\n",
       "      <td>...</td>\n",
       "      <td>...</td>\n",
       "      <td>...</td>\n",
       "      <td>...</td>\n",
       "      <td>...</td>\n",
       "      <td>...</td>\n",
       "    </tr>\n",
       "    <tr>\n",
       "      <th>457</th>\n",
       "      <td>ds003419</td>\n",
       "      <td>https://openneuro.org/datasets/ds003419/versio...</td>\n",
       "      <td>MRI Lab Graz: Two weeks Running Reduces Depres...</td>\n",
       "      <td>2021-06-09</td>\n",
       "      <td>12/4/2020</td>\n",
       "      <td>58</td>\n",
       "      <td>MRI - anat</td>\n",
       "      <td>NaN</td>\n",
       "      <td>18-25, 26-34</td>\n",
       "      <td>NaN</td>\n",
       "      <td>...</td>\n",
       "      <td>NaN</td>\n",
       "      <td>Yes</td>\n",
       "      <td>Yes</td>\n",
       "      <td>Human</td>\n",
       "      <td>NaN</td>\n",
       "      <td>NaN</td>\n",
       "      <td>Papousek, Ilona</td>\n",
       "      <td>1</td>\n",
       "      <td>544</td>\n",
       "      <td>18513</td>\n",
       "    </tr>\n",
       "    <tr>\n",
       "      <th>546</th>\n",
       "      <td>ds003690</td>\n",
       "      <td>https://openneuro.org/datasets/ds003690/versio...</td>\n",
       "      <td>EEG, ECG and pupil data from young and older a...</td>\n",
       "      <td>2021-06-10</td>\n",
       "      <td>6/10/2021</td>\n",
       "      <td>75</td>\n",
       "      <td>EEG</td>\n",
       "      <td>Healthy/Control</td>\n",
       "      <td>18-25, 26-34, 35-50, 51-65, 66+</td>\n",
       "      <td>gonogo, passive, simpleRT</td>\n",
       "      <td>...</td>\n",
       "      <td>NaN</td>\n",
       "      <td>No</td>\n",
       "      <td>No</td>\n",
       "      <td>Human</td>\n",
       "      <td>10.1016/j.neurobiolaging.2018.09.028, 10.1016/...</td>\n",
       "      <td>NaN</td>\n",
       "      <td>Castelo-Branco, Miguel</td>\n",
       "      <td>1</td>\n",
       "      <td>545</td>\n",
       "      <td>18588</td>\n",
       "    </tr>\n",
       "    <tr>\n",
       "      <th>544</th>\n",
       "      <td>ds003685</td>\n",
       "      <td>https://openneuro.org/datasets/ds003685/versio...</td>\n",
       "      <td>A test-retest resting and cognitive state EEG ...</td>\n",
       "      <td>2021-06-11</td>\n",
       "      <td>6/11/2021</td>\n",
       "      <td>60</td>\n",
       "      <td>EEG</td>\n",
       "      <td>Healthy/Control</td>\n",
       "      <td>18-25, 26-34</td>\n",
       "      <td>memory, mathematic, eyes open, music, eyes closed</td>\n",
       "      <td>...</td>\n",
       "      <td>Neuroscience</td>\n",
       "      <td>No</td>\n",
       "      <td>No</td>\n",
       "      <td>Human</td>\n",
       "      <td>10.1016/j.jneumeth.2020.108985</td>\n",
       "      <td>NaN</td>\n",
       "      <td>Lei, Xu</td>\n",
       "      <td>1</td>\n",
       "      <td>546</td>\n",
       "      <td>18648</td>\n",
       "    </tr>\n",
       "    <tr>\n",
       "      <th>545</th>\n",
       "      <td>ds003688</td>\n",
       "      <td>https://openneuro.org/datasets/ds003688/versio...</td>\n",
       "      <td>Open multimodal iEEG-fMRI dataset from natural...</td>\n",
       "      <td>2021-06-13</td>\n",
       "      <td>6/12/2021</td>\n",
       "      <td>63</td>\n",
       "      <td>MRI - anat, MRI - func, iEEG</td>\n",
       "      <td>medication-resistant epilepsy</td>\n",
       "      <td>0-10, 11-17, 18-25, 26-34, 35-50, 51-65</td>\n",
       "      <td>film, rest</td>\n",
       "      <td>...</td>\n",
       "      <td>Language, speech, auditory and visual perception</td>\n",
       "      <td>No</td>\n",
       "      <td>No</td>\n",
       "      <td>Human</td>\n",
       "      <td>10.1101/2021.06.09.447733</td>\n",
       "      <td>NaN</td>\n",
       "      <td>Ramsey, Nick</td>\n",
       "      <td>1</td>\n",
       "      <td>547</td>\n",
       "      <td>18711</td>\n",
       "    </tr>\n",
       "    <tr>\n",
       "      <th>547</th>\n",
       "      <td>ds003702</td>\n",
       "      <td>https://openneuro.org/datasets/ds003702/versio...</td>\n",
       "      <td>Social Memory cuing</td>\n",
       "      <td>2021-06-15</td>\n",
       "      <td>6/18/2021</td>\n",
       "      <td>47</td>\n",
       "      <td>EEG</td>\n",
       "      <td>Healthy/Control</td>\n",
       "      <td>18-25, 26-34</td>\n",
       "      <td>Social Memory cuing</td>\n",
       "      <td>...</td>\n",
       "      <td>NaN</td>\n",
       "      <td>No</td>\n",
       "      <td>Yes</td>\n",
       "      <td>Human</td>\n",
       "      <td>10.31234/osf.io/mkags</td>\n",
       "      <td>NaN</td>\n",
       "      <td>Kessler, Klaus</td>\n",
       "      <td>1</td>\n",
       "      <td>548</td>\n",
       "      <td>18758</td>\n",
       "    </tr>\n",
       "  </tbody>\n",
       "</table>\n",
       "<p>548 rows × 22 columns</p>\n",
       "</div>"
      ],
      "text/plain": [
       "    AccessionNumber                                        Dataset URL  \\\n",
       "0          ds000001  https://openneuro.org/datasets/ds000001/versio...   \n",
       "89         ds000256  https://openneuro.org/datasets/ds000256/versio...   \n",
       "88         ds000255  https://openneuro.org/datasets/ds000255/versio...   \n",
       "87         ds000254  https://openneuro.org/datasets/ds000254/versio...   \n",
       "86         ds000253  https://openneuro.org/datasets/ds000253/versio...   \n",
       "..              ...                                                ...   \n",
       "457        ds003419  https://openneuro.org/datasets/ds003419/versio...   \n",
       "546        ds003690  https://openneuro.org/datasets/ds003690/versio...   \n",
       "544        ds003685  https://openneuro.org/datasets/ds003685/versio...   \n",
       "545        ds003688  https://openneuro.org/datasets/ds003688/versio...   \n",
       "547        ds003702  https://openneuro.org/datasets/ds003702/versio...   \n",
       "\n",
       "                                          Dataset name ReleaseDate  \\\n",
       "0                      Balloon Analog Risk-taking Task  2018-07-17   \n",
       "89   Behavioral interventions for reducing head mot...  2018-07-17   \n",
       "88                         Visual image reconstruction  2018-07-17   \n",
       "87                                     ds000254_R1.0.0  2018-07-17   \n",
       "86                   Female action video game players.  2018-07-17   \n",
       "..                                                 ...         ...   \n",
       "457  MRI Lab Graz: Two weeks Running Reduces Depres...  2021-06-09   \n",
       "546  EEG, ECG and pupil data from young and older a...  2021-06-10   \n",
       "544  A test-retest resting and cognitive state EEG ...  2021-06-11   \n",
       "545  Open multimodal iEEG-fMRI dataset from natural...  2021-06-13   \n",
       "547                                Social Memory cuing  2021-06-15   \n",
       "\n",
       "    Most recent snapshot date (MM/DD/YYYY)  NSubjects  \\\n",
       "0                                7/13/2018         16   \n",
       "89                               7/16/2018         24   \n",
       "88                               7/16/2018          2   \n",
       "87                               7/17/2018         13   \n",
       "86                               7/17/2018         20   \n",
       "..                                     ...        ...   \n",
       "457                              12/4/2020         58   \n",
       "546                              6/10/2021         75   \n",
       "544                              6/11/2021         60   \n",
       "545                              6/12/2021         63   \n",
       "547                              6/18/2021         47   \n",
       "\n",
       "                           Modalities                  DX status(es)  \\\n",
       "0              MRI - anat, MRI - func                Healthy/Control   \n",
       "89   MRI - anat, MRI - func, FieldMap                Healthy/Control   \n",
       "88             MRI - anat, MRI - func                Healthy/Control   \n",
       "87             MRI - anat, MRI - func                Healthy/Control   \n",
       "86             MRI - anat, MRI - func                Healthy/Control   \n",
       "..                                ...                            ...   \n",
       "457                        MRI - anat                            NaN   \n",
       "546                               EEG                Healthy/Control   \n",
       "544                               EEG                Healthy/Control   \n",
       "545      MRI - anat, MRI - func, iEEG  medication-resistant epilepsy   \n",
       "547                               EEG                Healthy/Control   \n",
       "\n",
       "                                Ages (range)  \\\n",
       "0                               18-25, 26-34   \n",
       "89                               0-10, 11-17   \n",
       "88                                       NaN   \n",
       "87                       18-25, 26-34, 35-50   \n",
       "86                       18-25, 26-34, 35-50   \n",
       "..                                       ...   \n",
       "457                             18-25, 26-34   \n",
       "546          18-25, 26-34, 35-50, 51-65, 66+   \n",
       "544                             18-25, 26-34   \n",
       "545  0-10, 11-17, 18-25, 26-34, 35-50, 51-65   \n",
       "547                             18-25, 26-34   \n",
       "\n",
       "                                      Tasks completed?  ...  \\\n",
       "0                              Ballon Analog Risk Task  ...   \n",
       "89   restbaseline, restfixationadaptive, restfixati...  ...   \n",
       "88                              viewFigure, viewRandom  ...   \n",
       "87                            bilateral finger tapping  ...   \n",
       "86                                     visuomotor task  ...   \n",
       "..                                                 ...  ...   \n",
       "457                                                NaN  ...   \n",
       "546                          gonogo, passive, simpleRT  ...   \n",
       "544  memory, mathematic, eyes open, music, eyes closed  ...   \n",
       "545                                         film, rest  ...   \n",
       "547                                Social Memory cuing  ...   \n",
       "\n",
       "                                       Domain studied Longitudinal?  \\\n",
       "0                        Risk-taking, Decision-making            No   \n",
       "89                   reducing head motion in children            No   \n",
       "88                        visual image reconstruction           Yes   \n",
       "87                                     novel sequence            No   \n",
       "86             visuospatial, attention-related skills            No   \n",
       "..                                                ...           ...   \n",
       "457                                               NaN           Yes   \n",
       "546                                               NaN            No   \n",
       "544                                      Neuroscience            No   \n",
       "545  Language, speech, auditory and visual perception            No   \n",
       "547                                               NaN            No   \n",
       "\n",
       "    Processed data? Species  \\\n",
       "0                No   Human   \n",
       "89              Yes   Human   \n",
       "88               No   Human   \n",
       "87               No   Human   \n",
       "86              Yes   Human   \n",
       "..              ...     ...   \n",
       "457             Yes   Human   \n",
       "546              No   Human   \n",
       "544              No   Human   \n",
       "545              No   Human   \n",
       "547             Yes   Human   \n",
       "\n",
       "    DOI of paper associated with DS (from submitter lab)  \\\n",
       "0                             10.3389/fnins.2012.00080     \n",
       "89                    10.1016/j.neuroimage.2018.01.023     \n",
       "88                        10.1016/j.neuron.2008.11.004     \n",
       "87                        10.1371/journal.pone.0169253     \n",
       "86                        10.1371/journal.pone.0189110     \n",
       "..                                                 ...     \n",
       "457                                                NaN     \n",
       "546  10.1016/j.neurobiolaging.2018.09.028, 10.1016/...     \n",
       "544                     10.1016/j.jneumeth.2020.108985     \n",
       "545                          10.1101/2021.06.09.447733     \n",
       "547                              10.31234/osf.io/mkags     \n",
       "\n",
       "    DOI of paper because DS on OpenNeuro  \\\n",
       "0                                    NaN   \n",
       "89                                   NaN   \n",
       "88                                   NaN   \n",
       "87                                   NaN   \n",
       "86                                   NaN   \n",
       "..                                   ...   \n",
       "457                                  NaN   \n",
       "546                                  NaN   \n",
       "544                                  NaN   \n",
       "545                                  NaN   \n",
       "547                                  NaN   \n",
       "\n",
       "    Senior Author (lab that collected data) Last, First ones cumulative  \\\n",
       "0                                       Poldrack, Russ     1          1   \n",
       "89                                     Dosenbach, Nico     1          2   \n",
       "88                                  Kamitani, Yukiyasu     1          3   \n",
       "87                                    Cohen, Alexander     1          4   \n",
       "86                                      Sergio, Lauren     1          5   \n",
       "..                                                 ...   ...        ...   \n",
       "457                                    Papousek, Ilona     1        544   \n",
       "546                             Castelo-Branco, Miguel     1        545   \n",
       "544                                            Lei, Xu     1        546   \n",
       "545                                       Ramsey, Nick     1        547   \n",
       "547                                     Kessler, Klaus     1        548   \n",
       "\n",
       "     cumulative_subjects  \n",
       "0                     16  \n",
       "89                    40  \n",
       "88                    42  \n",
       "87                    55  \n",
       "86                    75  \n",
       "..                   ...  \n",
       "457                18513  \n",
       "546                18588  \n",
       "544                18648  \n",
       "545                18711  \n",
       "547                18758  \n",
       "\n",
       "[548 rows x 22 columns]"
      ]
     },
     "execution_count": 10,
     "metadata": {},
     "output_type": "execute_result"
    }
   ],
   "source": [
    "df_sorted = metadata.sort_values('ReleaseDate')\n",
    "df_sorted['ones'] = 1\n",
    "df_sorted['cumulative'] = df_sorted['ones'].cumsum()\n",
    "df_sorted['cumulative_subjects'] = df_sorted['NSubjects'].cumsum()\n",
    "dates = df_sorted['ReleaseDate'].unique()\n",
    "print('Earliest dataset:', dates.min())\n",
    "print('Latest dataset:', dates.max())\n",
    "\n",
    "# fix dates to reflect fact that early datasets were all from openneuro\n",
    "#df_sorted.loc[df_sorted['ReleaseDate'] < pd.Timestamp(2018,8,1), 'ReleaseDate'] = '2018-08-01'\n",
    "df_sorted"
   ]
  },
  {
   "cell_type": "code",
   "execution_count": 11,
   "metadata": {},
   "outputs": [
    {
     "name": "stderr",
     "output_type": "stream",
     "text": [
      "/tmp/ipykernel_3578579/4091817837.py:23: FutureWarning: casting datetime64[ns] values to int64 with .astype(...) is deprecated and will raise in a future version. Use .view(...) instead.\n",
      "  release_dates = df_plotting.index.astype(int)\n"
     ]
    },
    {
     "data": {
      "text/html": [
       "<div>\n",
       "<style scoped>\n",
       "    .dataframe tbody tr th:only-of-type {\n",
       "        vertical-align: middle;\n",
       "    }\n",
       "\n",
       "    .dataframe tbody tr th {\n",
       "        vertical-align: top;\n",
       "    }\n",
       "\n",
       "    .dataframe thead th {\n",
       "        text-align: right;\n",
       "    }\n",
       "</style>\n",
       "<table border=\"1\" class=\"dataframe\">\n",
       "  <thead>\n",
       "    <tr style=\"text-align: right;\">\n",
       "      <th></th>\n",
       "      <th>n_datasets</th>\n",
       "      <th>n_subjects</th>\n",
       "      <th>cumsum_datasets</th>\n",
       "      <th>cumsum_subjects</th>\n",
       "    </tr>\n",
       "    <tr>\n",
       "      <th>ReleaseDate</th>\n",
       "      <th></th>\n",
       "      <th></th>\n",
       "      <th></th>\n",
       "      <th></th>\n",
       "    </tr>\n",
       "  </thead>\n",
       "  <tbody>\n",
       "    <tr>\n",
       "      <th>2018-07-17</th>\n",
       "      <td>115</td>\n",
       "      <td>3899</td>\n",
       "      <td>115</td>\n",
       "      <td>3899</td>\n",
       "    </tr>\n",
       "    <tr>\n",
       "      <th>2018-07-18</th>\n",
       "      <td>12</td>\n",
       "      <td>278</td>\n",
       "      <td>127</td>\n",
       "      <td>4177</td>\n",
       "    </tr>\n",
       "    <tr>\n",
       "      <th>2018-07-19</th>\n",
       "      <td>1</td>\n",
       "      <td>1</td>\n",
       "      <td>128</td>\n",
       "      <td>4178</td>\n",
       "    </tr>\n",
       "    <tr>\n",
       "      <th>2018-07-24</th>\n",
       "      <td>1</td>\n",
       "      <td>1</td>\n",
       "      <td>129</td>\n",
       "      <td>4179</td>\n",
       "    </tr>\n",
       "    <tr>\n",
       "      <th>2018-07-26</th>\n",
       "      <td>1</td>\n",
       "      <td>18</td>\n",
       "      <td>130</td>\n",
       "      <td>4197</td>\n",
       "    </tr>\n",
       "    <tr>\n",
       "      <th>...</th>\n",
       "      <td>...</td>\n",
       "      <td>...</td>\n",
       "      <td>...</td>\n",
       "      <td>...</td>\n",
       "    </tr>\n",
       "    <tr>\n",
       "      <th>2021-06-09</th>\n",
       "      <td>1</td>\n",
       "      <td>58</td>\n",
       "      <td>544</td>\n",
       "      <td>18513</td>\n",
       "    </tr>\n",
       "    <tr>\n",
       "      <th>2021-06-10</th>\n",
       "      <td>1</td>\n",
       "      <td>75</td>\n",
       "      <td>545</td>\n",
       "      <td>18588</td>\n",
       "    </tr>\n",
       "    <tr>\n",
       "      <th>2021-06-11</th>\n",
       "      <td>1</td>\n",
       "      <td>60</td>\n",
       "      <td>546</td>\n",
       "      <td>18648</td>\n",
       "    </tr>\n",
       "    <tr>\n",
       "      <th>2021-06-13</th>\n",
       "      <td>1</td>\n",
       "      <td>63</td>\n",
       "      <td>547</td>\n",
       "      <td>18711</td>\n",
       "    </tr>\n",
       "    <tr>\n",
       "      <th>2021-06-15</th>\n",
       "      <td>1</td>\n",
       "      <td>47</td>\n",
       "      <td>548</td>\n",
       "      <td>18758</td>\n",
       "    </tr>\n",
       "  </tbody>\n",
       "</table>\n",
       "<p>322 rows × 4 columns</p>\n",
       "</div>"
      ],
      "text/plain": [
       "             n_datasets  n_subjects  cumsum_datasets  cumsum_subjects\n",
       "ReleaseDate                                                          \n",
       "2018-07-17          115        3899              115             3899\n",
       "2018-07-18           12         278              127             4177\n",
       "2018-07-19            1           1              128             4178\n",
       "2018-07-24            1           1              129             4179\n",
       "2018-07-26            1          18              130             4197\n",
       "...                 ...         ...              ...              ...\n",
       "2021-06-09            1          58              544            18513\n",
       "2021-06-10            1          75              545            18588\n",
       "2021-06-11            1          60              546            18648\n",
       "2021-06-13            1          63              547            18711\n",
       "2021-06-15            1          47              548            18758\n",
       "\n",
       "[322 rows x 4 columns]"
      ]
     },
     "execution_count": 11,
     "metadata": {},
     "output_type": "execute_result"
    }
   ],
   "source": [
    "from collections import defaultdict\n",
    "\n",
    "datasets = defaultdict(lambda: 0)\n",
    "subjects = defaultdict(lambda: 0)\n",
    "\n",
    "for date, nsub in metadata[[\"ReleaseDate\", \"NSubjects\"]].values:\n",
    "    datasets[date.strftime('%Y-%m-%d')] += 1\n",
    "    subjects[date.strftime('%Y-%m-%d')] += nsub\n",
    "\n",
    "datadict = defaultdict(list)\n",
    "for k in datasets.keys():\n",
    "    datadict[\"ReleaseDate\"].append(k)\n",
    "    datadict[\"n_datasets\"].append(datasets[k])\n",
    "    datadict[\"n_subjects\"].append(subjects[k])\n",
    "    \n",
    "df_plotting = pd.DataFrame(datadict)\n",
    "df_plotting['ReleaseDate'] = pd.to_datetime(df_plotting['ReleaseDate'])\n",
    "df_plotting = df_plotting.set_index(\"ReleaseDate\").sort_values(by=\"ReleaseDate\")\n",
    "\n",
    "df_plotting[\"cumsum_datasets\"] = df_plotting['n_datasets'].cumsum()\n",
    "df_plotting['cumsum_subjects'] = df_plotting['n_subjects'].cumsum()\n",
    "\n",
    "release_dates = df_plotting.index.astype(int)\n",
    "\n",
    "df_plotting"
   ]
  },
  {
   "cell_type": "code",
   "execution_count": 32,
   "metadata": {},
   "outputs": [
    {
     "name": "stdout",
     "output_type": "stream",
     "text": [
      "OpenNeuro surpassed the 10k datasets on April 02, 2020\n",
      "The latest report from June 15, 2021 yields 548 datasets, and 18758 subjects\n"
     ]
    }
   ],
   "source": [
    "print(f\"OpenNeuro surpassed the 10k datasets on {df_plotting[df_plotting['cumsum_subjects'] > 10000].index[0].strftime('%B %d, %Y')}\")\n",
    "print(f\"The latest report from {df_plotting.index[-1].strftime('%B %d, %Y')} yields {df_plotting['cumsum_datasets'].iloc[-1]} datasets, and {df_plotting['cumsum_subjects'].iloc[-1]} subjects\")"
   ]
  },
  {
   "cell_type": "code",
   "execution_count": 11,
   "metadata": {},
   "outputs": [
    {
     "name": "stderr",
     "output_type": "stream",
     "text": [
      "/tmp/ipykernel_3578110/336077133.py:1: FutureWarning: casting datetime64[ns] values to int64 with .astype(...) is deprecated and will raise in a future version. Use .view(...) instead.\n",
      "  midyears = pd.to_datetime([f\"20{yr}-07-02\" for yr in range(18, 22)]).astype(int)  # July 2 is the midpoint of year\n"
     ]
    }
   ],
   "source": [
    "midyears = pd.to_datetime([f\"20{yr}-07-02\" for yr in range(18, 22)]).astype(int)  # July 2 is the midpoint of year"
   ]
  },
  {
   "cell_type": "markdown",
   "metadata": {},
   "source": [
    "Plot # of datasets over time"
   ]
  },
  {
   "cell_type": "code",
   "execution_count": 12,
   "metadata": {},
   "outputs": [
    {
     "data": {
      "image/png": "[encoded data removed]",
      "text/plain": [
       "<Figure size 576x432 with 1 Axes>"
      ]
     },
     "metadata": {
      "needs_background": "light"
     },
     "output_type": "display_data"
    }
   ],
   "source": [
    "plt.figure(figsize=(8,6))\n",
    "sns.set(font_scale=2)  # crazy big\n",
    "sns.lineplot(x='ReleaseDate', y='cumsum_datasets', data=df_plotting)\n",
    "plt.xticks(rotation=90)\n",
    "plt.xlabel('Date')\n",
    "plt.ylabel('Total # of datasets')\n",
    "plt.tight_layout()\n",
    "# plt.savefig(os.path.join(figdir, 'n_datasets.pdf'))"
   ]
  },
  {
   "cell_type": "markdown",
   "metadata": {},
   "source": [
    "Plot # of subjects over time"
   ]
  },
  {
   "cell_type": "code",
   "execution_count": 13,
   "metadata": {},
   "outputs": [
    {
     "data": {
      "image/png": "[encoded data removed]",
      "text/plain": [
       "<Figure size 576x432 with 1 Axes>"
      ]
     },
     "metadata": {},
     "output_type": "display_data"
    }
   ],
   "source": [
    "plt.figure(figsize=(8,6))\n",
    "sns.set(font_scale=2)  # crazy big\n",
    "sns.lineplot(x='ReleaseDate', y='cumsum_subjects', data=df_plotting)\n",
    "plt.xticks(rotation=90)\n",
    "plt.xlabel('Date')\n",
    "plt.ylabel('Total # of subjects')\n",
    "plt.tight_layout()\n",
    "# plt.savefig(os.path.join(figdir, 'n_subjects.pdf'))"
   ]
  },
  {
   "cell_type": "markdown",
   "metadata": {},
   "source": [
    "Plot both together"
   ]
  },
  {
   "cell_type": "code",
   "execution_count": 14,
   "metadata": {},
   "outputs": [
    {
     "name": "stderr",
     "output_type": "stream",
     "text": [
      "/tmp/ipykernel_3578110/1675757724.py:109: FutureWarning: casting datetime64[ns] values to int64 with .astype(...) is deprecated and will raise in a future version. Use .view(...) instead.\n",
      "  years = pd.to_datetime([\"2018-01-05\", \"2018-12-26\",\n"
     ]
    },
    {
     "data": {
      "image/png": "[encoded data removed]",
      "text/plain": [
       "<Figure size 720x432 with 2 Axes>"
      ]
     },
     "metadata": {},
     "output_type": "display_data"
    }
   ],
   "source": [
    "# Edit general skin\n",
    "sns.set_style('whitegrid')\n",
    "fig, ax1 = plt.subplots(figsize=(10,6))\n",
    "\n",
    "# Plot Datasets\n",
    "color = 'tab:green'\n",
    "ax1.set_xlabel('Date', fontsize=20, fontname=\"Helvetica\")\n",
    "ax1 = sns.lineplot(x=release_dates, y=df_plotting['cumsum_datasets'], \n",
    "                   color=color, label='Datasets', linewidth=3.2)\n",
    "# Plot Subjects\n",
    "ax2 = ax1.twinx()\n",
    "color = 'tab:red'\n",
    "ax2 = sns.lineplot(x=release_dates, y=df_plotting['cumsum_subjects'],\n",
    "                   color=color, label='Subjects', linewidth=3.2)\n",
    "# Grid & spines\n",
    "ax1.grid(False)\n",
    "ax2.grid(False)\n",
    "ax1.spines.left.set_visible(False)\n",
    "ax2.spines.left.set_visible(False)\n",
    "ax1.spines.right.set_visible(False)\n",
    "ax2.spines.right.set_visible(False)\n",
    "ax1.spines.top.set_visible(False)\n",
    "ax2.spines.top.set_visible(False)\n",
    "ax1.spines.bottom.set_visible(False)\n",
    "ax2.spines.bottom.set_visible(False)\n",
    "# ax1.spines.bottom.set_position(('outward', 10))\n",
    "\n",
    "# Manipulate axes\n",
    "ax1.set_ylabel(None)\n",
    "ax2.set_ylabel(None)\n",
    "ax1.set_xlabel(None)\n",
    "ax2.set_xlabel(None)\n",
    "ax1.get_legend().remove()\n",
    "ax2.get_legend().remove()\n",
    "\n",
    "# Place year label at the middle of each year\n",
    "ax1.set_xticks(midyears)\n",
    "ax1.set_xticklabels([f\"20{yr}\" for yr in range(18, 22)], fontname=\"Helvetica\", fontsize=20, color=\"darkgray\")\n",
    "\n",
    "# Annotate total datasets\n",
    "x_lim = ax1.get_xlim()\n",
    "y1_lim = ax1.get_ylim()\n",
    "normalized_dates = (release_dates - x_lim[0]) / (x_lim[1] - x_lim[0])\n",
    "num_ds = [200, 300, 400, 500]\n",
    "x_dates_norm = np.interp(num_ds, df_plotting['cumsum_datasets'], normalized_dates)\n",
    "x_dates = np.interp(num_ds, df_plotting[\"cumsum_datasets\"], release_dates)\n",
    "y1_norm = (np.array(num_ds) - y1_lim[0]) / (y1_lim[1] - y1_lim[0])\n",
    "\n",
    "for y, x, y_norm in zip(num_ds, x_dates_norm, y1_norm):\n",
    "    xorig = max(x - 0.2, 0)\n",
    "    ax1.axhline(y=y, xmax=x, xmin=xorig, color='tab:green', alpha=0.4, linewidth=0.5)\n",
    "    ax1.text(xorig, y_norm + 0.01, f\"{y} datasets\",\n",
    "             transform=ax1.transAxes,\n",
    "             verticalalignment='bottom', horizontalalignment='left',\n",
    "             color='tab:green', fontname=\"Helvetica\", fontsize=14)\n",
    "\n",
    "ax1.plot(\n",
    "    x_dates,\n",
    "    num_ds,\n",
    "    marker=\"o\",\n",
    "    markeredgecolor=\"tab:green\",\n",
    "    markerfacecolor=\"white\",\n",
    "    color=\"white\",\n",
    "    ms=6,\n",
    "    markeredgewidth=2.2,\n",
    "    fillstyle=\"full\",\n",
    "    linestyle=\"None\",\n",
    ")\n",
    "    \n",
    "# Annotate total subjects\n",
    "num_subj = [6000, 10000, 14000, 18000]\n",
    "x_subj_dates = np.interp(num_subj, df_plotting['cumsum_subjects'], normalized_dates)\n",
    "x2_dates = np.interp(num_subj, df_plotting[\"cumsum_subjects\"], release_dates)\n",
    "y2_lim = ax2.get_ylim()\n",
    "y2_norm = (np.array(num_subj) - y2_lim[0]) / (y2_lim[1] - y2_lim[0])\n",
    "for y, x, y_norm in zip(num_subj, x_subj_dates, y2_norm):\n",
    "    xend = min(x + 0.2, 1.0)\n",
    "    ax2.axhline(y=y, xmin=x, xmax=xend, color='tab:red', alpha=0.4, linewidth=0.5)\n",
    "    ax2.text(xend, y_norm - 0.01, f\"{y // 1000}k\",\n",
    "             transform=ax2.transAxes,\n",
    "             verticalalignment='top', horizontalalignment='right',\n",
    "             color='tab:red', fontname=\"Helvetica\", fontsize=14)\n",
    "    \n",
    "ax2.plot(\n",
    "    np.interp(num_subj, df_plotting[\"cumsum_subjects\"], release_dates),\n",
    "    num_subj,\n",
    "    marker=\"o\",\n",
    "    markeredgecolor=\"tab:red\",\n",
    "    markerfacecolor=\"white\",\n",
    "    color=\"white\",\n",
    "    ms=6,\n",
    "    markeredgewidth=2.2,\n",
    "    fillstyle=\"full\",\n",
    "    linestyle=\"None\",\n",
    ")\n",
    "\n",
    "# Add Y-axis labels in the middle of the plot, linked by color\n",
    "ax2.text(0.05, 0.9, 'Total number of datasets',\n",
    "         verticalalignment='top', horizontalalignment='left',\n",
    "         transform=ax2.transAxes,\n",
    "         color='tab:green', fontname=\"Helvetica\", fontsize=20)\n",
    "\n",
    "ax2.text(0.95, 0.05, 'Total number of subjects',\n",
    "         verticalalignment='bottom', horizontalalignment='right',\n",
    "         transform=ax2.transAxes,\n",
    "         color='tab:red', fontname=\"Helvetica\", fontsize=20)\n",
    "\n",
    "# Replace X-axis with a fancier timeline plot\n",
    "years = pd.to_datetime([\"2018-01-05\", \"2018-12-26\",\n",
    "                    \"2019-01-05\", \"2019-12-26\",\n",
    "                    \"2020-01-05\", \"2020-12-26\",\n",
    "                    \"2021-01-05\", \"2021-12-26\",]).astype(int).values\n",
    "years_norm = (years - x_lim[0]) / (x_lim[1] - x_lim[0])\n",
    "years_norm[0] = 0.0\n",
    "years_norm[-1] = 1.0\n",
    "\n",
    "for yr_start, yr_end in years_norm.reshape(-1, 2):\n",
    "    ax1.axhline(\n",
    "        y1_lim[0],\n",
    "        xmin=yr_start,\n",
    "        xmax=yr_end,\n",
    "        clip_on=False,\n",
    "        color=\"darkgray\",\n",
    "        linewidth=1,\n",
    "    )\n",
    "\n",
    "for yr in years[1:-1]:\n",
    "    ax1.axvline(\n",
    "        yr,\n",
    "        ymin=0,\n",
    "        ymax=0.02,\n",
    "        clip_on=False,\n",
    "        color=\"darkgray\",\n",
    "        linewidth=2,\n",
    "    )        \n",
    "        \n",
    "ax1.set_yticks([])\n",
    "ax2.set_yticks([])\n",
    "        \n",
    "plt.tight_layout()\n",
    "plt.savefig('combined_growth.png')\n",
    "plt.savefig('combined_growth.pdf')"
   ]
  },
  {
   "cell_type": "markdown",
   "metadata": {},
   "source": [
    "## analysis of data types: species"
   ]
  },
  {
   "cell_type": "code",
   "execution_count": 15,
   "metadata": {},
   "outputs": [
    {
     "name": "stdout",
     "output_type": "stream",
     "text": [
      "Total # of datasets: 543\n"
     ]
    },
    {
     "data": {
      "text/plain": [
       "Human            517\n",
       "Mouse             17\n",
       "Rat                5\n",
       "NHP                2\n",
       "phantoms           1\n",
       "Juvenile pigs      1\n",
       "Name: Species, dtype: int64"
      ]
     },
     "execution_count": 15,
     "metadata": {},
     "output_type": "execute_result"
    }
   ],
   "source": [
    "# clean up labels\n",
    "cleanup_dict = {'Mice': 'Mouse',\n",
    "               'Rats': 'Rat',\n",
    "                'rat': 'Rat',\n",
    "                'Adult Wistar rats': 'Rat',\n",
    "               'C57bl/6 mixed gender mice': 'Mouse',\n",
    "               'mouse': 'Mouse',\n",
    "               'Macaque': 'NHP',\n",
    "               'mouse lemur': 'NHP'}\n",
    "\n",
    "species_counts_clean = {'Mouse': 0,\n",
    "                        'Rat': 0,\n",
    "                       'Human': 0,\n",
    "                       'Phantom': 0,\n",
    "                       'NHP': 0}\n",
    "\n",
    "for idx in df_sorted.index:\n",
    "    if df_sorted.loc[idx,'Species'] in cleanup_dict:\n",
    "        df_sorted.loc[idx, 'Species'] = cleanup_dict[df_sorted.loc[idx,'Species']]\n",
    "\n",
    "species_counts = df_sorted['Species'].value_counts()\n",
    "for i in range(species_counts.loc['Mice and Rats']):\n",
    "    species_counts.loc['Mouse'] = species_counts.loc['Mouse'] + 1\n",
    "    species_counts.loc['Rat'] = species_counts.loc['Rat'] + 1\n",
    "species_counts.drop('Mice and Rats', inplace=True)\n",
    "print('Total # of datasets:', species_counts.sum())\n",
    "species_counts"
   ]
  },
  {
   "cell_type": "code",
   "execution_count": 16,
   "metadata": {},
   "outputs": [
    {
     "data": {
      "text/plain": [
       "Human            0.952118\n",
       "Mouse            0.031308\n",
       "Rat              0.009208\n",
       "NHP              0.003683\n",
       "phantoms         0.001842\n",
       "Juvenile pigs    0.001842\n",
       "Name: Species, dtype: float64"
      ]
     },
     "execution_count": 16,
     "metadata": {},
     "output_type": "execute_result"
    }
   ],
   "source": [
    "species_counts/species_counts.sum()"
   ]
  },
  {
   "cell_type": "markdown",
   "metadata": {},
   "source": [
    "## analysis of data types: modality"
   ]
  },
  {
   "cell_type": "code",
   "execution_count": 17,
   "metadata": {},
   "outputs": [],
   "source": [
    "\n",
    "modalities = df_sorted['Modalities'].dropna()\n",
    "\n",
    "mod_list = defaultdict(lambda: 0)\n",
    "\n",
    "for i in modalities:\n",
    "    for k in i.split(','):\n",
    "        k = k.lstrip().lower()\n",
    "        mod_list[k] = mod_list[k] + 1"
   ]
  },
  {
   "cell_type": "code",
   "execution_count": 18,
   "metadata": {},
   "outputs": [
    {
     "data": {
      "text/plain": [
       "mri - anat     465\n",
       "mri - func     413\n",
       "field map       71\n",
       "eeg             63\n",
       "mri - dwi       52\n",
       "fieldmap        35\n",
       "meg             21\n",
       "beh             11\n",
       "pet              8\n",
       "ieeg             8\n",
       "asl              3\n",
       "fmap             2\n",
       "ute              1\n",
       "dixon            1\n",
       "field map        1\n",
       "calibration      1\n",
       "fieldmaps        1\n",
       "swi              1\n",
       "eyetrack         1\n",
       "stat             1\n",
       "angiography      1\n",
       "venograms        1\n",
       "angiograms       1\n",
       "motion           1\n",
       "dtype: int64"
      ]
     },
     "execution_count": 18,
     "metadata": {},
     "output_type": "execute_result"
    }
   ],
   "source": [
    "mod_df = pd.Series(mod_list)\n",
    "mod_df.sort_values(ascending=False)"
   ]
  },
  {
   "cell_type": "markdown",
   "metadata": {},
   "source": [
    "## Analysis of dataset size"
   ]
  },
  {
   "cell_type": "code",
   "execution_count": 19,
   "metadata": {},
   "outputs": [
    {
     "data": {
      "text/plain": [
       "<seaborn.axisgrid.FacetGrid at 0x7fad97df7850>"
      ]
     },
     "execution_count": 19,
     "metadata": {},
     "output_type": "execute_result"
    },
    {
     "data": {
      "image/png": "[encoded data removed]",
      "text/plain": [
       "<Figure size 360x360 with 1 Axes>"
      ]
     },
     "metadata": {},
     "output_type": "display_data"
    }
   ],
   "source": [
    "# number of subjects\n",
    "import numpy as np\n",
    "df_sorted['nsubs'] = df_sorted['NSubjects']\n",
    "nsubs = df_sorted.query('nsubs > 0')['NSubjects']\n",
    "sns.displot(nsubs) #, log_scale=True)"
   ]
  },
  {
   "cell_type": "code",
   "execution_count": 20,
   "metadata": {},
   "outputs": [
    {
     "name": "stdout",
     "output_type": "stream",
     "text": [
      "median # of subjects: 22.0\n"
     ]
    }
   ],
   "source": [
    "print('median # of subjects:', nsubs.median())\n"
   ]
  },
  {
   "cell_type": "code",
   "execution_count": 21,
   "metadata": {},
   "outputs": [
    {
     "name": "stdout",
     "output_type": "stream",
     "text": [
      "# of datasets with more than 100 subjects 28\n"
     ]
    }
   ],
   "source": [
    "print('# of datasets with more than 100 subjects', (nsubs > 100).sum())"
   ]
  },
  {
   "cell_type": "code",
   "execution_count": 22,
   "metadata": {},
   "outputs": [
    {
     "name": "stdout",
     "output_type": "stream",
     "text": [
      "maximum dataset size: 928\n"
     ]
    }
   ],
   "source": [
    "print('maximum dataset size:', nsubs.max())"
   ]
  },
  {
   "cell_type": "markdown",
   "metadata": {},
   "source": [
    "## Analysis of sessions\n",
    "\n",
    "Using data obtained from datalad datasets"
   ]
  },
  {
   "cell_type": "code",
   "execution_count": 23,
   "metadata": {},
   "outputs": [
    {
     "data": {
      "text/html": [
       "<div>\n",
       "<style scoped>\n",
       "    .dataframe tbody tr th:only-of-type {\n",
       "        vertical-align: middle;\n",
       "    }\n",
       "\n",
       "    .dataframe tbody tr th {\n",
       "        vertical-align: top;\n",
       "    }\n",
       "\n",
       "    .dataframe thead th {\n",
       "        text-align: right;\n",
       "    }\n",
       "</style>\n",
       "<table border=\"1\" class=\"dataframe\">\n",
       "  <thead>\n",
       "    <tr style=\"text-align: right;\">\n",
       "      <th></th>\n",
       "      <th>Unnamed: 0</th>\n",
       "      <th>dsnum</th>\n",
       "      <th>ntasks</th>\n",
       "      <th>nsessions</th>\n",
       "      <th>nsubs</th>\n",
       "      <th>tasknames</th>\n",
       "    </tr>\n",
       "  </thead>\n",
       "  <tbody>\n",
       "    <tr>\n",
       "      <th>0</th>\n",
       "      <td>0</td>\n",
       "      <td>ds000001</td>\n",
       "      <td>1</td>\n",
       "      <td>1</td>\n",
       "      <td>16</td>\n",
       "      <td>{'balloon analog risk task'}</td>\n",
       "    </tr>\n",
       "    <tr>\n",
       "      <th>1</th>\n",
       "      <td>1</td>\n",
       "      <td>ds000002</td>\n",
       "      <td>3</td>\n",
       "      <td>1</td>\n",
       "      <td>17</td>\n",
       "      <td>{'probabilistic classification', 'mixed event-...</td>\n",
       "    </tr>\n",
       "    <tr>\n",
       "      <th>2</th>\n",
       "      <td>2</td>\n",
       "      <td>ds000003</td>\n",
       "      <td>1</td>\n",
       "      <td>1</td>\n",
       "      <td>13</td>\n",
       "      <td>{'rhyme judgment'}</td>\n",
       "    </tr>\n",
       "    <tr>\n",
       "      <th>3</th>\n",
       "      <td>3</td>\n",
       "      <td>ds000005</td>\n",
       "      <td>1</td>\n",
       "      <td>1</td>\n",
       "      <td>16</td>\n",
       "      <td>{'mixed-gambles task'}</td>\n",
       "    </tr>\n",
       "    <tr>\n",
       "      <th>4</th>\n",
       "      <td>4</td>\n",
       "      <td>ds000006</td>\n",
       "      <td>1</td>\n",
       "      <td>2</td>\n",
       "      <td>14</td>\n",
       "      <td>{'living-nonliving decision with plain or mirr...</td>\n",
       "    </tr>\n",
       "  </tbody>\n",
       "</table>\n",
       "</div>"
      ],
      "text/plain": [
       "   Unnamed: 0     dsnum  ntasks  nsessions  nsubs  \\\n",
       "0           0  ds000001       1          1     16   \n",
       "1           1  ds000002       3          1     17   \n",
       "2           2  ds000003       1          1     13   \n",
       "3           3  ds000005       1          1     16   \n",
       "4           4  ds000006       1          2     14   \n",
       "\n",
       "                                           tasknames  \n",
       "0                       {'balloon analog risk task'}  \n",
       "1  {'probabilistic classification', 'mixed event-...  \n",
       "2                                 {'rhyme judgment'}  \n",
       "3                             {'mixed-gambles task'}  \n",
       "4  {'living-nonliving decision with plain or mirr...  "
      ]
     },
     "execution_count": 23,
     "metadata": {},
     "output_type": "execute_result"
    }
   ],
   "source": [
    "datalad_metadata = pd.read_csv('../data/openneuro/ds_info.csv')\n",
    "datalad_metadata.head()"
   ]
  },
  {
   "cell_type": "code",
   "execution_count": 24,
   "metadata": {},
   "outputs": [
    {
     "data": {
      "text/plain": [
       "<seaborn.axisgrid.FacetGrid at 0x7fad97e6c1c0>"
      ]
     },
     "execution_count": 24,
     "metadata": {},
     "output_type": "execute_result"
    },
    {
     "data": {
      "image/png": "[encoded data removed]",
      "text/plain": [
       "<Figure size 360x360 with 1 Axes>"
      ]
     },
     "metadata": {},
     "output_type": "display_data"
    }
   ],
   "source": [
    "sns.displot(datalad_metadata.nsessions, bins=50)"
   ]
  },
  {
   "cell_type": "code",
   "execution_count": 25,
   "metadata": {},
   "outputs": [
    {
     "name": "stdout",
     "output_type": "stream",
     "text": [
      "max # of sessions: 107\n",
      "# of datasets with more than 1 session: 121\n"
     ]
    }
   ],
   "source": [
    "print('max # of sessions:', datalad_metadata.nsessions.max())\n",
    "print('# of datasets with more than 1 session:', (datalad_metadata.nsessions > 1).sum())\n"
   ]
  },
  {
   "cell_type": "code",
   "execution_count": 26,
   "metadata": {},
   "outputs": [
    {
     "name": "stdout",
     "output_type": "stream",
     "text": [
      "max # of tasks: 48\n",
      "# of datasets with more than 1 task: 189\n"
     ]
    }
   ],
   "source": [
    "# further analysis of tasks is done in task_analysis.ipynb\n",
    "print('max # of tasks:', datalad_metadata.ntasks.max())\n",
    "print('# of datasets with more than 1 task:', (datalad_metadata.ntasks > 1).sum())\n"
   ]
  },
  {
   "cell_type": "markdown",
   "metadata": {},
   "source": [
    "## Analysis of publications"
   ]
  },
  {
   "cell_type": "code",
   "execution_count": 27,
   "metadata": {},
   "outputs": [
    {
     "name": "stdout",
     "output_type": "stream",
     "text": [
      "Proportion of papers with a DOI: 0.7226277372262774\n"
     ]
    }
   ],
   "source": [
    "print('Proportion of papers with a DOI:',\n",
    "      df_sorted['DOI of paper associated with DS (from submitter lab)'].dropna().shape[0]/df_sorted.shape[0])"
   ]
  },
  {
   "cell_type": "code",
   "execution_count": 28,
   "metadata": {},
   "outputs": [
    {
     "name": "stdout",
     "output_type": "stream",
     "text": [
      "# of papers associated with more than one DOI: 66\n",
      "# of unique DOIs: 570\n"
     ]
    }
   ],
   "source": [
    "dois = []\n",
    "multi_doi = 0\n",
    "for i in df_sorted['DOI of paper associated with DS (from submitter lab)'].dropna():\n",
    "    i_s = i.split(',')\n",
    "    if len(i_s) > 1:\n",
    "        multi_doi += 1\n",
    "    dois = dois + i_s\n",
    "    \n",
    "print('# of papers associated with more than one DOI:', multi_doi)\n",
    "print('# of unique DOIs:', len(set(dois)))"
   ]
  },
  {
   "cell_type": "markdown",
   "metadata": {},
   "source": [
    "## figure showing width/breadth/depth"
   ]
  },
  {
   "cell_type": "code",
   "execution_count": 29,
   "metadata": {},
   "outputs": [
    {
     "data": {
      "text/plain": [
       "(469, 6)"
      ]
     },
     "execution_count": 29,
     "metadata": {},
     "output_type": "execute_result"
    }
   ],
   "source": [
    "datalad_metadata.shape"
   ]
  },
  {
   "cell_type": "code",
   "execution_count": 30,
   "metadata": {},
   "outputs": [
    {
     "data": {
      "image/png": "[encoded data removed]",
      "text/plain": [
       "<Figure size 864x864 with 1 Axes>"
      ]
     },
     "metadata": {},
     "output_type": "display_data"
    }
   ],
   "source": [
    "sns.set_style('whitegrid')\n",
    "plt.figure(figsize=(12, 12))\n",
    "splot = sns.scatterplot(x='nsubs', y='nsessions', size='ntasks', hue='ntasks',\n",
    "                         data=datalad_metadata,\n",
    "                        sizes=(50, 300), palette=\"dark\",\n",
    "                        legend = 'brief')\n",
    "\n",
    "splot.set(xscale=\"log\")\n",
    "splot.set(yscale=\"log\")\n",
    "plt.xlim([.5, 1000])\n",
    "plt.xlabel('Number of participants', fontsize=32)\n",
    "plt.ylabel('Number of sessions', fontsize=32)\n",
    "\n",
    "leg = splot.axes.get_legend()\n",
    "new_title = '# of tasks'\n",
    "leg.set_title(new_title)\n",
    "\n",
    "for axis in [splot.xaxis, splot.yaxis]:\n",
    "    formatter = ScalarFormatter()\n",
    "    formatter.set_scientific(False)\n",
    "    axis.set_major_formatter(formatter)\n",
    "\n",
    "handles, labels = splot.get_legend_handles_labels()\n",
    "for i, h in enumerate(handles[1:15]):\n",
    "    h.set_sizes([24 + int(labels[i+1])*4])\n",
    "splot.legend(handles=handles[1:15], labels=labels[1:15], loc=1, \n",
    "            ncol=2, bbox_to_anchor=(1,1), title='Number of tasks')\n",
    "plt.tight_layout()\n",
    "# plt.savefig('../figures/dataset_size.png')\n"
   ]
  },
  {
   "cell_type": "code",
   "execution_count": 31,
   "metadata": {},
   "outputs": [
    {
     "data": {
      "text/plain": [
       "['_A',\n",
       " '__class__',\n",
       " '__delattr__',\n",
       " '__dict__',\n",
       " '__dir__',\n",
       " '__doc__',\n",
       " '__eq__',\n",
       " '__format__',\n",
       " '__ge__',\n",
       " '__getattribute__',\n",
       " '__getstate__',\n",
       " '__gt__',\n",
       " '__hash__',\n",
       " '__init__',\n",
       " '__init_subclass__',\n",
       " '__le__',\n",
       " '__lt__',\n",
       " '__module__',\n",
       " '__ne__',\n",
       " '__new__',\n",
       " '__reduce__',\n",
       " '__reduce_ex__',\n",
       " '__repr__',\n",
       " '__setattr__',\n",
       " '__sizeof__',\n",
       " '__str__',\n",
       " '__subclasshook__',\n",
       " '__weakref__',\n",
       " '_add_checker',\n",
       " '_agg_filter',\n",
       " '_alias_map',\n",
       " '_alpha',\n",
       " '_animated',\n",
       " '_antialiaseds',\n",
       " '_axes',\n",
       " '_bcast_lwls',\n",
       " '_callbacks',\n",
       " '_capstyle',\n",
       " '_check_update',\n",
       " '_clipon',\n",
       " '_clippath',\n",
       " '_contains',\n",
       " '_default_contains',\n",
       " '_edge_default',\n",
       " '_edge_is_mapped',\n",
       " '_edgecolors',\n",
       " '_face_is_mapped',\n",
       " '_facecolors',\n",
       " '_factor',\n",
       " '_get_clipping_extent_bbox',\n",
       " '_get_default_antialiased',\n",
       " '_get_default_edgecolor',\n",
       " '_get_default_facecolor',\n",
       " '_get_default_linewidth',\n",
       " '_gid',\n",
       " '_hatch',\n",
       " '_hatch_color',\n",
       " '_in_layout',\n",
       " '_joinstyle',\n",
       " '_label',\n",
       " '_linestyles',\n",
       " '_linewidths',\n",
       " '_mapped_colors',\n",
       " '_mouseover',\n",
       " '_offset_position',\n",
       " '_offsets',\n",
       " '_offsetsNone',\n",
       " '_original_edgecolor',\n",
       " '_original_facecolor',\n",
       " '_path_effects',\n",
       " '_paths',\n",
       " '_picker',\n",
       " '_pickradius',\n",
       " '_prepare_points',\n",
       " '_rasterized',\n",
       " '_remove_method',\n",
       " '_scale_norm',\n",
       " '_set_alpha_for_array',\n",
       " '_set_edgecolor',\n",
       " '_set_facecolor',\n",
       " '_set_gc_clip',\n",
       " '_set_mappable_flags',\n",
       " '_sizes',\n",
       " '_sketch',\n",
       " '_snap',\n",
       " '_stale',\n",
       " '_sticky_edges',\n",
       " '_transOffset',\n",
       " '_transform',\n",
       " '_transformSet',\n",
       " '_transforms',\n",
       " '_uniform_offsets',\n",
       " '_update_dict',\n",
       " '_url',\n",
       " '_urls',\n",
       " '_us_linestyles',\n",
       " '_us_lw',\n",
       " '_visible',\n",
       " 'add_callback',\n",
       " 'add_checker',\n",
       " 'autoscale',\n",
       " 'autoscale_None',\n",
       " 'axes',\n",
       " 'callbacksSM',\n",
       " 'changed',\n",
       " 'check_update',\n",
       " 'clipbox',\n",
       " 'cmap',\n",
       " 'colorbar',\n",
       " 'contains',\n",
       " 'convert_xunits',\n",
       " 'convert_yunits',\n",
       " 'draw',\n",
       " 'figure',\n",
       " 'findobj',\n",
       " 'format_cursor_data',\n",
       " 'get_agg_filter',\n",
       " 'get_alpha',\n",
       " 'get_animated',\n",
       " 'get_array',\n",
       " 'get_capstyle',\n",
       " 'get_children',\n",
       " 'get_clim',\n",
       " 'get_clip_box',\n",
       " 'get_clip_on',\n",
       " 'get_clip_path',\n",
       " 'get_cmap',\n",
       " 'get_contains',\n",
       " 'get_cursor_data',\n",
       " 'get_dashes',\n",
       " 'get_datalim',\n",
       " 'get_ec',\n",
       " 'get_edgecolor',\n",
       " 'get_edgecolors',\n",
       " 'get_facecolor',\n",
       " 'get_facecolors',\n",
       " 'get_fc',\n",
       " 'get_figure',\n",
       " 'get_fill',\n",
       " 'get_gid',\n",
       " 'get_hatch',\n",
       " 'get_in_layout',\n",
       " 'get_joinstyle',\n",
       " 'get_label',\n",
       " 'get_linestyle',\n",
       " 'get_linestyles',\n",
       " 'get_linewidth',\n",
       " 'get_linewidths',\n",
       " 'get_ls',\n",
       " 'get_lw',\n",
       " 'get_offset_position',\n",
       " 'get_offset_transform',\n",
       " 'get_offsets',\n",
       " 'get_path_effects',\n",
       " 'get_paths',\n",
       " 'get_picker',\n",
       " 'get_pickradius',\n",
       " 'get_rasterized',\n",
       " 'get_sizes',\n",
       " 'get_sketch_params',\n",
       " 'get_snap',\n",
       " 'get_tightbbox',\n",
       " 'get_transform',\n",
       " 'get_transformed_clip_path_and_affine',\n",
       " 'get_transforms',\n",
       " 'get_url',\n",
       " 'get_urls',\n",
       " 'get_visible',\n",
       " 'get_window_extent',\n",
       " 'get_zorder',\n",
       " 'have_units',\n",
       " 'is_transform_set',\n",
       " 'legend_elements',\n",
       " 'mouseover',\n",
       " 'norm',\n",
       " 'pchanged',\n",
       " 'pick',\n",
       " 'pickable',\n",
       " 'properties',\n",
       " 'remove',\n",
       " 'remove_callback',\n",
       " 'set',\n",
       " 'set_aa',\n",
       " 'set_agg_filter',\n",
       " 'set_alpha',\n",
       " 'set_animated',\n",
       " 'set_antialiased',\n",
       " 'set_antialiaseds',\n",
       " 'set_array',\n",
       " 'set_capstyle',\n",
       " 'set_clim',\n",
       " 'set_clip_box',\n",
       " 'set_clip_on',\n",
       " 'set_clip_path',\n",
       " 'set_cmap',\n",
       " 'set_color',\n",
       " 'set_contains',\n",
       " 'set_dashes',\n",
       " 'set_ec',\n",
       " 'set_edgecolor',\n",
       " 'set_edgecolors',\n",
       " 'set_facecolor',\n",
       " 'set_facecolors',\n",
       " 'set_fc',\n",
       " 'set_figure',\n",
       " 'set_gid',\n",
       " 'set_hatch',\n",
       " 'set_in_layout',\n",
       " 'set_joinstyle',\n",
       " 'set_label',\n",
       " 'set_linestyle',\n",
       " 'set_linestyles',\n",
       " 'set_linewidth',\n",
       " 'set_linewidths',\n",
       " 'set_ls',\n",
       " 'set_lw',\n",
       " 'set_norm',\n",
       " 'set_offset_position',\n",
       " 'set_offsets',\n",
       " 'set_path_effects',\n",
       " 'set_paths',\n",
       " 'set_picker',\n",
       " 'set_pickradius',\n",
       " 'set_rasterized',\n",
       " 'set_sizes',\n",
       " 'set_sketch_params',\n",
       " 'set_snap',\n",
       " 'set_transform',\n",
       " 'set_url',\n",
       " 'set_urls',\n",
       " 'set_visible',\n",
       " 'set_zorder',\n",
       " 'stale',\n",
       " 'stale_callback',\n",
       " 'sticky_edges',\n",
       " 'to_rgba',\n",
       " 'update',\n",
       " 'update_dict',\n",
       " 'update_from',\n",
       " 'update_scalarmappable',\n",
       " 'zorder']"
      ]
     },
     "execution_count": 31,
     "metadata": {},
     "output_type": "execute_result"
    }
   ],
   "source": [
    "dir(handles[0])"
   ]
  },
  {
   "cell_type": "code",
   "execution_count": 32,
   "metadata": {},
   "outputs": [
    {
     "data": {
      "text/plain": [
       "['0',\n",
       " '1',\n",
       " '2',\n",
       " '3',\n",
       " '4',\n",
       " '5',\n",
       " '6',\n",
       " '7',\n",
       " '8',\n",
       " '9',\n",
       " '10',\n",
       " '11',\n",
       " '12',\n",
       " '42',\n",
       " '48',\n",
       " '0',\n",
       " '8',\n",
       " '16',\n",
       " '24',\n",
       " '32',\n",
       " '40',\n",
       " '48']"
      ]
     },
     "execution_count": 32,
     "metadata": {},
     "output_type": "execute_result"
    }
   ],
   "source": [
    "labels"
   ]
  },
  {
   "cell_type": "code",
   "execution_count": null,
   "metadata": {},
   "outputs": [],
   "source": []
  }
 ],
 "metadata": {
  "kernelspec": {
   "display_name": "Python 3 (ipykernel)",
   "language": "python",
   "name": "python3"
  },
  "language_info": {
   "codemirror_mode": {
    "name": "ipython",
    "version": 3
   },
   "file_extension": ".py",
   "mimetype": "text/x-python",
   "name": "python",
   "nbconvert_exporter": "python",
   "pygments_lexer": "ipython3",
   "version": "3.8.5"
  }
 },
 "nbformat": 4,
 "nbformat_minor": 4
}
